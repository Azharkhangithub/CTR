{
 "cells": [
  {
   "cell_type": "markdown",
   "id": "a783f4a6",
   "metadata": {},
   "source": [
    "## Import Libraries"
   ]
  },
  {
   "cell_type": "code",
   "execution_count": 1,
   "id": "379ef3e3",
   "metadata": {},
   "outputs": [],
   "source": [
    "import pandas as pd\n",
    "import numpy as np\n",
    "import matplotlib.pyplot as plt\n",
    "import seaborn as sb\n",
    "# Suppressing Warnings\n",
    "import warnings\n",
    "warnings.filterwarnings('ignore')\n",
    "#Import the required ML libraries\n",
    "from sklearn.metrics import roc_auc_score,f1_score,roc_curve\n",
    "from sklearn.metrics import confusion_matrix, classification_report,recall_score,precision_score\n",
    "from sklearn.model_selection import train_test_split,cross_val_score\n",
    "from sklearn import metrics\n",
    "from sklearn.linear_model import LogisticRegression\n",
    "from sklearn.ensemble import RandomForestClassifier\n",
    "from sklearn.dummy import DummyClassifier\n",
    "from sklearn.model_selection import KFold\n",
    "from sklearn.model_selection import GridSearchCV\n",
    "from sklearn.ensemble import BaggingClassifier\n",
    "from sklearn.metrics import accuracy_score\n",
    "from sklearn.ensemble import GradientBoostingClassifier\n",
    "from sklearn.feature_selection import RFE,RFECV\n",
    "from sklearn.tree import DecisionTreeClassifier\n",
    "from xgboost import XGBClassifier"
   ]
  },
  {
   "cell_type": "markdown",
   "id": "9e037266",
   "metadata": {},
   "source": [
    "## Data Description"
   ]
  },
  {
   "cell_type": "code",
   "execution_count": 2,
   "id": "fce4946a",
   "metadata": {},
   "outputs": [],
   "source": [
    "data_discription = pd.read_csv('Data+Description+-+Sheet1.csv')\n",
    "pd.set_option('display.max_rows', None)\n",
    "pd.set_option('display.max_columns', None)\n",
    "pd.set_option('display.width', None)"
   ]
  },
  {
   "cell_type": "code",
   "execution_count": 3,
   "id": "86fd2bca",
   "metadata": {},
   "outputs": [
    {
     "data": {
      "text/html": [
       "<div>\n",
       "<style scoped>\n",
       "    .dataframe tbody tr th:only-of-type {\n",
       "        vertical-align: middle;\n",
       "    }\n",
       "\n",
       "    .dataframe tbody tr th {\n",
       "        vertical-align: top;\n",
       "    }\n",
       "\n",
       "    .dataframe thead th {\n",
       "        text-align: right;\n",
       "    }\n",
       "</style>\n",
       "<table border=\"1\" class=\"dataframe\">\n",
       "  <thead>\n",
       "    <tr style=\"text-align: right;\">\n",
       "      <th></th>\n",
       "      <th>Variable</th>\n",
       "      <th>Description</th>\n",
       "    </tr>\n",
       "  </thead>\n",
       "  <tbody>\n",
       "    <tr>\n",
       "      <th>0</th>\n",
       "      <td>click:</td>\n",
       "      <td>0/1 for non-click/click</td>\n",
       "    </tr>\n",
       "    <tr>\n",
       "      <th>1</th>\n",
       "      <td>hour: format is YYMMDDHH, so 14091123 means 23...</td>\n",
       "      <td>NaN</td>\n",
       "    </tr>\n",
       "    <tr>\n",
       "      <th>2</th>\n",
       "      <td>C1</td>\n",
       "      <td>anonymized categorical variable</td>\n",
       "    </tr>\n",
       "    <tr>\n",
       "      <th>3</th>\n",
       "      <td>banner_pos</td>\n",
       "      <td>position of the ad/banner on the page</td>\n",
       "    </tr>\n",
       "    <tr>\n",
       "      <th>4</th>\n",
       "      <td>site_id</td>\n",
       "      <td>unique id of the site on which the ad is shown</td>\n",
       "    </tr>\n",
       "    <tr>\n",
       "      <th>5</th>\n",
       "      <td>site_domain</td>\n",
       "      <td>unique domain of the site on which the ad is s...</td>\n",
       "    </tr>\n",
       "    <tr>\n",
       "      <th>6</th>\n",
       "      <td>site_category</td>\n",
       "      <td>category of the site on which the ad is shown</td>\n",
       "    </tr>\n",
       "    <tr>\n",
       "      <th>7</th>\n",
       "      <td>app_id</td>\n",
       "      <td>app id of the site on which the ad is shown</td>\n",
       "    </tr>\n",
       "    <tr>\n",
       "      <th>8</th>\n",
       "      <td>app_domain</td>\n",
       "      <td>app category of the site on which the ad is shown</td>\n",
       "    </tr>\n",
       "    <tr>\n",
       "      <th>9</th>\n",
       "      <td>app_category</td>\n",
       "      <td>category id of the site on which the ad is shown</td>\n",
       "    </tr>\n",
       "    <tr>\n",
       "      <th>10</th>\n",
       "      <td>device_id</td>\n",
       "      <td>device id on which the add was shown</td>\n",
       "    </tr>\n",
       "    <tr>\n",
       "      <th>11</th>\n",
       "      <td>device_ip</td>\n",
       "      <td>ip address of the device on which the ad was s...</td>\n",
       "    </tr>\n",
       "    <tr>\n",
       "      <th>12</th>\n",
       "      <td>device_model</td>\n",
       "      <td>model type of the device on which the ad was s...</td>\n",
       "    </tr>\n",
       "    <tr>\n",
       "      <th>13</th>\n",
       "      <td>device_type</td>\n",
       "      <td>the device type on which the ad was shown</td>\n",
       "    </tr>\n",
       "    <tr>\n",
       "      <th>14</th>\n",
       "      <td>device_conn_type</td>\n",
       "      <td>the connection type of the device on which the...</td>\n",
       "    </tr>\n",
       "    <tr>\n",
       "      <th>15</th>\n",
       "      <td>C14 - C21</td>\n",
       "      <td>anonymized categorical variable</td>\n",
       "    </tr>\n",
       "  </tbody>\n",
       "</table>\n",
       "</div>"
      ],
      "text/plain": [
       "                                            Variable   \\\n",
       "0                                             click:    \n",
       "1   hour: format is YYMMDDHH, so 14091123 means 23...   \n",
       "2                                                  C1   \n",
       "3                                          banner_pos   \n",
       "4                                             site_id   \n",
       "5                                         site_domain   \n",
       "6                                       site_category   \n",
       "7                                              app_id   \n",
       "8                                          app_domain   \n",
       "9                                        app_category   \n",
       "10                                          device_id   \n",
       "11                                          device_ip   \n",
       "12                                       device_model   \n",
       "13                                        device_type   \n",
       "14                                   device_conn_type   \n",
       "15                                          C14 - C21   \n",
       "\n",
       "                                          Description  \n",
       "0                             0/1 for non-click/click  \n",
       "1                                                 NaN  \n",
       "2                     anonymized categorical variable  \n",
       "3               position of the ad/banner on the page  \n",
       "4      unique id of the site on which the ad is shown  \n",
       "5   unique domain of the site on which the ad is s...  \n",
       "6       category of the site on which the ad is shown  \n",
       "7         app id of the site on which the ad is shown  \n",
       "8   app category of the site on which the ad is shown  \n",
       "9    category id of the site on which the ad is shown  \n",
       "10               device id on which the add was shown  \n",
       "11  ip address of the device on which the ad was s...  \n",
       "12  model type of the device on which the ad was s...  \n",
       "13          the device type on which the ad was shown  \n",
       "14  the connection type of the device on which the...  \n",
       "15                    anonymized categorical variable  "
      ]
     },
     "execution_count": 3,
     "metadata": {},
     "output_type": "execute_result"
    }
   ],
   "source": [
    "data_discription"
   ]
  },
  {
   "cell_type": "markdown",
   "id": "8b5a029e",
   "metadata": {},
   "source": [
    "## Load Data"
   ]
  },
  {
   "cell_type": "code",
   "execution_count": 4,
   "id": "b31731ec",
   "metadata": {},
   "outputs": [],
   "source": [
    "df = pd.read_csv('data.csv')"
   ]
  },
  {
   "cell_type": "code",
   "execution_count": 5,
   "id": "0cab3441",
   "metadata": {},
   "outputs": [],
   "source": [
    "pd.set_option('display.max_rows',None)"
   ]
  },
  {
   "cell_type": "code",
   "execution_count": 6,
   "id": "73b3fb4b",
   "metadata": {},
   "outputs": [
    {
     "data": {
      "text/html": [
       "<div>\n",
       "<style scoped>\n",
       "    .dataframe tbody tr th:only-of-type {\n",
       "        vertical-align: middle;\n",
       "    }\n",
       "\n",
       "    .dataframe tbody tr th {\n",
       "        vertical-align: top;\n",
       "    }\n",
       "\n",
       "    .dataframe thead th {\n",
       "        text-align: right;\n",
       "    }\n",
       "</style>\n",
       "<table border=\"1\" class=\"dataframe\">\n",
       "  <thead>\n",
       "    <tr style=\"text-align: right;\">\n",
       "      <th></th>\n",
       "      <th>click</th>\n",
       "      <th>C1</th>\n",
       "      <th>banner_pos</th>\n",
       "      <th>site_id</th>\n",
       "      <th>site_domain</th>\n",
       "      <th>site_category</th>\n",
       "      <th>app_id</th>\n",
       "      <th>app_domain</th>\n",
       "      <th>app_category</th>\n",
       "      <th>device_id</th>\n",
       "      <th>device_ip</th>\n",
       "      <th>device_model</th>\n",
       "      <th>device_type</th>\n",
       "      <th>device_conn_type</th>\n",
       "      <th>C14</th>\n",
       "      <th>C15</th>\n",
       "      <th>C16</th>\n",
       "      <th>C17</th>\n",
       "      <th>C18</th>\n",
       "      <th>C19</th>\n",
       "      <th>C20</th>\n",
       "      <th>C21</th>\n",
       "      <th>month</th>\n",
       "      <th>dayofweek</th>\n",
       "      <th>day</th>\n",
       "      <th>hour</th>\n",
       "      <th>y</th>\n",
       "    </tr>\n",
       "  </thead>\n",
       "  <tbody>\n",
       "    <tr>\n",
       "      <th>0</th>\n",
       "      <td>False</td>\n",
       "      <td>1005</td>\n",
       "      <td>1</td>\n",
       "      <td>856e6d3f</td>\n",
       "      <td>58a89a43</td>\n",
       "      <td>f028772b</td>\n",
       "      <td>ecad2386</td>\n",
       "      <td>7801e8d9</td>\n",
       "      <td>07d7df22</td>\n",
       "      <td>a99f214a</td>\n",
       "      <td>962c8333</td>\n",
       "      <td>be6db1d7</td>\n",
       "      <td>1</td>\n",
       "      <td>0</td>\n",
       "      <td>22683</td>\n",
       "      <td>320</td>\n",
       "      <td>50</td>\n",
       "      <td>2528</td>\n",
       "      <td>0</td>\n",
       "      <td>39</td>\n",
       "      <td>100075</td>\n",
       "      <td>221</td>\n",
       "      <td>10</td>\n",
       "      <td>1</td>\n",
       "      <td>28</td>\n",
       "      <td>14</td>\n",
       "      <td>0</td>\n",
       "    </tr>\n",
       "    <tr>\n",
       "      <th>1</th>\n",
       "      <td>True</td>\n",
       "      <td>1005</td>\n",
       "      <td>1</td>\n",
       "      <td>e151e245</td>\n",
       "      <td>7e091613</td>\n",
       "      <td>f028772b</td>\n",
       "      <td>ecad2386</td>\n",
       "      <td>7801e8d9</td>\n",
       "      <td>07d7df22</td>\n",
       "      <td>a99f214a</td>\n",
       "      <td>5b1f94b9</td>\n",
       "      <td>1b13b020</td>\n",
       "      <td>1</td>\n",
       "      <td>0</td>\n",
       "      <td>17037</td>\n",
       "      <td>320</td>\n",
       "      <td>50</td>\n",
       "      <td>1934</td>\n",
       "      <td>2</td>\n",
       "      <td>39</td>\n",
       "      <td>-1</td>\n",
       "      <td>16</td>\n",
       "      <td>10</td>\n",
       "      <td>2</td>\n",
       "      <td>22</td>\n",
       "      <td>19</td>\n",
       "      <td>1</td>\n",
       "    </tr>\n",
       "    <tr>\n",
       "      <th>2</th>\n",
       "      <td>False</td>\n",
       "      <td>1005</td>\n",
       "      <td>0</td>\n",
       "      <td>e3c09f3a</td>\n",
       "      <td>d262cf1e</td>\n",
       "      <td>28905ebd</td>\n",
       "      <td>ecad2386</td>\n",
       "      <td>7801e8d9</td>\n",
       "      <td>07d7df22</td>\n",
       "      <td>a99f214a</td>\n",
       "      <td>a9a84f4c</td>\n",
       "      <td>9a45a8e8</td>\n",
       "      <td>1</td>\n",
       "      <td>0</td>\n",
       "      <td>22155</td>\n",
       "      <td>320</td>\n",
       "      <td>50</td>\n",
       "      <td>2552</td>\n",
       "      <td>3</td>\n",
       "      <td>167</td>\n",
       "      <td>100202</td>\n",
       "      <td>23</td>\n",
       "      <td>10</td>\n",
       "      <td>3</td>\n",
       "      <td>23</td>\n",
       "      <td>18</td>\n",
       "      <td>0</td>\n",
       "    </tr>\n",
       "    <tr>\n",
       "      <th>3</th>\n",
       "      <td>False</td>\n",
       "      <td>1002</td>\n",
       "      <td>0</td>\n",
       "      <td>0da94452</td>\n",
       "      <td>248e439f</td>\n",
       "      <td>50e219e0</td>\n",
       "      <td>ecad2386</td>\n",
       "      <td>7801e8d9</td>\n",
       "      <td>07d7df22</td>\n",
       "      <td>0fa578fd</td>\n",
       "      <td>88c62dad</td>\n",
       "      <td>ea6abc60</td>\n",
       "      <td>0</td>\n",
       "      <td>0</td>\n",
       "      <td>21591</td>\n",
       "      <td>320</td>\n",
       "      <td>50</td>\n",
       "      <td>2478</td>\n",
       "      <td>3</td>\n",
       "      <td>167</td>\n",
       "      <td>100074</td>\n",
       "      <td>23</td>\n",
       "      <td>10</td>\n",
       "      <td>2</td>\n",
       "      <td>22</td>\n",
       "      <td>19</td>\n",
       "      <td>0</td>\n",
       "    </tr>\n",
       "    <tr>\n",
       "      <th>4</th>\n",
       "      <td>True</td>\n",
       "      <td>1005</td>\n",
       "      <td>0</td>\n",
       "      <td>1fbe01fe</td>\n",
       "      <td>f3845767</td>\n",
       "      <td>28905ebd</td>\n",
       "      <td>ecad2386</td>\n",
       "      <td>7801e8d9</td>\n",
       "      <td>07d7df22</td>\n",
       "      <td>a99f214a</td>\n",
       "      <td>1e5e0d0e</td>\n",
       "      <td>36d749e5</td>\n",
       "      <td>1</td>\n",
       "      <td>0</td>\n",
       "      <td>15708</td>\n",
       "      <td>320</td>\n",
       "      <td>50</td>\n",
       "      <td>1722</td>\n",
       "      <td>0</td>\n",
       "      <td>35</td>\n",
       "      <td>-1</td>\n",
       "      <td>79</td>\n",
       "      <td>10</td>\n",
       "      <td>1</td>\n",
       "      <td>21</td>\n",
       "      <td>8</td>\n",
       "      <td>1</td>\n",
       "    </tr>\n",
       "    <tr>\n",
       "      <th>5</th>\n",
       "      <td>False</td>\n",
       "      <td>1005</td>\n",
       "      <td>1</td>\n",
       "      <td>d9750ee7</td>\n",
       "      <td>98572c79</td>\n",
       "      <td>f028772b</td>\n",
       "      <td>ecad2386</td>\n",
       "      <td>7801e8d9</td>\n",
       "      <td>07d7df22</td>\n",
       "      <td>a99f214a</td>\n",
       "      <td>7440e233</td>\n",
       "      <td>84ebbcd4</td>\n",
       "      <td>1</td>\n",
       "      <td>0</td>\n",
       "      <td>17614</td>\n",
       "      <td>320</td>\n",
       "      <td>50</td>\n",
       "      <td>1993</td>\n",
       "      <td>2</td>\n",
       "      <td>1063</td>\n",
       "      <td>100084</td>\n",
       "      <td>33</td>\n",
       "      <td>10</td>\n",
       "      <td>3</td>\n",
       "      <td>30</td>\n",
       "      <td>17</td>\n",
       "      <td>0</td>\n",
       "    </tr>\n",
       "    <tr>\n",
       "      <th>6</th>\n",
       "      <td>False</td>\n",
       "      <td>1005</td>\n",
       "      <td>0</td>\n",
       "      <td>83a0ad1a</td>\n",
       "      <td>5c9ae867</td>\n",
       "      <td>f028772b</td>\n",
       "      <td>ecad2386</td>\n",
       "      <td>7801e8d9</td>\n",
       "      <td>07d7df22</td>\n",
       "      <td>a99f214a</td>\n",
       "      <td>285aa37d</td>\n",
       "      <td>03683bd4</td>\n",
       "      <td>1</td>\n",
       "      <td>0</td>\n",
       "      <td>23369</td>\n",
       "      <td>320</td>\n",
       "      <td>50</td>\n",
       "      <td>2680</td>\n",
       "      <td>3</td>\n",
       "      <td>815</td>\n",
       "      <td>100156</td>\n",
       "      <td>42</td>\n",
       "      <td>10</td>\n",
       "      <td>3</td>\n",
       "      <td>30</td>\n",
       "      <td>7</td>\n",
       "      <td>0</td>\n",
       "    </tr>\n",
       "    <tr>\n",
       "      <th>7</th>\n",
       "      <td>False</td>\n",
       "      <td>1005</td>\n",
       "      <td>0</td>\n",
       "      <td>85f751fd</td>\n",
       "      <td>c4e18dd6</td>\n",
       "      <td>50e219e0</td>\n",
       "      <td>98fed791</td>\n",
       "      <td>d9b5648e</td>\n",
       "      <td>0f2161f8</td>\n",
       "      <td>a99f214a</td>\n",
       "      <td>140c5171</td>\n",
       "      <td>f51246a7</td>\n",
       "      <td>1</td>\n",
       "      <td>0</td>\n",
       "      <td>20984</td>\n",
       "      <td>320</td>\n",
       "      <td>50</td>\n",
       "      <td>2371</td>\n",
       "      <td>0</td>\n",
       "      <td>559</td>\n",
       "      <td>100217</td>\n",
       "      <td>46</td>\n",
       "      <td>10</td>\n",
       "      <td>3</td>\n",
       "      <td>30</td>\n",
       "      <td>10</td>\n",
       "      <td>0</td>\n",
       "    </tr>\n",
       "    <tr>\n",
       "      <th>8</th>\n",
       "      <td>False</td>\n",
       "      <td>1005</td>\n",
       "      <td>0</td>\n",
       "      <td>85f751fd</td>\n",
       "      <td>c4e18dd6</td>\n",
       "      <td>50e219e0</td>\n",
       "      <td>fc6dc16f</td>\n",
       "      <td>5c5a694b</td>\n",
       "      <td>0f2161f8</td>\n",
       "      <td>848ff98a</td>\n",
       "      <td>45867dad</td>\n",
       "      <td>b4d21d55</td>\n",
       "      <td>1</td>\n",
       "      <td>2</td>\n",
       "      <td>20392</td>\n",
       "      <td>320</td>\n",
       "      <td>50</td>\n",
       "      <td>2340</td>\n",
       "      <td>3</td>\n",
       "      <td>41</td>\n",
       "      <td>100111</td>\n",
       "      <td>159</td>\n",
       "      <td>10</td>\n",
       "      <td>5</td>\n",
       "      <td>25</td>\n",
       "      <td>15</td>\n",
       "      <td>0</td>\n",
       "    </tr>\n",
       "    <tr>\n",
       "      <th>9</th>\n",
       "      <td>False</td>\n",
       "      <td>1005</td>\n",
       "      <td>0</td>\n",
       "      <td>1fbe01fe</td>\n",
       "      <td>f3845767</td>\n",
       "      <td>28905ebd</td>\n",
       "      <td>ecad2386</td>\n",
       "      <td>7801e8d9</td>\n",
       "      <td>07d7df22</td>\n",
       "      <td>a99f214a</td>\n",
       "      <td>ac116eec</td>\n",
       "      <td>5096d134</td>\n",
       "      <td>1</td>\n",
       "      <td>0</td>\n",
       "      <td>15705</td>\n",
       "      <td>320</td>\n",
       "      <td>50</td>\n",
       "      <td>1722</td>\n",
       "      <td>0</td>\n",
       "      <td>35</td>\n",
       "      <td>-1</td>\n",
       "      <td>79</td>\n",
       "      <td>10</td>\n",
       "      <td>4</td>\n",
       "      <td>24</td>\n",
       "      <td>16</td>\n",
       "      <td>0</td>\n",
       "    </tr>\n",
       "    <tr>\n",
       "      <th>10</th>\n",
       "      <td>False</td>\n",
       "      <td>1005</td>\n",
       "      <td>0</td>\n",
       "      <td>1fbe01fe</td>\n",
       "      <td>f3845767</td>\n",
       "      <td>28905ebd</td>\n",
       "      <td>ecad2386</td>\n",
       "      <td>7801e8d9</td>\n",
       "      <td>07d7df22</td>\n",
       "      <td>a99f214a</td>\n",
       "      <td>2d922271</td>\n",
       "      <td>05e70df4</td>\n",
       "      <td>1</td>\n",
       "      <td>0</td>\n",
       "      <td>21853</td>\n",
       "      <td>216</td>\n",
       "      <td>36</td>\n",
       "      <td>2524</td>\n",
       "      <td>0</td>\n",
       "      <td>35</td>\n",
       "      <td>100084</td>\n",
       "      <td>221</td>\n",
       "      <td>10</td>\n",
       "      <td>2</td>\n",
       "      <td>22</td>\n",
       "      <td>13</td>\n",
       "      <td>0</td>\n",
       "    </tr>\n",
       "    <tr>\n",
       "      <th>11</th>\n",
       "      <td>False</td>\n",
       "      <td>1005</td>\n",
       "      <td>1</td>\n",
       "      <td>57fe1b20</td>\n",
       "      <td>5b626596</td>\n",
       "      <td>f028772b</td>\n",
       "      <td>ecad2386</td>\n",
       "      <td>7801e8d9</td>\n",
       "      <td>07d7df22</td>\n",
       "      <td>a99f214a</td>\n",
       "      <td>3645e4e8</td>\n",
       "      <td>48fdda0b</td>\n",
       "      <td>1</td>\n",
       "      <td>0</td>\n",
       "      <td>20312</td>\n",
       "      <td>320</td>\n",
       "      <td>50</td>\n",
       "      <td>1780</td>\n",
       "      <td>0</td>\n",
       "      <td>1711</td>\n",
       "      <td>100077</td>\n",
       "      <td>48</td>\n",
       "      <td>10</td>\n",
       "      <td>6</td>\n",
       "      <td>26</td>\n",
       "      <td>4</td>\n",
       "      <td>0</td>\n",
       "    </tr>\n",
       "    <tr>\n",
       "      <th>12</th>\n",
       "      <td>False</td>\n",
       "      <td>1005</td>\n",
       "      <td>0</td>\n",
       "      <td>85f751fd</td>\n",
       "      <td>c4e18dd6</td>\n",
       "      <td>50e219e0</td>\n",
       "      <td>febd1138</td>\n",
       "      <td>82e27996</td>\n",
       "      <td>0f2161f8</td>\n",
       "      <td>a99f214a</td>\n",
       "      <td>02a4ebba</td>\n",
       "      <td>aad45b01</td>\n",
       "      <td>1</td>\n",
       "      <td>0</td>\n",
       "      <td>21611</td>\n",
       "      <td>320</td>\n",
       "      <td>50</td>\n",
       "      <td>2480</td>\n",
       "      <td>3</td>\n",
       "      <td>297</td>\n",
       "      <td>100111</td>\n",
       "      <td>61</td>\n",
       "      <td>10</td>\n",
       "      <td>5</td>\n",
       "      <td>25</td>\n",
       "      <td>11</td>\n",
       "      <td>0</td>\n",
       "    </tr>\n",
       "    <tr>\n",
       "      <th>13</th>\n",
       "      <td>False</td>\n",
       "      <td>1005</td>\n",
       "      <td>0</td>\n",
       "      <td>1fbe01fe</td>\n",
       "      <td>f3845767</td>\n",
       "      <td>28905ebd</td>\n",
       "      <td>ecad2386</td>\n",
       "      <td>7801e8d9</td>\n",
       "      <td>07d7df22</td>\n",
       "      <td>a99f214a</td>\n",
       "      <td>13e4ee7f</td>\n",
       "      <td>c730b3c6</td>\n",
       "      <td>1</td>\n",
       "      <td>0</td>\n",
       "      <td>15706</td>\n",
       "      <td>320</td>\n",
       "      <td>50</td>\n",
       "      <td>1722</td>\n",
       "      <td>0</td>\n",
       "      <td>35</td>\n",
       "      <td>-1</td>\n",
       "      <td>79</td>\n",
       "      <td>10</td>\n",
       "      <td>4</td>\n",
       "      <td>24</td>\n",
       "      <td>18</td>\n",
       "      <td>0</td>\n",
       "    </tr>\n",
       "    <tr>\n",
       "      <th>14</th>\n",
       "      <td>False</td>\n",
       "      <td>1005</td>\n",
       "      <td>0</td>\n",
       "      <td>5b08c53b</td>\n",
       "      <td>7687a86e</td>\n",
       "      <td>3e814130</td>\n",
       "      <td>ecad2386</td>\n",
       "      <td>7801e8d9</td>\n",
       "      <td>07d7df22</td>\n",
       "      <td>a99f214a</td>\n",
       "      <td>115c7f7e</td>\n",
       "      <td>8a4875bd</td>\n",
       "      <td>1</td>\n",
       "      <td>0</td>\n",
       "      <td>20093</td>\n",
       "      <td>300</td>\n",
       "      <td>250</td>\n",
       "      <td>2295</td>\n",
       "      <td>2</td>\n",
       "      <td>35</td>\n",
       "      <td>100077</td>\n",
       "      <td>23</td>\n",
       "      <td>10</td>\n",
       "      <td>3</td>\n",
       "      <td>23</td>\n",
       "      <td>16</td>\n",
       "      <td>0</td>\n",
       "    </tr>\n",
       "    <tr>\n",
       "      <th>15</th>\n",
       "      <td>False</td>\n",
       "      <td>1005</td>\n",
       "      <td>0</td>\n",
       "      <td>ac696ed4</td>\n",
       "      <td>c7dcd9d1</td>\n",
       "      <td>f66779e6</td>\n",
       "      <td>ecad2386</td>\n",
       "      <td>7801e8d9</td>\n",
       "      <td>07d7df22</td>\n",
       "      <td>a99f214a</td>\n",
       "      <td>398d628c</td>\n",
       "      <td>a9fb0439</td>\n",
       "      <td>1</td>\n",
       "      <td>0</td>\n",
       "      <td>21767</td>\n",
       "      <td>320</td>\n",
       "      <td>50</td>\n",
       "      <td>2506</td>\n",
       "      <td>0</td>\n",
       "      <td>35</td>\n",
       "      <td>-1</td>\n",
       "      <td>157</td>\n",
       "      <td>10</td>\n",
       "      <td>2</td>\n",
       "      <td>22</td>\n",
       "      <td>10</td>\n",
       "      <td>0</td>\n",
       "    </tr>\n",
       "    <tr>\n",
       "      <th>16</th>\n",
       "      <td>False</td>\n",
       "      <td>1005</td>\n",
       "      <td>0</td>\n",
       "      <td>b99a2c43</td>\n",
       "      <td>cc962a1f</td>\n",
       "      <td>f028772b</td>\n",
       "      <td>ecad2386</td>\n",
       "      <td>7801e8d9</td>\n",
       "      <td>07d7df22</td>\n",
       "      <td>a99f214a</td>\n",
       "      <td>09d83806</td>\n",
       "      <td>8a4875bd</td>\n",
       "      <td>1</td>\n",
       "      <td>0</td>\n",
       "      <td>15708</td>\n",
       "      <td>320</td>\n",
       "      <td>50</td>\n",
       "      <td>1722</td>\n",
       "      <td>0</td>\n",
       "      <td>35</td>\n",
       "      <td>-1</td>\n",
       "      <td>79</td>\n",
       "      <td>10</td>\n",
       "      <td>5</td>\n",
       "      <td>25</td>\n",
       "      <td>0</td>\n",
       "      <td>0</td>\n",
       "    </tr>\n",
       "    <tr>\n",
       "      <th>17</th>\n",
       "      <td>False</td>\n",
       "      <td>1005</td>\n",
       "      <td>0</td>\n",
       "      <td>85f751fd</td>\n",
       "      <td>c4e18dd6</td>\n",
       "      <td>50e219e0</td>\n",
       "      <td>92f5800b</td>\n",
       "      <td>ae637522</td>\n",
       "      <td>0f2161f8</td>\n",
       "      <td>a99f214a</td>\n",
       "      <td>a6b2b360</td>\n",
       "      <td>496515fa</td>\n",
       "      <td>1</td>\n",
       "      <td>3</td>\n",
       "      <td>21189</td>\n",
       "      <td>320</td>\n",
       "      <td>50</td>\n",
       "      <td>2424</td>\n",
       "      <td>1</td>\n",
       "      <td>161</td>\n",
       "      <td>100189</td>\n",
       "      <td>71</td>\n",
       "      <td>10</td>\n",
       "      <td>6</td>\n",
       "      <td>26</td>\n",
       "      <td>15</td>\n",
       "      <td>0</td>\n",
       "    </tr>\n",
       "    <tr>\n",
       "      <th>18</th>\n",
       "      <td>False</td>\n",
       "      <td>1005</td>\n",
       "      <td>0</td>\n",
       "      <td>5bcf81a2</td>\n",
       "      <td>9d54950b</td>\n",
       "      <td>f028772b</td>\n",
       "      <td>ecad2386</td>\n",
       "      <td>7801e8d9</td>\n",
       "      <td>07d7df22</td>\n",
       "      <td>a99f214a</td>\n",
       "      <td>01b8a0ee</td>\n",
       "      <td>6c3bc657</td>\n",
       "      <td>1</td>\n",
       "      <td>2</td>\n",
       "      <td>20003</td>\n",
       "      <td>320</td>\n",
       "      <td>50</td>\n",
       "      <td>2282</td>\n",
       "      <td>3</td>\n",
       "      <td>35</td>\n",
       "      <td>-1</td>\n",
       "      <td>117</td>\n",
       "      <td>10</td>\n",
       "      <td>1</td>\n",
       "      <td>21</td>\n",
       "      <td>4</td>\n",
       "      <td>0</td>\n",
       "    </tr>\n",
       "    <tr>\n",
       "      <th>19</th>\n",
       "      <td>False</td>\n",
       "      <td>1005</td>\n",
       "      <td>0</td>\n",
       "      <td>85f751fd</td>\n",
       "      <td>c4e18dd6</td>\n",
       "      <td>50e219e0</td>\n",
       "      <td>ce183bbd</td>\n",
       "      <td>ae637522</td>\n",
       "      <td>cef3e649</td>\n",
       "      <td>a99f214a</td>\n",
       "      <td>16d9700b</td>\n",
       "      <td>36b67a2a</td>\n",
       "      <td>1</td>\n",
       "      <td>0</td>\n",
       "      <td>22516</td>\n",
       "      <td>320</td>\n",
       "      <td>50</td>\n",
       "      <td>2597</td>\n",
       "      <td>1</td>\n",
       "      <td>167</td>\n",
       "      <td>100003</td>\n",
       "      <td>71</td>\n",
       "      <td>10</td>\n",
       "      <td>1</td>\n",
       "      <td>28</td>\n",
       "      <td>8</td>\n",
       "      <td>0</td>\n",
       "    </tr>\n",
       "  </tbody>\n",
       "</table>\n",
       "</div>"
      ],
      "text/plain": [
       "    click    C1  banner_pos   site_id site_domain site_category    app_id  \\\n",
       "0   False  1005           1  856e6d3f    58a89a43      f028772b  ecad2386   \n",
       "1    True  1005           1  e151e245    7e091613      f028772b  ecad2386   \n",
       "2   False  1005           0  e3c09f3a    d262cf1e      28905ebd  ecad2386   \n",
       "3   False  1002           0  0da94452    248e439f      50e219e0  ecad2386   \n",
       "4    True  1005           0  1fbe01fe    f3845767      28905ebd  ecad2386   \n",
       "5   False  1005           1  d9750ee7    98572c79      f028772b  ecad2386   \n",
       "6   False  1005           0  83a0ad1a    5c9ae867      f028772b  ecad2386   \n",
       "7   False  1005           0  85f751fd    c4e18dd6      50e219e0  98fed791   \n",
       "8   False  1005           0  85f751fd    c4e18dd6      50e219e0  fc6dc16f   \n",
       "9   False  1005           0  1fbe01fe    f3845767      28905ebd  ecad2386   \n",
       "10  False  1005           0  1fbe01fe    f3845767      28905ebd  ecad2386   \n",
       "11  False  1005           1  57fe1b20    5b626596      f028772b  ecad2386   \n",
       "12  False  1005           0  85f751fd    c4e18dd6      50e219e0  febd1138   \n",
       "13  False  1005           0  1fbe01fe    f3845767      28905ebd  ecad2386   \n",
       "14  False  1005           0  5b08c53b    7687a86e      3e814130  ecad2386   \n",
       "15  False  1005           0  ac696ed4    c7dcd9d1      f66779e6  ecad2386   \n",
       "16  False  1005           0  b99a2c43    cc962a1f      f028772b  ecad2386   \n",
       "17  False  1005           0  85f751fd    c4e18dd6      50e219e0  92f5800b   \n",
       "18  False  1005           0  5bcf81a2    9d54950b      f028772b  ecad2386   \n",
       "19  False  1005           0  85f751fd    c4e18dd6      50e219e0  ce183bbd   \n",
       "\n",
       "   app_domain app_category device_id device_ip device_model  device_type  \\\n",
       "0    7801e8d9     07d7df22  a99f214a  962c8333     be6db1d7            1   \n",
       "1    7801e8d9     07d7df22  a99f214a  5b1f94b9     1b13b020            1   \n",
       "2    7801e8d9     07d7df22  a99f214a  a9a84f4c     9a45a8e8            1   \n",
       "3    7801e8d9     07d7df22  0fa578fd  88c62dad     ea6abc60            0   \n",
       "4    7801e8d9     07d7df22  a99f214a  1e5e0d0e     36d749e5            1   \n",
       "5    7801e8d9     07d7df22  a99f214a  7440e233     84ebbcd4            1   \n",
       "6    7801e8d9     07d7df22  a99f214a  285aa37d     03683bd4            1   \n",
       "7    d9b5648e     0f2161f8  a99f214a  140c5171     f51246a7            1   \n",
       "8    5c5a694b     0f2161f8  848ff98a  45867dad     b4d21d55            1   \n",
       "9    7801e8d9     07d7df22  a99f214a  ac116eec     5096d134            1   \n",
       "10   7801e8d9     07d7df22  a99f214a  2d922271     05e70df4            1   \n",
       "11   7801e8d9     07d7df22  a99f214a  3645e4e8     48fdda0b            1   \n",
       "12   82e27996     0f2161f8  a99f214a  02a4ebba     aad45b01            1   \n",
       "13   7801e8d9     07d7df22  a99f214a  13e4ee7f     c730b3c6            1   \n",
       "14   7801e8d9     07d7df22  a99f214a  115c7f7e     8a4875bd            1   \n",
       "15   7801e8d9     07d7df22  a99f214a  398d628c     a9fb0439            1   \n",
       "16   7801e8d9     07d7df22  a99f214a  09d83806     8a4875bd            1   \n",
       "17   ae637522     0f2161f8  a99f214a  a6b2b360     496515fa            1   \n",
       "18   7801e8d9     07d7df22  a99f214a  01b8a0ee     6c3bc657            1   \n",
       "19   ae637522     cef3e649  a99f214a  16d9700b     36b67a2a            1   \n",
       "\n",
       "    device_conn_type    C14  C15  C16   C17  C18   C19     C20  C21  month  \\\n",
       "0                  0  22683  320   50  2528    0    39  100075  221     10   \n",
       "1                  0  17037  320   50  1934    2    39      -1   16     10   \n",
       "2                  0  22155  320   50  2552    3   167  100202   23     10   \n",
       "3                  0  21591  320   50  2478    3   167  100074   23     10   \n",
       "4                  0  15708  320   50  1722    0    35      -1   79     10   \n",
       "5                  0  17614  320   50  1993    2  1063  100084   33     10   \n",
       "6                  0  23369  320   50  2680    3   815  100156   42     10   \n",
       "7                  0  20984  320   50  2371    0   559  100217   46     10   \n",
       "8                  2  20392  320   50  2340    3    41  100111  159     10   \n",
       "9                  0  15705  320   50  1722    0    35      -1   79     10   \n",
       "10                 0  21853  216   36  2524    0    35  100084  221     10   \n",
       "11                 0  20312  320   50  1780    0  1711  100077   48     10   \n",
       "12                 0  21611  320   50  2480    3   297  100111   61     10   \n",
       "13                 0  15706  320   50  1722    0    35      -1   79     10   \n",
       "14                 0  20093  300  250  2295    2    35  100077   23     10   \n",
       "15                 0  21767  320   50  2506    0    35      -1  157     10   \n",
       "16                 0  15708  320   50  1722    0    35      -1   79     10   \n",
       "17                 3  21189  320   50  2424    1   161  100189   71     10   \n",
       "18                 2  20003  320   50  2282    3    35      -1  117     10   \n",
       "19                 0  22516  320   50  2597    1   167  100003   71     10   \n",
       "\n",
       "    dayofweek  day  hour  y  \n",
       "0           1   28    14  0  \n",
       "1           2   22    19  1  \n",
       "2           3   23    18  0  \n",
       "3           2   22    19  0  \n",
       "4           1   21     8  1  \n",
       "5           3   30    17  0  \n",
       "6           3   30     7  0  \n",
       "7           3   30    10  0  \n",
       "8           5   25    15  0  \n",
       "9           4   24    16  0  \n",
       "10          2   22    13  0  \n",
       "11          6   26     4  0  \n",
       "12          5   25    11  0  \n",
       "13          4   24    18  0  \n",
       "14          3   23    16  0  \n",
       "15          2   22    10  0  \n",
       "16          5   25     0  0  \n",
       "17          6   26    15  0  \n",
       "18          1   21     4  0  \n",
       "19          1   28     8  0  "
      ]
     },
     "execution_count": 6,
     "metadata": {},
     "output_type": "execute_result"
    }
   ],
   "source": [
    "df.head(20)"
   ]
  },
  {
   "cell_type": "markdown",
   "id": "50b0d3e5",
   "metadata": {},
   "source": [
    "## Data understanding and its characteristics"
   ]
  },
  {
   "cell_type": "code",
   "execution_count": 7,
   "id": "5135be4c",
   "metadata": {},
   "outputs": [
    {
     "data": {
      "text/plain": [
       "(99999, 27)"
      ]
     },
     "execution_count": 7,
     "metadata": {},
     "output_type": "execute_result"
    }
   ],
   "source": [
    "df.shape"
   ]
  },
  {
   "cell_type": "code",
   "execution_count": 8,
   "id": "e6cc4c51",
   "metadata": {},
   "outputs": [
    {
     "name": "stdout",
     "output_type": "stream",
     "text": [
      "<class 'pandas.core.frame.DataFrame'>\n",
      "RangeIndex: 99999 entries, 0 to 99998\n",
      "Data columns (total 27 columns):\n",
      " #   Column            Non-Null Count  Dtype \n",
      "---  ------            --------------  ----- \n",
      " 0   click             99999 non-null  bool  \n",
      " 1   C1                99999 non-null  int64 \n",
      " 2   banner_pos        99999 non-null  int64 \n",
      " 3   site_id           99999 non-null  object\n",
      " 4   site_domain       99999 non-null  object\n",
      " 5   site_category     99999 non-null  object\n",
      " 6   app_id            99999 non-null  object\n",
      " 7   app_domain        99999 non-null  object\n",
      " 8   app_category      99999 non-null  object\n",
      " 9   device_id         99999 non-null  object\n",
      " 10  device_ip         99999 non-null  object\n",
      " 11  device_model      99999 non-null  object\n",
      " 12  device_type       99999 non-null  int64 \n",
      " 13  device_conn_type  99999 non-null  int64 \n",
      " 14  C14               99999 non-null  int64 \n",
      " 15  C15               99999 non-null  int64 \n",
      " 16  C16               99999 non-null  int64 \n",
      " 17  C17               99999 non-null  int64 \n",
      " 18  C18               99999 non-null  int64 \n",
      " 19  C19               99999 non-null  int64 \n",
      " 20  C20               99999 non-null  int64 \n",
      " 21  C21               99999 non-null  int64 \n",
      " 22  month             99999 non-null  int64 \n",
      " 23  dayofweek         99999 non-null  int64 \n",
      " 24  day               99999 non-null  int64 \n",
      " 25  hour              99999 non-null  int64 \n",
      " 26  y                 99999 non-null  int64 \n",
      "dtypes: bool(1), int64(17), object(9)\n",
      "memory usage: 19.9+ MB\n"
     ]
    }
   ],
   "source": [
    "df.info()"
   ]
  },
  {
   "cell_type": "code",
   "execution_count": 9,
   "id": "6039ffc8",
   "metadata": {},
   "outputs": [
    {
     "data": {
      "text/html": [
       "<div>\n",
       "<style scoped>\n",
       "    .dataframe tbody tr th:only-of-type {\n",
       "        vertical-align: middle;\n",
       "    }\n",
       "\n",
       "    .dataframe tbody tr th {\n",
       "        vertical-align: top;\n",
       "    }\n",
       "\n",
       "    .dataframe thead th {\n",
       "        text-align: right;\n",
       "    }\n",
       "</style>\n",
       "<table border=\"1\" class=\"dataframe\">\n",
       "  <thead>\n",
       "    <tr style=\"text-align: right;\">\n",
       "      <th></th>\n",
       "      <th>C1</th>\n",
       "      <th>banner_pos</th>\n",
       "      <th>device_type</th>\n",
       "      <th>device_conn_type</th>\n",
       "      <th>C14</th>\n",
       "      <th>C15</th>\n",
       "      <th>C16</th>\n",
       "      <th>C17</th>\n",
       "      <th>C18</th>\n",
       "      <th>C19</th>\n",
       "      <th>C20</th>\n",
       "      <th>C21</th>\n",
       "      <th>month</th>\n",
       "      <th>dayofweek</th>\n",
       "      <th>day</th>\n",
       "      <th>hour</th>\n",
       "      <th>y</th>\n",
       "    </tr>\n",
       "  </thead>\n",
       "  <tbody>\n",
       "    <tr>\n",
       "      <th>count</th>\n",
       "      <td>99999.000000</td>\n",
       "      <td>99999.000000</td>\n",
       "      <td>99999.00000</td>\n",
       "      <td>99999.000000</td>\n",
       "      <td>99999.000000</td>\n",
       "      <td>99999.000000</td>\n",
       "      <td>99999.000000</td>\n",
       "      <td>99999.000000</td>\n",
       "      <td>99999.000000</td>\n",
       "      <td>99999.000000</td>\n",
       "      <td>99999.000000</td>\n",
       "      <td>99999.000000</td>\n",
       "      <td>99999.0</td>\n",
       "      <td>99999.000000</td>\n",
       "      <td>99999.000000</td>\n",
       "      <td>99999.000000</td>\n",
       "      <td>99999.000000</td>\n",
       "    </tr>\n",
       "    <tr>\n",
       "      <th>mean</th>\n",
       "      <td>1004.967550</td>\n",
       "      <td>0.289943</td>\n",
       "      <td>1.01639</td>\n",
       "      <td>0.329453</td>\n",
       "      <td>18857.231732</td>\n",
       "      <td>318.834548</td>\n",
       "      <td>60.278743</td>\n",
       "      <td>2114.613036</td>\n",
       "      <td>1.439904</td>\n",
       "      <td>227.234932</td>\n",
       "      <td>53292.001950</td>\n",
       "      <td>83.163542</td>\n",
       "      <td>10.0</td>\n",
       "      <td>2.592836</td>\n",
       "      <td>25.485755</td>\n",
       "      <td>11.300673</td>\n",
       "      <td>0.169802</td>\n",
       "    </tr>\n",
       "    <tr>\n",
       "      <th>std</th>\n",
       "      <td>1.091916</td>\n",
       "      <td>0.505707</td>\n",
       "      <td>0.53110</td>\n",
       "      <td>0.854673</td>\n",
       "      <td>4944.919482</td>\n",
       "      <td>21.510752</td>\n",
       "      <td>47.713436</td>\n",
       "      <td>607.469442</td>\n",
       "      <td>1.326824</td>\n",
       "      <td>351.472366</td>\n",
       "      <td>49952.340367</td>\n",
       "      <td>70.161076</td>\n",
       "      <td>0.0</td>\n",
       "      <td>1.723003</td>\n",
       "      <td>2.968520</td>\n",
       "      <td>5.938725</td>\n",
       "      <td>0.375460</td>\n",
       "    </tr>\n",
       "    <tr>\n",
       "      <th>min</th>\n",
       "      <td>1001.000000</td>\n",
       "      <td>0.000000</td>\n",
       "      <td>0.00000</td>\n",
       "      <td>0.000000</td>\n",
       "      <td>375.000000</td>\n",
       "      <td>120.000000</td>\n",
       "      <td>20.000000</td>\n",
       "      <td>112.000000</td>\n",
       "      <td>0.000000</td>\n",
       "      <td>33.000000</td>\n",
       "      <td>-1.000000</td>\n",
       "      <td>1.000000</td>\n",
       "      <td>10.0</td>\n",
       "      <td>0.000000</td>\n",
       "      <td>21.000000</td>\n",
       "      <td>0.000000</td>\n",
       "      <td>0.000000</td>\n",
       "    </tr>\n",
       "    <tr>\n",
       "      <th>25%</th>\n",
       "      <td>1005.000000</td>\n",
       "      <td>0.000000</td>\n",
       "      <td>1.00000</td>\n",
       "      <td>0.000000</td>\n",
       "      <td>16920.000000</td>\n",
       "      <td>320.000000</td>\n",
       "      <td>50.000000</td>\n",
       "      <td>1863.000000</td>\n",
       "      <td>0.000000</td>\n",
       "      <td>35.000000</td>\n",
       "      <td>-1.000000</td>\n",
       "      <td>23.000000</td>\n",
       "      <td>10.0</td>\n",
       "      <td>1.000000</td>\n",
       "      <td>23.000000</td>\n",
       "      <td>7.000000</td>\n",
       "      <td>0.000000</td>\n",
       "    </tr>\n",
       "    <tr>\n",
       "      <th>50%</th>\n",
       "      <td>1005.000000</td>\n",
       "      <td>0.000000</td>\n",
       "      <td>1.00000</td>\n",
       "      <td>0.000000</td>\n",
       "      <td>20346.000000</td>\n",
       "      <td>320.000000</td>\n",
       "      <td>50.000000</td>\n",
       "      <td>2323.000000</td>\n",
       "      <td>2.000000</td>\n",
       "      <td>39.000000</td>\n",
       "      <td>100050.000000</td>\n",
       "      <td>61.000000</td>\n",
       "      <td>10.0</td>\n",
       "      <td>2.000000</td>\n",
       "      <td>26.000000</td>\n",
       "      <td>11.000000</td>\n",
       "      <td>0.000000</td>\n",
       "    </tr>\n",
       "    <tr>\n",
       "      <th>75%</th>\n",
       "      <td>1005.000000</td>\n",
       "      <td>1.000000</td>\n",
       "      <td>1.00000</td>\n",
       "      <td>0.000000</td>\n",
       "      <td>21893.000000</td>\n",
       "      <td>320.000000</td>\n",
       "      <td>50.000000</td>\n",
       "      <td>2526.000000</td>\n",
       "      <td>3.000000</td>\n",
       "      <td>171.000000</td>\n",
       "      <td>100093.000000</td>\n",
       "      <td>101.000000</td>\n",
       "      <td>10.0</td>\n",
       "      <td>4.000000</td>\n",
       "      <td>28.000000</td>\n",
       "      <td>16.000000</td>\n",
       "      <td>0.000000</td>\n",
       "    </tr>\n",
       "    <tr>\n",
       "      <th>max</th>\n",
       "      <td>1012.000000</td>\n",
       "      <td>7.000000</td>\n",
       "      <td>5.00000</td>\n",
       "      <td>5.000000</td>\n",
       "      <td>24043.000000</td>\n",
       "      <td>1024.000000</td>\n",
       "      <td>1024.000000</td>\n",
       "      <td>2757.000000</td>\n",
       "      <td>3.000000</td>\n",
       "      <td>1839.000000</td>\n",
       "      <td>100248.000000</td>\n",
       "      <td>255.000000</td>\n",
       "      <td>10.0</td>\n",
       "      <td>6.000000</td>\n",
       "      <td>30.000000</td>\n",
       "      <td>23.000000</td>\n",
       "      <td>1.000000</td>\n",
       "    </tr>\n",
       "  </tbody>\n",
       "</table>\n",
       "</div>"
      ],
      "text/plain": [
       "                 C1    banner_pos  device_type  device_conn_type  \\\n",
       "count  99999.000000  99999.000000  99999.00000      99999.000000   \n",
       "mean    1004.967550      0.289943      1.01639          0.329453   \n",
       "std        1.091916      0.505707      0.53110          0.854673   \n",
       "min     1001.000000      0.000000      0.00000          0.000000   \n",
       "25%     1005.000000      0.000000      1.00000          0.000000   \n",
       "50%     1005.000000      0.000000      1.00000          0.000000   \n",
       "75%     1005.000000      1.000000      1.00000          0.000000   \n",
       "max     1012.000000      7.000000      5.00000          5.000000   \n",
       "\n",
       "                C14           C15           C16           C17           C18  \\\n",
       "count  99999.000000  99999.000000  99999.000000  99999.000000  99999.000000   \n",
       "mean   18857.231732    318.834548     60.278743   2114.613036      1.439904   \n",
       "std     4944.919482     21.510752     47.713436    607.469442      1.326824   \n",
       "min      375.000000    120.000000     20.000000    112.000000      0.000000   \n",
       "25%    16920.000000    320.000000     50.000000   1863.000000      0.000000   \n",
       "50%    20346.000000    320.000000     50.000000   2323.000000      2.000000   \n",
       "75%    21893.000000    320.000000     50.000000   2526.000000      3.000000   \n",
       "max    24043.000000   1024.000000   1024.000000   2757.000000      3.000000   \n",
       "\n",
       "                C19            C20           C21    month     dayofweek  \\\n",
       "count  99999.000000   99999.000000  99999.000000  99999.0  99999.000000   \n",
       "mean     227.234932   53292.001950     83.163542     10.0      2.592836   \n",
       "std      351.472366   49952.340367     70.161076      0.0      1.723003   \n",
       "min       33.000000      -1.000000      1.000000     10.0      0.000000   \n",
       "25%       35.000000      -1.000000     23.000000     10.0      1.000000   \n",
       "50%       39.000000  100050.000000     61.000000     10.0      2.000000   \n",
       "75%      171.000000  100093.000000    101.000000     10.0      4.000000   \n",
       "max     1839.000000  100248.000000    255.000000     10.0      6.000000   \n",
       "\n",
       "                day          hour             y  \n",
       "count  99999.000000  99999.000000  99999.000000  \n",
       "mean      25.485755     11.300673      0.169802  \n",
       "std        2.968520      5.938725      0.375460  \n",
       "min       21.000000      0.000000      0.000000  \n",
       "25%       23.000000      7.000000      0.000000  \n",
       "50%       26.000000     11.000000      0.000000  \n",
       "75%       28.000000     16.000000      0.000000  \n",
       "max       30.000000     23.000000      1.000000  "
      ]
     },
     "execution_count": 9,
     "metadata": {},
     "output_type": "execute_result"
    }
   ],
   "source": [
    "df.describe()"
   ]
  },
  {
   "cell_type": "code",
   "execution_count": 10,
   "id": "02bff00a",
   "metadata": {},
   "outputs": [
    {
     "data": {
      "text/plain": [
       "click               0\n",
       "C1                  0\n",
       "banner_pos          0\n",
       "site_id             0\n",
       "site_domain         0\n",
       "site_category       0\n",
       "app_id              0\n",
       "app_domain          0\n",
       "app_category        0\n",
       "device_id           0\n",
       "device_ip           0\n",
       "device_model        0\n",
       "device_type         0\n",
       "device_conn_type    0\n",
       "C14                 0\n",
       "C15                 0\n",
       "C16                 0\n",
       "C17                 0\n",
       "C18                 0\n",
       "C19                 0\n",
       "C20                 0\n",
       "C21                 0\n",
       "month               0\n",
       "dayofweek           0\n",
       "day                 0\n",
       "hour                0\n",
       "y                   0\n",
       "dtype: int64"
      ]
     },
     "execution_count": 10,
     "metadata": {},
     "output_type": "execute_result"
    }
   ],
   "source": [
    "df.isnull().sum()"
   ]
  },
  {
   "cell_type": "code",
   "execution_count": 11,
   "id": "4d82aaa1",
   "metadata": {},
   "outputs": [
    {
     "data": {
      "text/plain": [
       "Index(['click', 'C1', 'banner_pos', 'site_id', 'site_domain', 'site_category',\n",
       "       'app_id', 'app_domain', 'app_category', 'device_id', 'device_ip',\n",
       "       'device_model', 'device_type', 'device_conn_type', 'C14', 'C15', 'C16',\n",
       "       'C17', 'C18', 'C19', 'C20', 'C21', 'month', 'dayofweek', 'day', 'hour',\n",
       "       'y'],\n",
       "      dtype='object')"
      ]
     },
     "execution_count": 11,
     "metadata": {},
     "output_type": "execute_result"
    }
   ],
   "source": [
    "df.columns"
   ]
  },
  {
   "cell_type": "code",
   "execution_count": 12,
   "id": "a9589afc",
   "metadata": {},
   "outputs": [
    {
     "name": "stdout",
     "output_type": "stream",
     "text": [
      "<class 'pandas.core.frame.DataFrame'>\n",
      "RangeIndex: 99999 entries, 0 to 99998\n",
      "Data columns (total 27 columns):\n",
      " #   Column            Non-Null Count  Dtype \n",
      "---  ------            --------------  ----- \n",
      " 0   click             99999 non-null  bool  \n",
      " 1   C1                99999 non-null  int64 \n",
      " 2   banner_pos        99999 non-null  int64 \n",
      " 3   site_id           99999 non-null  object\n",
      " 4   site_domain       99999 non-null  object\n",
      " 5   site_category     99999 non-null  object\n",
      " 6   app_id            99999 non-null  object\n",
      " 7   app_domain        99999 non-null  object\n",
      " 8   app_category      99999 non-null  object\n",
      " 9   device_id         99999 non-null  object\n",
      " 10  device_ip         99999 non-null  object\n",
      " 11  device_model      99999 non-null  object\n",
      " 12  device_type       99999 non-null  int64 \n",
      " 13  device_conn_type  99999 non-null  int64 \n",
      " 14  C14               99999 non-null  int64 \n",
      " 15  C15               99999 non-null  int64 \n",
      " 16  C16               99999 non-null  int64 \n",
      " 17  C17               99999 non-null  int64 \n",
      " 18  C18               99999 non-null  int64 \n",
      " 19  C19               99999 non-null  int64 \n",
      " 20  C20               99999 non-null  int64 \n",
      " 21  C21               99999 non-null  int64 \n",
      " 22  month             99999 non-null  int64 \n",
      " 23  dayofweek         99999 non-null  int64 \n",
      " 24  day               99999 non-null  int64 \n",
      " 25  hour              99999 non-null  int64 \n",
      " 26  y                 99999 non-null  int64 \n",
      "dtypes: bool(1), int64(17), object(9)\n",
      "memory usage: 19.9+ MB\n"
     ]
    }
   ],
   "source": [
    "df.info()"
   ]
  },
  {
   "cell_type": "code",
   "execution_count": 13,
   "id": "4d02b9b7",
   "metadata": {},
   "outputs": [
    {
     "data": {
      "image/png": "[encoded data removed]",
      "text/plain": [
       "<Figure size 432x288 with 1 Axes>"
      ]
     },
     "metadata": {
      "needs_background": "light"
     },
     "output_type": "display_data"
    }
   ],
   "source": [
    "plt.figure()\n",
    "sb.countplot(x='y', data=df)\n",
    "plt.show()"
   ]
  },
  {
   "cell_type": "code",
   "execution_count": 14,
   "id": "ae032695",
   "metadata": {},
   "outputs": [
    {
     "data": {
      "text/plain": [
       "0    83.01983\n",
       "1    16.98017\n",
       "Name: y, dtype: float64"
      ]
     },
     "execution_count": 14,
     "metadata": {},
     "output_type": "execute_result"
    }
   ],
   "source": [
    "df.y.value_counts(normalize=True)*100"
   ]
  },
  {
   "cell_type": "markdown",
   "id": "61af3c99",
   "metadata": {},
   "source": [
    "### Highly imbalance target variable data"
   ]
  },
  {
   "cell_type": "markdown",
   "id": "9daa9b3f",
   "metadata": {},
   "source": [
    "## EDA - Exploratory Data Analysis"
   ]
  },
  {
   "cell_type": "code",
   "execution_count": 15,
   "id": "1257984b",
   "metadata": {},
   "outputs": [
    {
     "data": {
      "image/png": "[encoded data removed]",
      "text/plain": [
       "<Figure size 1440x432 with 1 Axes>"
      ]
     },
     "metadata": {
      "needs_background": "light"
     },
     "output_type": "display_data"
    }
   ],
   "source": [
    "df.groupby('hour').agg({'y':'sum'}).plot(kind='bar', title='Number of clicks by hour', ylabel='Number of clicks',figsize=(20,6))\n",
    "plt.show()"
   ]
  },
  {
   "cell_type": "markdown",
   "id": "4eb1b9dc",
   "metadata": {},
   "source": [
    "##### In general, the highest number of clicks are at hour 9,12,13 & 14 and the least number of clicks is at hour 0 (mid-night). It seems a useful feature for roughly estimation."
   ]
  },
  {
   "cell_type": "code",
   "execution_count": 16,
   "id": "57a15acb",
   "metadata": {},
   "outputs": [
    {
     "data": {
      "image/png": "[encoded data removed]",
      "text/plain": [
       "<Figure size 1440x432 with 1 Axes>"
      ]
     },
     "metadata": {
      "needs_background": "light"
     },
     "output_type": "display_data"
    }
   ],
   "source": [
    "df.groupby(['hour','y']).size().unstack().plot(kind='bar', title='Number of clicks by hour', ylabel='Number of clicks',figsize=(20,6))\n",
    "plt.show()"
   ]
  },
  {
   "cell_type": "code",
   "execution_count": 17,
   "id": "ede925bc",
   "metadata": {},
   "outputs": [
    {
     "data": {
      "image/png": "[encoded data removed]",
      "text/plain": [
       "<Figure size 864x432 with 1 Axes>"
      ]
     },
     "metadata": {
      "needs_background": "light"
     },
     "output_type": "display_data"
    }
   ],
   "source": [
    "df_click = df[df['y'] == 1]\n",
    "df_hour = df[['hour','y']].groupby(['hour']).count().reset_index()\n",
    "df_hour = df_hour.rename(columns={'y': 'impressions'})\n",
    "df_hour['y'] = df_click[['hour','y']].groupby(['hour']).count().reset_index()['y']\n",
    "df_hour['CTR'] = df_hour['y']/df_hour['impressions']*100\n",
    "\n",
    "plt.figure(figsize=(12,6))\n",
    "sb.barplot(y='CTR', x='hour', data=df_hour)\n",
    "plt.title('Hourly CTR');"
   ]
  },
  {
   "cell_type": "markdown",
   "id": "64f33969",
   "metadata": {},
   "source": [
    "#### One of the interesting observations here is that the highest CTR happened in the hour of mid-night, 1, 7 and 15. If you remember, around mid-night has the least number of impressions and clicks."
   ]
  },
  {
   "cell_type": "markdown",
   "id": "8bd54bd1",
   "metadata": {},
   "source": [
    "### dayofweek"
   ]
  },
  {
   "cell_type": "code",
   "execution_count": 18,
   "id": "83137887",
   "metadata": {},
   "outputs": [
    {
     "data": {
      "image/png": "[encoded data removed]",
      "text/plain": [
       "<Figure size 1440x432 with 1 Axes>"
      ]
     },
     "metadata": {
      "needs_background": "light"
     },
     "output_type": "display_data"
    }
   ],
   "source": [
    "df.groupby('dayofweek').agg({'y':'sum'}).plot(kind='bar', title='Number of clicks by dayofweek', ylabel='Number of clicks',figsize=(20,6))\n",
    "plt.show()"
   ]
  },
  {
   "cell_type": "code",
   "execution_count": 19,
   "id": "49579637",
   "metadata": {},
   "outputs": [
    {
     "data": {
      "image/png": "[encoded data removed]",
      "text/plain": [
       "<Figure size 1440x432 with 1 Axes>"
      ]
     },
     "metadata": {
      "needs_background": "light"
     },
     "output_type": "display_data"
    }
   ],
   "source": [
    "df.groupby(['dayofweek','y']).size().unstack().plot(kind='bar', title='Number of clicks by dayofweek', ylabel='Number of clicks',figsize=(20,6))\n",
    "plt.show()"
   ]
  },
  {
   "cell_type": "code",
   "execution_count": 20,
   "id": "a1789215",
   "metadata": {},
   "outputs": [
    {
     "data": {
      "image/png": "[encoded data removed]",
      "text/plain": [
       "<Figure size 864x432 with 1 Axes>"
      ]
     },
     "metadata": {
      "needs_background": "light"
     },
     "output_type": "display_data"
    }
   ],
   "source": [
    "df_day = df[['dayofweek','y']].groupby(['dayofweek']).count().reset_index()\n",
    "df_day = df_day.rename(columns={'y': 'impressions'})\n",
    "df_day['y'] = df_click[['dayofweek','y']].groupby(['dayofweek']).count().reset_index()['y']\n",
    "df_day['CTR'] = df_day['y']/df_day['impressions']*100\n",
    "\n",
    "plt.figure(figsize=(12,6))\n",
    "sb.barplot(y='CTR', x='dayofweek', data=df_day)\n",
    "plt.title('day CTR');"
   ]
  },
  {
   "cell_type": "markdown",
   "id": "849c0d6a",
   "metadata": {},
   "source": [
    "### on 1st,2nd and 3rd days i.e (Tuesday, Wednesday and thursday) have most clicks and 0th,3rd,4th and 5th have high CTR"
   ]
  },
  {
   "cell_type": "markdown",
   "id": "3a0a7934",
   "metadata": {},
   "source": [
    "## C1"
   ]
  },
  {
   "cell_type": "code",
   "execution_count": 21,
   "id": "caeb898a",
   "metadata": {},
   "outputs": [
    {
     "data": {
      "image/png": "[encoded data removed]",
      "text/plain": [
       "<Figure size 1440x432 with 1 Axes>"
      ]
     },
     "metadata": {
      "needs_background": "light"
     },
     "output_type": "display_data"
    }
   ],
   "source": [
    "df.groupby(['C1','y']).size().unstack().plot(kind='bar', title='Number of clicks by C1', ylabel='Number of clicks',figsize=(20,6))\n",
    "plt.show()"
   ]
  },
  {
   "cell_type": "markdown",
   "id": "b7127a53",
   "metadata": {},
   "source": [
    "### while most of the data shows 1002 & 1005 having clicks most"
   ]
  },
  {
   "cell_type": "code",
   "execution_count": 22,
   "id": "d1aacc92",
   "metadata": {},
   "outputs": [
    {
     "data": {
      "image/png": "[encoded data removed]",
      "text/plain": [
       "<Figure size 864x432 with 1 Axes>"
      ]
     },
     "metadata": {
      "needs_background": "light"
     },
     "output_type": "display_data"
    }
   ],
   "source": [
    "df_C1 = df[['C1','y']].groupby(['C1']).count().reset_index()\n",
    "df_C1 = df_C1.rename(columns={'y': 'impressions'})\n",
    "df_C1['y'] = df_click[['C1','y']].groupby(['C1']).count().reset_index()['y']\n",
    "df_C1['CTR'] = df_C1['y']/df_C1['impressions']*100\n",
    "\n",
    "plt.figure(figsize=(12,6))\n",
    "sb.barplot(y='CTR', x='C1', data=df_C1)\n",
    "plt.title('C1 CTR');"
   ]
  },
  {
   "cell_type": "markdown",
   "id": "b3ead094",
   "metadata": {},
   "source": [
    "### for 1008 C1 CTR rate is much higher, Hence its an important column"
   ]
  },
  {
   "cell_type": "markdown",
   "id": "eda5ec8b",
   "metadata": {},
   "source": [
    "## banner_pos"
   ]
  },
  {
   "cell_type": "code",
   "execution_count": 23,
   "id": "bb08fbab",
   "metadata": {},
   "outputs": [
    {
     "data": {
      "image/png": "[encoded data removed]",
      "text/plain": [
       "<Figure size 1440x432 with 1 Axes>"
      ]
     },
     "metadata": {
      "needs_background": "light"
     },
     "output_type": "display_data"
    }
   ],
   "source": [
    "df.groupby(['banner_pos','y']).size().unstack().plot(kind='bar', title='Number of clicks by banner_pos', ylabel='Number of clicks',figsize=(20,6))\n",
    "plt.show()"
   ]
  },
  {
   "cell_type": "markdown",
   "id": "a3334016",
   "metadata": {},
   "source": [
    "### Banner position 0 and 1 have high data captured"
   ]
  },
  {
   "cell_type": "code",
   "execution_count": 24,
   "id": "8078ab9a",
   "metadata": {},
   "outputs": [
    {
     "data": {
      "image/png": "[encoded data removed]",
      "text/plain": [
       "<Figure size 864x432 with 1 Axes>"
      ]
     },
     "metadata": {
      "needs_background": "light"
     },
     "output_type": "display_data"
    }
   ],
   "source": [
    "df_banner_pos = df[['banner_pos','y']].groupby(['banner_pos']).count().reset_index()\n",
    "df_banner_pos = df_banner_pos.rename(columns={'y': 'impressions'})\n",
    "df_banner_pos['y'] = df_click[['banner_pos','y']].groupby(['banner_pos']).count().reset_index()['y']\n",
    "df_banner_pos['CTR'] = df_banner_pos['y']/df_banner_pos['impressions']*100\n",
    "\n",
    "plt.figure(figsize=(12,6))\n",
    "sb.barplot(y='CTR', x='banner_pos', data=df_banner_pos)\n",
    "plt.title('banner_pos CTR');"
   ]
  },
  {
   "cell_type": "markdown",
   "id": "df08af80",
   "metadata": {},
   "source": [
    "### banner position 5 significantly have higher CTR"
   ]
  },
  {
   "cell_type": "markdown",
   "id": "d248df30",
   "metadata": {},
   "source": [
    "## C14 - C21"
   ]
  },
  {
   "cell_type": "code",
   "execution_count": 25,
   "id": "7dbae6a7",
   "metadata": {},
   "outputs": [
    {
     "name": "stdout",
     "output_type": "stream",
     "text": [
      "There are 1722 C14 in the data set\n",
      "There are 8 C15 in the data set\n",
      "There are 9 C16 in the data set\n",
      "There are 399 C17 in the data set\n",
      "There are 4 C18 in the data set\n",
      "There are 64 C19 in the data set\n",
      "There are 154 C20 in the data set\n",
      "There are 60 C21 in the data set\n"
     ]
    }
   ],
   "source": [
    "print(\"There are {} C14 in the data set\".format(df.C14.nunique()))\n",
    "print(\"There are {} C15 in the data set\".format(df.C15.nunique()))\n",
    "print(\"There are {} C16 in the data set\".format(df.C16.nunique()))\n",
    "print(\"There are {} C17 in the data set\".format(df.C17.nunique()))\n",
    "print(\"There are {} C18 in the data set\".format(df.C18.nunique()))\n",
    "print(\"There are {} C19 in the data set\".format(df.C19.nunique()))\n",
    "print(\"There are {} C20 in the data set\".format(df.C20.nunique()))\n",
    "print(\"There are {} C21 in the data set\".format(df.C21.nunique()))"
   ]
  },
  {
   "cell_type": "markdown",
   "id": "056a64b9",
   "metadata": {},
   "source": [
    "### While C14 ,C17,C19,C20 & C21 have very high unique category its computationally high to visualize. Hence will only look at C15,C16 and C18"
   ]
  },
  {
   "cell_type": "markdown",
   "id": "47b1c213",
   "metadata": {},
   "source": [
    "## C15"
   ]
  },
  {
   "cell_type": "code",
   "execution_count": 26,
   "id": "4390d9c1",
   "metadata": {},
   "outputs": [
    {
     "data": {
      "image/png": "[encoded data removed]",
      "text/plain": [
       "<Figure size 1440x432 with 1 Axes>"
      ]
     },
     "metadata": {
      "needs_background": "light"
     },
     "output_type": "display_data"
    }
   ],
   "source": [
    "df.groupby(['C15','y']).size().unstack().plot(kind='bar', title='Number of clicks by C15', ylabel='Number of clicks',figsize=(20,6))\n",
    "plt.show()"
   ]
  },
  {
   "cell_type": "code",
   "execution_count": 27,
   "id": "8fd5b50e",
   "metadata": {},
   "outputs": [
    {
     "data": {
      "image/png": "[encoded data removed]",
      "text/plain": [
       "<Figure size 864x432 with 1 Axes>"
      ]
     },
     "metadata": {
      "needs_background": "light"
     },
     "output_type": "display_data"
    }
   ],
   "source": [
    "df_C15 = df[['C15','y']].groupby(['C15']).count().reset_index()\n",
    "df_C15 = df_C15.rename(columns={'y': 'impressions'})\n",
    "df_C15['y'] = df_click[['C15','y']].groupby(['C15']).count().reset_index()['y']\n",
    "df_C15['CTR'] = df_C15['y']/df_C15['impressions']*100\n",
    "\n",
    "plt.figure(figsize=(12,6))\n",
    "sb.barplot(y='CTR', x='C15', data=df_C15)\n",
    "plt.title('C15 CTR');"
   ]
  },
  {
   "cell_type": "markdown",
   "id": "b952f980",
   "metadata": {},
   "source": [
    "### C15 has most of the click data captured having clicked at 300 & 320\n",
    "### C15_768 , C15_1024 , C15_480 , C15_300 & C15_320 have good CTR "
   ]
  },
  {
   "cell_type": "markdown",
   "id": "32eb7bfd",
   "metadata": {},
   "source": [
    "## C16"
   ]
  },
  {
   "cell_type": "code",
   "execution_count": 28,
   "id": "0a24a3a6",
   "metadata": {},
   "outputs": [
    {
     "data": {
      "image/png": "[encoded data removed]",
      "text/plain": [
       "<Figure size 1440x432 with 1 Axes>"
      ]
     },
     "metadata": {
      "needs_background": "light"
     },
     "output_type": "display_data"
    }
   ],
   "source": [
    "df.groupby(['C16','y']).size().unstack().plot(kind='bar', title='Number of clicks by C16', ylabel='Number of clicks',figsize=(20,6))\n",
    "plt.show()"
   ]
  },
  {
   "cell_type": "code",
   "execution_count": 29,
   "id": "67845757",
   "metadata": {},
   "outputs": [
    {
     "data": {
      "image/png": "[encoded data removed]",
      "text/plain": [
       "<Figure size 864x432 with 1 Axes>"
      ]
     },
     "metadata": {
      "needs_background": "light"
     },
     "output_type": "display_data"
    }
   ],
   "source": [
    "df_C16 = df[['C16','y']].groupby(['C16']).count().reset_index()\n",
    "df_C16 = df_C16.rename(columns={'y': 'impressions'})\n",
    "df_C16['y'] = df_click[['C16','y']].groupby(['C16']).count().reset_index()['y']\n",
    "df_C16['CTR'] = df_C16['y']/df_C16['impressions']*100\n",
    "\n",
    "plt.figure(figsize=(12,6))\n",
    "sb.barplot(y='CTR', x='C16', data=df_C16)\n",
    "plt.title('C16 CTR');"
   ]
  },
  {
   "cell_type": "markdown",
   "id": "bc5e29f7",
   "metadata": {},
   "source": [
    "### C16 has most of the click data captured having clicked at 50 & 250\n",
    "### C16_1024 , C16_768 , C16_320 , C16_480 & C16_250 have high CTR"
   ]
  },
  {
   "cell_type": "code",
   "execution_count": 30,
   "id": "6225c21f",
   "metadata": {},
   "outputs": [
    {
     "data": {
      "image/png": "[encoded data removed]",
      "text/plain": [
       "<Figure size 1440x432 with 1 Axes>"
      ]
     },
     "metadata": {
      "needs_background": "light"
     },
     "output_type": "display_data"
    }
   ],
   "source": [
    "df.groupby(['C18','y']).size().unstack().plot(kind='bar', title='Number of clicks by C18', ylabel='Number of clicks',figsize=(20,6))\n",
    "plt.show()"
   ]
  },
  {
   "cell_type": "markdown",
   "id": "259b87c6",
   "metadata": {},
   "source": [
    "## C18"
   ]
  },
  {
   "cell_type": "code",
   "execution_count": 31,
   "id": "1fa6d846",
   "metadata": {},
   "outputs": [
    {
     "data": {
      "image/png": "[encoded data removed]",
      "text/plain": [
       "<Figure size 864x432 with 1 Axes>"
      ]
     },
     "metadata": {
      "needs_background": "light"
     },
     "output_type": "display_data"
    }
   ],
   "source": [
    "df_C16 = df[['C16','y']].groupby(['C16']).count().reset_index()\n",
    "df_C16 = df_C16.rename(columns={'y': 'impressions'})\n",
    "df_C16['y'] = df_click[['C16','y']].groupby(['C16']).count().reset_index()['y']\n",
    "df_C16['CTR'] = df_C16['y']/df_C16['impressions']*100\n",
    "\n",
    "plt.figure(figsize=(12,6))\n",
    "sb.barplot(y='CTR', x='C16', data=df_C16)\n",
    "plt.title('C16 CTR');"
   ]
  },
  {
   "cell_type": "code",
   "execution_count": 32,
   "id": "4d13bfc1",
   "metadata": {},
   "outputs": [
    {
     "data": {
      "image/png": "[encoded data removed]",
      "text/plain": [
       "<Figure size 864x432 with 1 Axes>"
      ]
     },
     "metadata": {
      "needs_background": "light"
     },
     "output_type": "display_data"
    }
   ],
   "source": [
    "df_C18 = df[['C18','y']].groupby(['C18']).count().reset_index()\n",
    "df_C18 = df_C18.rename(columns={'y': 'impressions'})\n",
    "df_C18['y'] = df_click[['C18','y']].groupby(['C18']).count().reset_index()['y']\n",
    "df_C18['CTR'] = df_C18['y']/df_C18['impressions']*100\n",
    "\n",
    "plt.figure(figsize=(12,6))\n",
    "sb.barplot(y='CTR', x='C18', data=df_C18)\n",
    "plt.title('C18 CTR');"
   ]
  },
  {
   "cell_type": "markdown",
   "id": "a5631a45",
   "metadata": {},
   "source": [
    "### C18 has most of the click data captured having clicked at 0,2 & 3\n",
    "### C18_2 has significantely high CTR and C18_0 & C18_3 have a moderate CTR"
   ]
  },
  {
   "cell_type": "markdown",
   "id": "c058f2d4",
   "metadata": {},
   "source": [
    "### Site columns"
   ]
  },
  {
   "cell_type": "code",
   "execution_count": 33,
   "id": "881a2c74",
   "metadata": {},
   "outputs": [
    {
     "name": "stdout",
     "output_type": "stream",
     "text": [
      "+---------------+---------------+\n",
      "|  site_Column  | Unique_values |\n",
      "+---------------+---------------+\n",
      "|    site_id    |      1485     |\n",
      "|  site_domain  |      1331     |\n",
      "| site_category |       19      |\n",
      "+---------------+---------------+\n"
     ]
    }
   ],
   "source": [
    "#unique values \n",
    "#pip install PrettyTable\n",
    "from prettytable import PrettyTable\n",
    "site_columns = ['site_id', 'site_domain', 'site_category']\n",
    "t = PrettyTable(['site_Column', 'Unique_values'])\n",
    "for col in site_columns:\n",
    "    num = df[col].nunique()\n",
    "    t.add_row([col, num])\n",
    "print(t)"
   ]
  },
  {
   "cell_type": "code",
   "execution_count": 34,
   "id": "99892a11",
   "metadata": {},
   "outputs": [
    {
     "data": {
      "image/png": "[encoded data removed]",
      "text/plain": [
       "<Figure size 432x288 with 1 Axes>"
      ]
     },
     "metadata": {
      "needs_background": "light"
     },
     "output_type": "display_data"
    }
   ],
   "source": [
    "# lets evaluate how much site_category and site_domain are related\n",
    "site_categoryVSsite_domain = df.groupby('site_category')['site_domain'].nunique()\n",
    "site_categoryVSsite_domain.sort_values(ascending=False).plot(kind='bar')\n",
    "plt.ylabel(\"site_domain\")\n",
    "plt.show()"
   ]
  },
  {
   "cell_type": "code",
   "execution_count": 35,
   "id": "a202b30f",
   "metadata": {},
   "outputs": [
    {
     "data": {
      "image/png": "[encoded data removed]",
      "text/plain": [
       "<Figure size 432x288 with 1 Axes>"
      ]
     },
     "metadata": {
      "needs_background": "light"
     },
     "output_type": "display_data"
    }
   ],
   "source": [
    "# lets evaluate how much site_category and site_id are related\n",
    "site_categoryVSsite_id = df.groupby('site_category')['site_id'].nunique()\n",
    "site_categoryVSsite_id.sort_values(ascending=False).plot(kind='bar')\n",
    "plt.ylabel(\"site_id\")\n",
    "plt.show()"
   ]
  },
  {
   "cell_type": "markdown",
   "id": "cbb993cb",
   "metadata": {},
   "source": [
    "### App columns"
   ]
  },
  {
   "cell_type": "code",
   "execution_count": 36,
   "id": "2208f13c",
   "metadata": {},
   "outputs": [
    {
     "name": "stdout",
     "output_type": "stream",
     "text": [
      "+--------------+---------------+\n",
      "|  app_Column  | Unique_values |\n",
      "+--------------+---------------+\n",
      "|    app_id    |      1354     |\n",
      "|  app_domain  |       96      |\n",
      "| app_category |       21      |\n",
      "+--------------+---------------+\n"
     ]
    }
   ],
   "source": [
    "#unique values \n",
    "site_columns = ['app_id', 'app_domain', 'app_category']\n",
    "t = PrettyTable(['app_Column', 'Unique_values'])\n",
    "for col in site_columns:\n",
    "    num = df[col].nunique()\n",
    "    t.add_row([col, num])\n",
    "print(t)"
   ]
  },
  {
   "cell_type": "code",
   "execution_count": 37,
   "id": "9bbc3020",
   "metadata": {},
   "outputs": [
    {
     "data": {
      "image/png": "[encoded data removed]",
      "text/plain": [
       "<Figure size 432x288 with 1 Axes>"
      ]
     },
     "metadata": {
      "needs_background": "light"
     },
     "output_type": "display_data"
    }
   ],
   "source": [
    "# lets evaluate how much app_category and app_id are related\n",
    "app_categoryVSapp_id = df.groupby('app_category')['app_id'].nunique()\n",
    "app_categoryVSapp_id.sort_values(ascending=False).plot(kind='bar')\n",
    "plt.ylabel(\"app_id\")\n",
    "plt.show()"
   ]
  },
  {
   "cell_type": "code",
   "execution_count": 38,
   "id": "c6a4ec6a",
   "metadata": {},
   "outputs": [
    {
     "data": {
      "image/png": "[encoded data removed]",
      "text/plain": [
       "<Figure size 432x288 with 1 Axes>"
      ]
     },
     "metadata": {
      "needs_background": "light"
     },
     "output_type": "display_data"
    }
   ],
   "source": [
    "# lets evaluate how much app_category and app_domain are related\n",
    "app_categoryVSapp_domain = df.groupby('app_category')['app_domain'].nunique()\n",
    "app_categoryVSapp_domain.sort_values(ascending=False).plot(kind='bar')\n",
    "plt.ylabel(\"app_domain\")\n",
    "plt.show()"
   ]
  },
  {
   "cell_type": "code",
   "execution_count": 39,
   "id": "afdf09d0",
   "metadata": {},
   "outputs": [
    {
     "name": "stdout",
     "output_type": "stream",
     "text": [
      "+--------------+---------------+\n",
      "|  app_Column  | Unique_values |\n",
      "+--------------+---------------+\n",
      "|  device_id   |     16801     |\n",
      "|  device_ip   |     78013     |\n",
      "| device_model |      3145     |\n",
      "+--------------+---------------+\n"
     ]
    }
   ],
   "source": [
    "site_columns = ['device_id', 'device_ip', 'device_model']\n",
    "t = PrettyTable(['app_Column', 'Unique_values'])\n",
    "for col in site_columns:\n",
    "    num = df[col].nunique()\n",
    "    t.add_row([col, num])\n",
    "print(t)"
   ]
  },
  {
   "cell_type": "markdown",
   "id": "a01ffb3c",
   "metadata": {},
   "source": [
    "## Evaluation Results on site columns, App columns Device columns and C14 - C21\n",
    "> ### Site columns:\n",
    ">> #### Between 'site_id', 'site_domain' & 'site_category'. \n",
    "'site_id' & 'site_domain'  has too many unique value hence while doing one hot encoding this will result in many columns, which in turn will be have computation and complexity, so will drop these columns. on the other hand as we the when these columns we comapred by using group by with 'site_category' column, this resulted in better explaination on well data is categorized. Hence will keep this column (site_category) and do one hot encoding.\n",
    "\n",
    "> ### App columns:\n",
    ">> #### Between 'app_id', 'app_domain' & 'app_category'. \n",
    "'app_id' & 'app_domain'  has too many unique value hence while doing one hot encoding this will result in many columns, which in turn will be have computation and complexity, so will drop these columns. on the other hand as we the when these columns we comapred by using group by with 'app_category' column, this resulted in better explaination on well data is categorized. Hence will keep this column (app_category) and do one hot encoding. \n",
    "\n",
    "> ### Device columns:\n",
    ">> #### Between 'device_id', 'device_ip', 'device_model'. \n",
    "'device_id', 'device_ip', 'device_model' all have too many unique value hence while doing one hot encoding this will result in many columns, which in turn will be having high computation and complexity, so will drop these columns for now.\n",
    "\n",
    "> ### C14 - C21:\n",
    ">> #### Between C14 - C21. \n",
    "While C14 ,C17,C19,C20 & C21 have very high unique category hence while doing one hot encoding this will result in many columns, which in turn will be having high computation and complexity, so will drop these columns for now.\n",
    "\n",
    "\n",
    "### This initial feature selections are being done thinking of staring with simple model and then on need basis for improving model or analysis we shall stack the other columns again into the models."
   ]
  },
  {
   "cell_type": "code",
   "execution_count": 40,
   "id": "b39f23c4",
   "metadata": {},
   "outputs": [],
   "source": [
    "df = pd.get_dummies(df, columns=['banner_pos','device_type','device_conn_type','month','C1','C15','C16','C18','dayofweek','day', 'hour','site_category','app_category'],drop_first=True)"
   ]
  },
  {
   "cell_type": "markdown",
   "id": "d205a6a6",
   "metadata": {},
   "source": [
    "## Removing columns which are not required"
   ]
  },
  {
   "cell_type": "code",
   "execution_count": 41,
   "id": "cc0a09d9",
   "metadata": {},
   "outputs": [],
   "source": [
    "# Since will 'site_id', 'site_domain' , 'app_id', 'app_domain' ,'device_id', 'device_ip', 'device_model' & 'click' columns\n",
    "# Will drop click column, since we already have column 'y' \n",
    "df.drop( ['click','C14','C17','C19','C20','C21','site_id', 'site_domain','app_id','app_domain','device_id', 'device_ip','device_model'], axis=1, inplace = True )"
   ]
  },
  {
   "cell_type": "code",
   "execution_count": 42,
   "id": "0bb9d0e9",
   "metadata": {},
   "outputs": [
    {
     "name": "stdout",
     "output_type": "stream",
     "text": [
      "<class 'pandas.core.frame.DataFrame'>\n",
      "RangeIndex: 99999 entries, 0 to 99998\n",
      "Columns: 113 entries, y to app_category_fc6fa53d\n",
      "dtypes: int64(1), uint8(112)\n",
      "memory usage: 11.4 MB\n"
     ]
    }
   ],
   "source": [
    "df.info()"
   ]
  },
  {
   "cell_type": "markdown",
   "id": "902da6f1",
   "metadata": {},
   "source": [
    "## Missing Data check"
   ]
  },
  {
   "cell_type": "code",
   "execution_count": 43,
   "id": "d997dcc1",
   "metadata": {},
   "outputs": [
    {
     "name": "stdout",
     "output_type": "stream",
     "text": [
      "y                         0\n",
      "hour_6                    0\n",
      "site_category_75fa27f6    0\n",
      "site_category_72722551    0\n",
      "site_category_70fb0e29    0\n",
      "site_category_5378d028    0\n",
      "site_category_50e219e0    0\n",
      "site_category_42a36e14    0\n",
      "site_category_3e814130    0\n",
      "site_category_335d28a8    0\n",
      "site_category_28905ebd    0\n",
      "hour_23                   0\n",
      "hour_22                   0\n",
      "hour_21                   0\n",
      "hour_20                   0\n",
      "hour_19                   0\n",
      "hour_18                   0\n",
      "hour_17                   0\n",
      "hour_16                   0\n",
      "hour_15                   0\n",
      "hour_14                   0\n",
      "hour_13                   0\n",
      "hour_12                   0\n",
      "hour_11                   0\n",
      "hour_10                   0\n",
      "hour_9                    0\n",
      "hour_8                    0\n",
      "site_category_76b2941d    0\n",
      "site_category_8fd0aea4    0\n",
      "site_category_9ccfa2ea    0\n",
      "app_category_75d80bbe     0\n",
      "app_category_f95efa07     0\n",
      "app_category_dc97ec06     0\n",
      "app_category_d1327cf5     0\n",
      "app_category_cef3e649     0\n",
      "app_category_a86a3e89     0\n",
      "app_category_a7fd01ec     0\n",
      "app_category_a3c42688     0\n",
      "app_category_8df2e842     0\n",
      "app_category_8ded1f7a     0\n",
      "app_category_879c24eb     0\n",
      "app_category_79f0b860     0\n",
      "app_category_7113d72a     0\n",
      "site_category_a818d37a    0\n",
      "app_category_4ce2e9fc     0\n",
      "app_category_4681bb9d     0\n",
      "app_category_2281a340     0\n",
      "app_category_0f9a328c     0\n",
      "app_category_0f2161f8     0\n",
      "app_category_09481d60     0\n",
      "site_category_f66779e6    0\n",
      "site_category_f028772b    0\n",
      "site_category_e787de0e    0\n",
      "site_category_dedf689d    0\n",
      "site_category_c0dd3be3    0\n",
      "hour_7                    0\n",
      "hour_5                    0\n",
      "banner_pos_1              0\n",
      "hour_4                    0\n",
      "C16_36                    0\n",
      "C15_1024                  0\n",
      "C15_768                   0\n",
      "C15_728                   0\n",
      "C15_480                   0\n",
      "C15_320                   0\n",
      "C15_300                   0\n",
      "C15_216                   0\n",
      "C1_1012                   0\n",
      "C1_1010                   0\n",
      "C1_1008                   0\n",
      "C1_1007                   0\n",
      "C1_1005                   0\n",
      "C1_1002                   0\n",
      "device_conn_type_5        0\n",
      "device_conn_type_3        0\n",
      "device_conn_type_2        0\n",
      "device_type_5             0\n",
      "device_type_4             0\n",
      "device_type_1             0\n",
      "banner_pos_7              0\n",
      "banner_pos_5              0\n",
      "banner_pos_4              0\n",
      "banner_pos_3              0\n",
      "banner_pos_2              0\n",
      "C16_50                    0\n",
      "C16_90                    0\n",
      "C16_250                   0\n",
      "day_22                    0\n",
      "hour_3                    0\n",
      "hour_2                    0\n",
      "hour_1                    0\n",
      "day_30                    0\n",
      "day_29                    0\n",
      "day_28                    0\n",
      "day_27                    0\n",
      "day_26                    0\n",
      "day_25                    0\n",
      "day_24                    0\n",
      "day_23                    0\n",
      "dayofweek_6               0\n",
      "C16_320                   0\n",
      "dayofweek_5               0\n",
      "dayofweek_4               0\n",
      "dayofweek_3               0\n",
      "dayofweek_2               0\n",
      "dayofweek_1               0\n",
      "C18_3                     0\n",
      "C18_2                     0\n",
      "C18_1                     0\n",
      "C16_1024                  0\n",
      "C16_768                   0\n",
      "C16_480                   0\n",
      "app_category_fc6fa53d     0\n",
      "dtype: int64\n"
     ]
    }
   ],
   "source": [
    "missing_val = df.isna().sum().sort_values(ascending=False)\n",
    "print(missing_val)"
   ]
  },
  {
   "cell_type": "markdown",
   "id": "92bc9ec7",
   "metadata": {},
   "source": [
    "### There no NA or missing data in our Data set"
   ]
  },
  {
   "cell_type": "markdown",
   "id": "55c3fd76",
   "metadata": {},
   "source": [
    "## As we know through that, our target Variable 'y' is an categorical variable, Hence will be performing classification ML Techniques."
   ]
  },
  {
   "cell_type": "markdown",
   "id": "ff7538f5",
   "metadata": {},
   "source": [
    "## Splitting the data into Training and Test"
   ]
  },
  {
   "cell_type": "code",
   "execution_count": 44,
   "id": "5214b790",
   "metadata": {},
   "outputs": [
    {
     "data": {
      "text/plain": [
       "Index(['y', 'banner_pos_1', 'banner_pos_2', 'banner_pos_3', 'banner_pos_4',\n",
       "       'banner_pos_5', 'banner_pos_7', 'device_type_1', 'device_type_4',\n",
       "       'device_type_5',\n",
       "       ...\n",
       "       'app_category_8ded1f7a', 'app_category_8df2e842',\n",
       "       'app_category_a3c42688', 'app_category_a7fd01ec',\n",
       "       'app_category_a86a3e89', 'app_category_cef3e649',\n",
       "       'app_category_d1327cf5', 'app_category_dc97ec06',\n",
       "       'app_category_f95efa07', 'app_category_fc6fa53d'],\n",
       "      dtype='object', length=113)"
      ]
     },
     "execution_count": 44,
     "metadata": {},
     "output_type": "execute_result"
    }
   ],
   "source": [
    "df.columns"
   ]
  },
  {
   "cell_type": "code",
   "execution_count": 45,
   "id": "79c2bd2d",
   "metadata": {},
   "outputs": [],
   "source": [
    "# Split the data into a training and test set. \n",
    "\n",
    "# All columns are features execpt for y\n",
    "X = df.loc[:,df.columns != 'y']\n",
    "\n",
    "# y is the target variable\n",
    "y = df.loc[:,['y']]"
   ]
  },
  {
   "cell_type": "code",
   "execution_count": 46,
   "id": "8c94ff50",
   "metadata": {},
   "outputs": [
    {
     "name": "stdout",
     "output_type": "stream",
     "text": [
      "(79999, 112)\n",
      "(79999, 1)\n",
      "(20000, 112)\n",
      "(20000, 1)\n"
     ]
    }
   ],
   "source": [
    "#import a prebuilt function to split the data\n",
    "X_train, X_test, y_train, y_test = train_test_split(X, y, test_size=0.2,stratify=y,random_state=42)\n",
    "print(X_train.shape)\n",
    "print(y_train.shape)\n",
    "print(X_test.shape)\n",
    "print(y_test.shape)"
   ]
  },
  {
   "cell_type": "markdown",
   "id": "468b1799",
   "metadata": {},
   "source": [
    "## As we saw below, our minority class have really less data captured. I am going to use SMOTE technique for adding synthetic data\n",
    "> ### SMOTE is an oversampling technique where the synthetic samples are generated for the minority class. This algorithm helps to overcome the overfitting problem posed by random oversampling."
   ]
  },
  {
   "cell_type": "markdown",
   "id": "4b5d844d",
   "metadata": {},
   "source": [
    "## Before SMOTE sampling techique"
   ]
  },
  {
   "cell_type": "code",
   "execution_count": 48,
   "id": "4fcc01bc",
   "metadata": {},
   "outputs": [
    {
     "data": {
      "image/png": "[encoded data removed]",
      "text/plain": [
       "<Figure size 432x288 with 1 Axes>"
      ]
     },
     "metadata": {
      "needs_background": "light"
     },
     "output_type": "display_data"
    }
   ],
   "source": [
    "plt.figure()\n",
    "sb.countplot(x='y', data=y_test)\n",
    "plt.show()"
   ]
  },
  {
   "cell_type": "code",
   "execution_count": 49,
   "id": "966ba5b3",
   "metadata": {},
   "outputs": [],
   "source": [
    "from imblearn.over_sampling import SMOTE\n",
    "sm = SMOTE(random_state = 42)\n",
    "X_train_sm, y_train_sm = sm.fit_sample(X_train, y_train)\n",
    "X_test_sm, y_test_sm = sm.fit_sample(X_test, y_test)"
   ]
  },
  {
   "cell_type": "code",
   "execution_count": 50,
   "id": "f09aaad9",
   "metadata": {},
   "outputs": [
    {
     "name": "stdout",
     "output_type": "stream",
     "text": [
      "(132830, 112)\n",
      "(132830, 1)\n",
      "(33208, 112)\n",
      "(33208, 1)\n"
     ]
    }
   ],
   "source": [
    "print(X_train_sm.shape)\n",
    "print(y_train_sm.shape)\n",
    "print(X_test_sm.shape)\n",
    "print(y_test_sm.shape)"
   ]
  },
  {
   "cell_type": "markdown",
   "id": "eb65c706",
   "metadata": {},
   "source": [
    "## After Smote Sampling Technique"
   ]
  },
  {
   "cell_type": "code",
   "execution_count": 52,
   "id": "17328956",
   "metadata": {},
   "outputs": [
    {
     "data": {
      "image/png": "[encoded data removed]",
      "text/plain": [
       "<Figure size 432x288 with 1 Axes>"
      ]
     },
     "metadata": {
      "needs_background": "light"
     },
     "output_type": "display_data"
    }
   ],
   "source": [
    "plt.figure()\n",
    "sb.countplot(x='y', data=y_test_sm)\n",
    "plt.show()"
   ]
  },
  {
   "cell_type": "markdown",
   "id": "6a540d6a",
   "metadata": {},
   "source": [
    "## Splitting Data for cross validation"
   ]
  },
  {
   "cell_type": "code",
   "execution_count": 53,
   "id": "fdeb403d",
   "metadata": {},
   "outputs": [],
   "source": [
    "#spliting data into validation train and validation test\n",
    "Xtrain_sm, Xcv_sm, Ytrain_sm, Ycv_sm = train_test_split(X_train_sm, y_train_sm, test_size=0.10, random_state=42)"
   ]
  },
  {
   "cell_type": "markdown",
   "id": "7ff750b7",
   "metadata": {},
   "source": [
    "## KFold parameters for cross Validation"
   ]
  },
  {
   "cell_type": "code",
   "execution_count": 54,
   "id": "4269e02a",
   "metadata": {},
   "outputs": [],
   "source": [
    "cv = KFold(n_splits=5, random_state=42, shuffle=True)"
   ]
  },
  {
   "cell_type": "markdown",
   "id": "cc5e399d",
   "metadata": {},
   "source": [
    "# Model-1\n",
    "## Logistic Regression using Lasso (L1) regularization technique"
   ]
  },
  {
   "cell_type": "code",
   "execution_count": 55,
   "id": "28cca552",
   "metadata": {},
   "outputs": [
    {
     "name": "stdout",
     "output_type": "stream",
     "text": [
      "Accuracy :  0.7484642254878343\n",
      "ROC_AUC Score: 0.8359579108510393\n"
     ]
    }
   ],
   "source": [
    "# Model Building\n",
    "model_1=LogisticRegression(penalty='l1',solver='liblinear')\n",
    "model_1=model_1.fit(Xtrain_sm,Ytrain_sm)\n",
    "y_pred=model_1.predict(X_test_sm)\n",
    "lr_probability =model_1.predict_proba(X_test_sm)[:,1]\n",
    "\n",
    "\n",
    "acc_lr=accuracy_score(y_test_sm,y_pred)\n",
    "recall_lr=recall_score(y_test_sm,y_pred)\n",
    "precision_lr=precision_score(y_test_sm,y_pred)\n",
    "f1score_lr=f1_score(y_test_sm,y_pred)\n",
    "AUC_LR=roc_auc_score(y_test_sm, model_1.predict_proba(X_test_sm)[:, 1])\n",
    "\n",
    "#print accuracy and Auc values of model\n",
    "print(\"Accuracy : \", accuracy_score(y_test_sm,y_pred))\n",
    "print(\"ROC_AUC Score:\",AUC_LR)"
   ]
  },
  {
   "cell_type": "code",
   "execution_count": 56,
   "id": "4672ae13",
   "metadata": {},
   "outputs": [
    {
     "name": "stdout",
     "output_type": "stream",
     "text": [
      "Accuracy score for validation dataset is: 0.6707069186177821\n"
     ]
    }
   ],
   "source": [
    "# Validation data set accuracy\n",
    "Ycv_pred = model_1.predict(Xcv_sm)\n",
    "acc_lr_val = accuracy_score(Ycv_sm, Ycv_pred)\n",
    "print('Accuracy score for validation dataset is:',acc_lr_val)"
   ]
  },
  {
   "cell_type": "code",
   "execution_count": 57,
   "id": "6d89f09e",
   "metadata": {},
   "outputs": [
    {
     "name": "stdout",
     "output_type": "stream",
     "text": [
      "Cross Validation score for Logistic Regression using Lasso: 0.6746384519904947\n"
     ]
    }
   ],
   "source": [
    "lr_cv_acc = cross_val_score(model_1, Xtrain_sm, Ytrain_sm, cv=cv, scoring='accuracy').mean()\n",
    "print(\"Cross Validation score for Logistic Regression using Lasso:\", lr_cv_acc)"
   ]
  },
  {
   "cell_type": "code",
   "execution_count": 58,
   "id": "e48cf30a",
   "metadata": {},
   "outputs": [
    {
     "name": "stdout",
     "output_type": "stream",
     "text": [
      "[[13381  3223]\n",
      " [ 5130 11474]]\n"
     ]
    },
    {
     "data": {
      "image/png": "[encoded data removed]",
      "text/plain": [
       "<Figure size 432x288 with 2 Axes>"
      ]
     },
     "metadata": {
      "needs_background": "light"
     },
     "output_type": "display_data"
    }
   ],
   "source": [
    "# Plot and print confusion matrix\n",
    "cnf_matrix = metrics.confusion_matrix(y_test_sm, y_pred)\n",
    "print(cnf_matrix)\n",
    "metrics.plot_confusion_matrix(model_1, X_test_sm, y_test_sm)\n",
    "plt.show()"
   ]
  },
  {
   "cell_type": "code",
   "execution_count": 59,
   "id": "fd0aae11",
   "metadata": {},
   "outputs": [
    {
     "data": {
      "image/png": "[encoded data removed]",
      "text/plain": [
       "<Figure size 432x288 with 1 Axes>"
      ]
     },
     "metadata": {
      "needs_background": "light"
     },
     "output_type": "display_data"
    }
   ],
   "source": [
    "fpr, tpr,_ = roc_curve(y_test_sm, lr_probability,)\n",
    "plt.title('Logistic Regression ROC curve')\n",
    "plt.xlabel('FPR (Precision)')\n",
    "plt.ylabel('TPR (Recall)')\n",
    "plt.plot(fpr,tpr)\n",
    "plt.plot((0,1), ls='dashed',color='black')\n",
    "plt.show()"
   ]
  },
  {
   "cell_type": "code",
   "execution_count": 60,
   "id": "f0f569b6",
   "metadata": {},
   "outputs": [
    {
     "name": "stdout",
     "output_type": "stream",
     "text": [
      "              precision    recall  f1-score   support\n",
      "\n",
      "           0       0.72      0.81      0.76     16604\n",
      "           1       0.78      0.69      0.73     16604\n",
      "\n",
      "    accuracy                           0.75     33208\n",
      "   macro avg       0.75      0.75      0.75     33208\n",
      "weighted avg       0.75      0.75      0.75     33208\n",
      "\n"
     ]
    }
   ],
   "source": [
    "print(classification_report(y_test_sm, y_pred))"
   ]
  },
  {
   "cell_type": "markdown",
   "id": "3ae179d9",
   "metadata": {},
   "source": [
    "# Model_2\n",
    "## Random Forest Technique"
   ]
  },
  {
   "cell_type": "code",
   "execution_count": 61,
   "id": "189f1b55",
   "metadata": {},
   "outputs": [
    {
     "name": "stdout",
     "output_type": "stream",
     "text": [
      "0.7346723681040713\n",
      "ROC_AUC Score: 0.816430764376537\n"
     ]
    }
   ],
   "source": [
    "model_2 = RandomForestClassifier(criterion='gini',random_state=42)\n",
    "model_2=model_2.fit(Xtrain_sm, Ytrain_sm)\n",
    "y_pred = model_2.predict(X_test_sm)\n",
    "RF_probability = model_2.predict_proba(X_test_sm)[:,1]\n",
    "\n",
    "\n",
    "AUC_RF=roc_auc_score(y_test_sm, model_2.predict_proba(X_test_sm)[:, 1])\n",
    "acc_rf=accuracy_score(y_test_sm,y_pred)\n",
    "recall_rf=recall_score(y_test_sm,y_pred)\n",
    "precision_rf=precision_score(y_test_sm,y_pred)\n",
    "f1score_rf=f1_score(y_test_sm,y_pred)\n",
    "\n",
    "print(accuracy_score(y_pred,y_test_sm))\n",
    "print(\"ROC_AUC Score:\",AUC_RF)"
   ]
  },
  {
   "cell_type": "code",
   "execution_count": 62,
   "id": "6543df4f",
   "metadata": {},
   "outputs": [
    {
     "name": "stdout",
     "output_type": "stream",
     "text": [
      "Accuracy score for validation dataset is: 0.7464428216517353\n"
     ]
    }
   ],
   "source": [
    "# Validation data set accuracy\n",
    "Ycv_pred = model_2.predict(Xcv_sm)\n",
    "acc_rf_val = accuracy_score(Ycv_sm, Ycv_pred)\n",
    "print('Accuracy score for validation dataset is:',acc_rf_val)"
   ]
  },
  {
   "cell_type": "code",
   "execution_count": 63,
   "id": "35c3543f",
   "metadata": {},
   "outputs": [
    {
     "name": "stdout",
     "output_type": "stream",
     "text": [
      "Cross Validation score for Random Forest: 0.7355600573826393\n"
     ]
    }
   ],
   "source": [
    "RF_cv_acc = cross_val_score(model_2, Xtrain_sm, Ytrain_sm, cv=cv, scoring='accuracy').mean()\n",
    "print(\"Cross Validation score for Random Forest:\", RF_cv_acc)"
   ]
  },
  {
   "cell_type": "code",
   "execution_count": 64,
   "id": "4265fd9a",
   "metadata": {},
   "outputs": [
    {
     "name": "stdout",
     "output_type": "stream",
     "text": [
      "[[11920  4684]\n",
      " [ 4127 12477]]\n"
     ]
    },
    {
     "data": {
      "image/png": "[encoded data removed]",
      "text/plain": [
       "<Figure size 432x288 with 2 Axes>"
      ]
     },
     "metadata": {
      "needs_background": "light"
     },
     "output_type": "display_data"
    }
   ],
   "source": [
    "# Plot and print confusion matrix\n",
    "cnf_matrix = metrics.confusion_matrix(y_test_sm, y_pred)\n",
    "print(cnf_matrix)\n",
    "metrics.plot_confusion_matrix(model_2, X_test_sm, y_test_sm)\n",
    "plt.show()"
   ]
  },
  {
   "cell_type": "code",
   "execution_count": 65,
   "id": "bc63d9d5",
   "metadata": {},
   "outputs": [
    {
     "data": {
      "image/png": "[encoded data removed]",
      "text/plain": [
       "<Figure size 432x288 with 1 Axes>"
      ]
     },
     "metadata": {
      "needs_background": "light"
     },
     "output_type": "display_data"
    }
   ],
   "source": [
    "fpr, tpr,_ = roc_curve(y_test_sm, RF_probability,)\n",
    "plt.title('Random Forest ROC curve')\n",
    "plt.xlabel('FPR (Precision)')\n",
    "plt.ylabel('TPR (Recall)')\n",
    "plt.plot(fpr,tpr)\n",
    "plt.plot((0,1), ls='dashed',color='black')\n",
    "plt.show()"
   ]
  },
  {
   "cell_type": "code",
   "execution_count": 66,
   "id": "646781ba",
   "metadata": {},
   "outputs": [
    {
     "name": "stdout",
     "output_type": "stream",
     "text": [
      "              precision    recall  f1-score   support\n",
      "\n",
      "           0       0.74      0.72      0.73     16604\n",
      "           1       0.73      0.75      0.74     16604\n",
      "\n",
      "    accuracy                           0.73     33208\n",
      "   macro avg       0.73      0.73      0.73     33208\n",
      "weighted avg       0.73      0.73      0.73     33208\n",
      "\n"
     ]
    }
   ],
   "source": [
    "print(classification_report(y_test_sm, y_pred))"
   ]
  },
  {
   "cell_type": "markdown",
   "id": "04c461b3",
   "metadata": {},
   "source": [
    "# Model_3\n",
    "## Boosting Technique (XGBOOST)\n",
    "\n",
    "### There are 2 most widely used boosting techniques\n",
    "> ### Adaboost\n",
    "> ### XGBoost\n",
    "\n",
    "###  We will be using XGBOOST technique because eventhough we have done some feature selection but still we have not done any extensive feature selection.Also as we know with SMOTE , one of the disadvantage is that it adds up some noise, hence ADABOOST is not that good with noisy data. So we shall be using XGBOOST technique"
   ]
  },
  {
   "cell_type": "code",
   "execution_count": 67,
   "id": "08ce9e3a",
   "metadata": {},
   "outputs": [
    {
     "name": "stdout",
     "output_type": "stream",
     "text": [
      "0.769814502529511\n",
      "ROC_AUC Score: 0.8581761140268522\n"
     ]
    }
   ],
   "source": [
    "#Gradient Boosted Trees (GBT)\n",
    "model_3=XGBClassifier(random_state=42,eval_metric='mlogloss')\n",
    "model_3=model_3.fit(Xtrain_sm, Ytrain_sm)\n",
    "y_predict = model_3.predict(X_test_sm)\n",
    "XGB_probability = model_3.predict_proba(X_test_sm)[:,1]\n",
    "\n",
    "acc_xgb=accuracy_score(y_test_sm,y_predict)\n",
    "recall_xgb=recall_score(y_test_sm,y_predict)\n",
    "precision_xgb=precision_score(y_test_sm,y_predict)\n",
    "f1score_xgb=f1_score(y_test_sm,y_predict)\n",
    "\n",
    "AUC_xgb=roc_auc_score(y_test_sm, model_3.predict_proba(X_test_sm)[:, 1])\n",
    "\n",
    "\n",
    "print(accuracy_score(y_predict,y_test_sm))\n",
    "print(\"ROC_AUC Score:\",AUC_xgb)"
   ]
  },
  {
   "cell_type": "code",
   "execution_count": 68,
   "id": "566a0ffd",
   "metadata": {},
   "outputs": [
    {
     "name": "stdout",
     "output_type": "stream",
     "text": [
      "Accuracy score for validation dataset is: 0.6993149137995934\n"
     ]
    }
   ],
   "source": [
    "# Validation data set accuracy\n",
    "Ycv_pred = model_3.predict(Xcv_sm)\n",
    "acc_xgb_val = accuracy_score(Ycv_sm, Ycv_pred)\n",
    "print('Accuracy score for validation dataset is:',acc_xgb_val)"
   ]
  },
  {
   "cell_type": "code",
   "execution_count": 69,
   "id": "269a0c83",
   "metadata": {},
   "outputs": [
    {
     "name": "stdout",
     "output_type": "stream",
     "text": [
      "Cross Validation score for Random Forest: 0.7037817974919857\n"
     ]
    }
   ],
   "source": [
    "XGB_cv_acc = cross_val_score(model_3, Xtrain_sm, Ytrain_sm, cv=cv, scoring='accuracy').mean()\n",
    "print(\"Cross Validation score for Random Forest:\", XGB_cv_acc)"
   ]
  },
  {
   "cell_type": "code",
   "execution_count": 70,
   "id": "8d9c20d3",
   "metadata": {},
   "outputs": [
    {
     "name": "stdout",
     "output_type": "stream",
     "text": [
      "[[13219  3385]\n",
      " [ 4259 12345]]\n"
     ]
    },
    {
     "data": {
      "image/png": "[encoded data removed]",
      "text/plain": [
       "<Figure size 432x288 with 2 Axes>"
      ]
     },
     "metadata": {
      "needs_background": "light"
     },
     "output_type": "display_data"
    }
   ],
   "source": [
    "# Plot and print confusion matrix\n",
    "cnf_matrix = metrics.confusion_matrix(y_test_sm, y_predict)\n",
    "print(cnf_matrix)\n",
    "metrics.plot_confusion_matrix(model_3, X_test_sm, y_test_sm)\n",
    "plt.show()"
   ]
  },
  {
   "cell_type": "code",
   "execution_count": 71,
   "id": "a31093c7",
   "metadata": {},
   "outputs": [
    {
     "data": {
      "image/png": "[encoded data removed]",
      "text/plain": [
       "<Figure size 432x288 with 1 Axes>"
      ]
     },
     "metadata": {
      "needs_background": "light"
     },
     "output_type": "display_data"
    }
   ],
   "source": [
    "fpr, tpr,_ = roc_curve(y_test_sm, XGB_probability,)\n",
    "plt.title('XGBOOST ROC curve')\n",
    "plt.xlabel('FPR (Precision)')\n",
    "plt.ylabel('TPR (Recall)')\n",
    "plt.plot(fpr,tpr)\n",
    "plt.plot((0,1), ls='dashed',color='black')\n",
    "plt.show()"
   ]
  },
  {
   "cell_type": "code",
   "execution_count": 72,
   "id": "6a122212",
   "metadata": {},
   "outputs": [
    {
     "name": "stdout",
     "output_type": "stream",
     "text": [
      "              precision    recall  f1-score   support\n",
      "\n",
      "           0       0.76      0.80      0.78     16604\n",
      "           1       0.78      0.74      0.76     16604\n",
      "\n",
      "    accuracy                           0.77     33208\n",
      "   macro avg       0.77      0.77      0.77     33208\n",
      "weighted avg       0.77      0.77      0.77     33208\n",
      "\n"
     ]
    }
   ],
   "source": [
    "print(classification_report(y_test_sm, y_predict))"
   ]
  },
  {
   "cell_type": "code",
   "execution_count": 73,
   "id": "20a655d5",
   "metadata": {},
   "outputs": [
    {
     "data": {
      "text/html": [
       "<div>\n",
       "<style scoped>\n",
       "    .dataframe tbody tr th:only-of-type {\n",
       "        vertical-align: middle;\n",
       "    }\n",
       "\n",
       "    .dataframe tbody tr th {\n",
       "        vertical-align: top;\n",
       "    }\n",
       "\n",
       "    .dataframe thead th {\n",
       "        text-align: right;\n",
       "    }\n",
       "</style>\n",
       "<table border=\"1\" class=\"dataframe\">\n",
       "  <thead>\n",
       "    <tr style=\"text-align: right;\">\n",
       "      <th></th>\n",
       "      <th>Recall</th>\n",
       "      <th>Precision</th>\n",
       "      <th>f1_score</th>\n",
       "      <th>ROC_AUC</th>\n",
       "      <th>Cross-Validation_Accuracy</th>\n",
       "      <th>Validation_Data_Accuracy</th>\n",
       "      <th>Test_Data_Accuracy</th>\n",
       "    </tr>\n",
       "  </thead>\n",
       "  <tbody>\n",
       "    <tr>\n",
       "      <th>Logistic regression Using Lasso</th>\n",
       "      <td>0.691038</td>\n",
       "      <td>0.780704</td>\n",
       "      <td>0.733140</td>\n",
       "      <td>0.835958</td>\n",
       "      <td>0.674638</td>\n",
       "      <td>0.670707</td>\n",
       "      <td>0.748464</td>\n",
       "    </tr>\n",
       "    <tr>\n",
       "      <th>Random forest</th>\n",
       "      <td>0.751445</td>\n",
       "      <td>0.727056</td>\n",
       "      <td>0.739049</td>\n",
       "      <td>0.816431</td>\n",
       "      <td>0.735560</td>\n",
       "      <td>0.746443</td>\n",
       "      <td>0.734672</td>\n",
       "    </tr>\n",
       "    <tr>\n",
       "      <th>XGBOOST</th>\n",
       "      <td>0.743496</td>\n",
       "      <td>0.784806</td>\n",
       "      <td>0.763593</td>\n",
       "      <td>0.858176</td>\n",
       "      <td>0.703782</td>\n",
       "      <td>0.699315</td>\n",
       "      <td>0.769815</td>\n",
       "    </tr>\n",
       "  </tbody>\n",
       "</table>\n",
       "</div>"
      ],
      "text/plain": [
       "                                   Recall  Precision  f1_score   ROC_AUC  \\\n",
       "Logistic regression Using Lasso  0.691038   0.780704  0.733140  0.835958   \n",
       "Random forest                    0.751445   0.727056  0.739049  0.816431   \n",
       "XGBOOST                          0.743496   0.784806  0.763593  0.858176   \n",
       "\n",
       "                                 Cross-Validation_Accuracy  \\\n",
       "Logistic regression Using Lasso                   0.674638   \n",
       "Random forest                                     0.735560   \n",
       "XGBOOST                                           0.703782   \n",
       "\n",
       "                                 Validation_Data_Accuracy  Test_Data_Accuracy  \n",
       "Logistic regression Using Lasso                  0.670707            0.748464  \n",
       "Random forest                                    0.746443            0.734672  \n",
       "XGBOOST                                          0.699315            0.769815  "
      ]
     },
     "execution_count": 73,
     "metadata": {},
     "output_type": "execute_result"
    }
   ],
   "source": [
    "row_name=['Logistic regression Using Lasso','Random forest','XGBOOST']\n",
    "columns_data={\"Recall\":[recall_lr,recall_rf,recall_xgb],\"Precision\":[precision_lr,precision_rf,precision_xgb],\n",
    "    'f1_score':[f1score_lr,f1score_rf,f1score_xgb],\"ROC_AUC\":[AUC_LR,AUC_RF,AUC_xgb],\"Cross-Validation_Accuracy\":[lr_cv_acc,RF_cv_acc,XGB_cv_acc],\"Validation_Data_Accuracy\":[acc_lr_val,acc_rf_val,acc_xgb_val],\"Test_Data_Accuracy\":[acc_lr,acc_rf,acc_xgb]}\n",
    "Result_before_tuning=pd.DataFrame(data=columns_data,index=row_name)\n",
    "Result_before_tuning"
   ]
  },
  {
   "cell_type": "markdown",
   "id": "94f7aa33",
   "metadata": {},
   "source": [
    "## Model Evaluation (With minimum feature selection & No hyperparameter tuning(default hyperparameter) for Algorythms)\n",
    "\n",
    "> ### As we see that model_1 (Logistic regression Using Lasso) & mode_3 (XGBOOST) have good ROC_AUC but they perform bad in cross_validation and validation_datacompared to model_2.Also model_1 (Logistic regression Using Lasso) Recall value is comparately lower than others Model_2 (Random forest) and mode_3 (XGBOOST).\n",
    "> ### Where as, Model_2 (Random forest) performs better than all other models, having Cross-validation_Accuracy, Validation_Data_Accuracy and Test_Data_Accuracy being almost same also its Recall value is high compare to all other models\n",
    ">> ### Recall value is calculated as the ratio between the numbers of Positive samples correctly classified as Positive to the total number of Positive samples. The recall measures the model's ability to detect positive samples. The higher the recall, the more positive samples detected.\n",
    "\n",
    "### We will not make a final decision on model selection here, but rather will do it after doing the following\n",
    "\n",
    "> ### Hyperparameter Tuning\n",
    "> ### Feature selection using RFE"
   ]
  },
  {
   "cell_type": "markdown",
   "id": "2e38532f",
   "metadata": {},
   "source": [
    "## 1. Hyperparamter Tuning Optimization "
   ]
  },
  {
   "cell_type": "markdown",
   "id": "6cf53157",
   "metadata": {},
   "source": [
    "### max_depth  "
   ]
  },
  {
   "cell_type": "code",
   "execution_count": 74,
   "id": "bc744451",
   "metadata": {},
   "outputs": [],
   "source": [
    "parameters = {'max_depth': range(1,50,5)}"
   ]
  },
  {
   "cell_type": "code",
   "execution_count": 75,
   "id": "adb8f6ec",
   "metadata": {},
   "outputs": [],
   "source": [
    "dtree = RandomForestClassifier(criterion='gini', random_state=42)"
   ]
  },
  {
   "cell_type": "code",
   "execution_count": 76,
   "id": "31d7c943",
   "metadata": {},
   "outputs": [],
   "source": [
    "tree=GridSearchCV(dtree,parameters,cv=cv,scoring=\"accuracy\",return_train_score=True)"
   ]
  },
  {
   "cell_type": "code",
   "execution_count": 77,
   "id": "33c9bcd6",
   "metadata": {},
   "outputs": [
    {
     "data": {
      "text/plain": [
       "GridSearchCV(cv=KFold(n_splits=5, random_state=42, shuffle=True),\n",
       "             estimator=RandomForestClassifier(random_state=42),\n",
       "             param_grid={'max_depth': range(1, 50, 5)}, return_train_score=True,\n",
       "             scoring='accuracy')"
      ]
     },
     "execution_count": 77,
     "metadata": {},
     "output_type": "execute_result"
    }
   ],
   "source": [
    "tree.fit(Xtrain_sm, Ytrain_sm)"
   ]
  },
  {
   "cell_type": "code",
   "execution_count": 78,
   "id": "bea0aeeb",
   "metadata": {},
   "outputs": [
    {
     "data": {
      "text/html": [
       "<div>\n",
       "<style scoped>\n",
       "    .dataframe tbody tr th:only-of-type {\n",
       "        vertical-align: middle;\n",
       "    }\n",
       "\n",
       "    .dataframe tbody tr th {\n",
       "        vertical-align: top;\n",
       "    }\n",
       "\n",
       "    .dataframe thead th {\n",
       "        text-align: right;\n",
       "    }\n",
       "</style>\n",
       "<table border=\"1\" class=\"dataframe\">\n",
       "  <thead>\n",
       "    <tr style=\"text-align: right;\">\n",
       "      <th></th>\n",
       "      <th>mean_fit_time</th>\n",
       "      <th>std_fit_time</th>\n",
       "      <th>mean_score_time</th>\n",
       "      <th>std_score_time</th>\n",
       "      <th>param_max_depth</th>\n",
       "      <th>params</th>\n",
       "      <th>split0_test_score</th>\n",
       "      <th>split1_test_score</th>\n",
       "      <th>split2_test_score</th>\n",
       "      <th>split3_test_score</th>\n",
       "      <th>split4_test_score</th>\n",
       "      <th>mean_test_score</th>\n",
       "      <th>std_test_score</th>\n",
       "      <th>rank_test_score</th>\n",
       "      <th>split0_train_score</th>\n",
       "      <th>split1_train_score</th>\n",
       "      <th>split2_train_score</th>\n",
       "      <th>split3_train_score</th>\n",
       "      <th>split4_train_score</th>\n",
       "      <th>mean_train_score</th>\n",
       "      <th>std_train_score</th>\n",
       "    </tr>\n",
       "  </thead>\n",
       "  <tbody>\n",
       "    <tr>\n",
       "      <th>0</th>\n",
       "      <td>1.516267</td>\n",
       "      <td>0.045834</td>\n",
       "      <td>0.112423</td>\n",
       "      <td>0.001114</td>\n",
       "      <td>1</td>\n",
       "      <td>{'max_depth': 1}</td>\n",
       "      <td>0.615098</td>\n",
       "      <td>0.613551</td>\n",
       "      <td>0.613576</td>\n",
       "      <td>0.611318</td>\n",
       "      <td>0.613284</td>\n",
       "      <td>0.613365</td>\n",
       "      <td>0.001207</td>\n",
       "      <td>10</td>\n",
       "      <td>0.614929</td>\n",
       "      <td>0.613528</td>\n",
       "      <td>0.614536</td>\n",
       "      <td>0.612926</td>\n",
       "      <td>0.612926</td>\n",
       "      <td>0.613769</td>\n",
       "      <td>0.000826</td>\n",
       "    </tr>\n",
       "    <tr>\n",
       "      <th>1</th>\n",
       "      <td>3.785182</td>\n",
       "      <td>0.019322</td>\n",
       "      <td>0.161425</td>\n",
       "      <td>0.003150</td>\n",
       "      <td>6</td>\n",
       "      <td>{'max_depth': 6}</td>\n",
       "      <td>0.657800</td>\n",
       "      <td>0.644500</td>\n",
       "      <td>0.647539</td>\n",
       "      <td>0.657493</td>\n",
       "      <td>0.647497</td>\n",
       "      <td>0.650966</td>\n",
       "      <td>0.005566</td>\n",
       "      <td>9</td>\n",
       "      <td>0.660163</td>\n",
       "      <td>0.647532</td>\n",
       "      <td>0.651070</td>\n",
       "      <td>0.661986</td>\n",
       "      <td>0.647420</td>\n",
       "      <td>0.653634</td>\n",
       "      <td>0.006242</td>\n",
       "    </tr>\n",
       "    <tr>\n",
       "      <th>2</th>\n",
       "      <td>6.152089</td>\n",
       "      <td>0.033161</td>\n",
       "      <td>0.222238</td>\n",
       "      <td>0.005077</td>\n",
       "      <td>11</td>\n",
       "      <td>{'max_depth': 11}</td>\n",
       "      <td>0.671476</td>\n",
       "      <td>0.670640</td>\n",
       "      <td>0.673763</td>\n",
       "      <td>0.673721</td>\n",
       "      <td>0.676607</td>\n",
       "      <td>0.673242</td>\n",
       "      <td>0.002084</td>\n",
       "      <td>8</td>\n",
       "      <td>0.677332</td>\n",
       "      <td>0.673359</td>\n",
       "      <td>0.676990</td>\n",
       "      <td>0.679207</td>\n",
       "      <td>0.678287</td>\n",
       "      <td>0.677035</td>\n",
       "      <td>0.001995</td>\n",
       "    </tr>\n",
       "    <tr>\n",
       "      <th>3</th>\n",
       "      <td>8.534278</td>\n",
       "      <td>0.221366</td>\n",
       "      <td>0.300607</td>\n",
       "      <td>0.015827</td>\n",
       "      <td>16</td>\n",
       "      <td>{'max_depth': 16}</td>\n",
       "      <td>0.689837</td>\n",
       "      <td>0.696110</td>\n",
       "      <td>0.693212</td>\n",
       "      <td>0.689615</td>\n",
       "      <td>0.693965</td>\n",
       "      <td>0.692548</td>\n",
       "      <td>0.002494</td>\n",
       "      <td>7</td>\n",
       "      <td>0.698328</td>\n",
       "      <td>0.698924</td>\n",
       "      <td>0.700443</td>\n",
       "      <td>0.698248</td>\n",
       "      <td>0.698300</td>\n",
       "      <td>0.698849</td>\n",
       "      <td>0.000835</td>\n",
       "    </tr>\n",
       "    <tr>\n",
       "      <th>4</th>\n",
       "      <td>10.654076</td>\n",
       "      <td>0.027485</td>\n",
       "      <td>0.387804</td>\n",
       "      <td>0.028288</td>\n",
       "      <td>21</td>\n",
       "      <td>{'max_depth': 21}</td>\n",
       "      <td>0.704141</td>\n",
       "      <td>0.703848</td>\n",
       "      <td>0.703417</td>\n",
       "      <td>0.701660</td>\n",
       "      <td>0.705299</td>\n",
       "      <td>0.703673</td>\n",
       "      <td>0.001184</td>\n",
       "      <td>6</td>\n",
       "      <td>0.713678</td>\n",
       "      <td>0.711116</td>\n",
       "      <td>0.712991</td>\n",
       "      <td>0.712928</td>\n",
       "      <td>0.713545</td>\n",
       "      <td>0.712851</td>\n",
       "      <td>0.000917</td>\n",
       "    </tr>\n",
       "    <tr>\n",
       "      <th>5</th>\n",
       "      <td>13.756665</td>\n",
       "      <td>0.603224</td>\n",
       "      <td>0.486410</td>\n",
       "      <td>0.054690</td>\n",
       "      <td>26</td>\n",
       "      <td>{'max_depth': 26}</td>\n",
       "      <td>0.711000</td>\n",
       "      <td>0.714596</td>\n",
       "      <td>0.714334</td>\n",
       "      <td>0.712577</td>\n",
       "      <td>0.713455</td>\n",
       "      <td>0.713192</td>\n",
       "      <td>0.001306</td>\n",
       "      <td>5</td>\n",
       "      <td>0.725650</td>\n",
       "      <td>0.724615</td>\n",
       "      <td>0.725663</td>\n",
       "      <td>0.726594</td>\n",
       "      <td>0.724848</td>\n",
       "      <td>0.725474</td>\n",
       "      <td>0.000700</td>\n",
       "    </tr>\n",
       "    <tr>\n",
       "      <th>6</th>\n",
       "      <td>14.976824</td>\n",
       "      <td>0.052063</td>\n",
       "      <td>0.536305</td>\n",
       "      <td>0.017145</td>\n",
       "      <td>31</td>\n",
       "      <td>{'max_depth': 31}</td>\n",
       "      <td>0.719197</td>\n",
       "      <td>0.722459</td>\n",
       "      <td>0.722740</td>\n",
       "      <td>0.717847</td>\n",
       "      <td>0.722155</td>\n",
       "      <td>0.720880</td>\n",
       "      <td>0.001981</td>\n",
       "      <td>4</td>\n",
       "      <td>0.735531</td>\n",
       "      <td>0.736451</td>\n",
       "      <td>0.737719</td>\n",
       "      <td>0.737970</td>\n",
       "      <td>0.736590</td>\n",
       "      <td>0.736852</td>\n",
       "      <td>0.000892</td>\n",
       "    </tr>\n",
       "    <tr>\n",
       "      <th>7</th>\n",
       "      <td>17.235218</td>\n",
       "      <td>1.208692</td>\n",
       "      <td>0.619628</td>\n",
       "      <td>0.012869</td>\n",
       "      <td>36</td>\n",
       "      <td>{'max_depth': 36}</td>\n",
       "      <td>0.725680</td>\n",
       "      <td>0.726558</td>\n",
       "      <td>0.728721</td>\n",
       "      <td>0.724999</td>\n",
       "      <td>0.728596</td>\n",
       "      <td>0.726911</td>\n",
       "      <td>0.001511</td>\n",
       "      <td>3</td>\n",
       "      <td>0.745329</td>\n",
       "      <td>0.745862</td>\n",
       "      <td>0.749043</td>\n",
       "      <td>0.747987</td>\n",
       "      <td>0.748301</td>\n",
       "      <td>0.747304</td>\n",
       "      <td>0.001447</td>\n",
       "    </tr>\n",
       "    <tr>\n",
       "      <th>8</th>\n",
       "      <td>17.578643</td>\n",
       "      <td>0.128635</td>\n",
       "      <td>0.654948</td>\n",
       "      <td>0.003665</td>\n",
       "      <td>41</td>\n",
       "      <td>{'max_depth': 41}</td>\n",
       "      <td>0.731995</td>\n",
       "      <td>0.731870</td>\n",
       "      <td>0.731356</td>\n",
       "      <td>0.728010</td>\n",
       "      <td>0.731607</td>\n",
       "      <td>0.730968</td>\n",
       "      <td>0.001495</td>\n",
       "      <td>2</td>\n",
       "      <td>0.755398</td>\n",
       "      <td>0.755712</td>\n",
       "      <td>0.756613</td>\n",
       "      <td>0.756237</td>\n",
       "      <td>0.756582</td>\n",
       "      <td>0.756108</td>\n",
       "      <td>0.000481</td>\n",
       "    </tr>\n",
       "    <tr>\n",
       "      <th>9</th>\n",
       "      <td>18.631850</td>\n",
       "      <td>0.078802</td>\n",
       "      <td>0.706326</td>\n",
       "      <td>0.007806</td>\n",
       "      <td>46</td>\n",
       "      <td>{'max_depth': 46}</td>\n",
       "      <td>0.735341</td>\n",
       "      <td>0.734170</td>\n",
       "      <td>0.734201</td>\n",
       "      <td>0.731440</td>\n",
       "      <td>0.733239</td>\n",
       "      <td>0.733678</td>\n",
       "      <td>0.001302</td>\n",
       "      <td>1</td>\n",
       "      <td>0.763073</td>\n",
       "      <td>0.762926</td>\n",
       "      <td>0.763609</td>\n",
       "      <td>0.763253</td>\n",
       "      <td>0.764278</td>\n",
       "      <td>0.763428</td>\n",
       "      <td>0.000482</td>\n",
       "    </tr>\n",
       "  </tbody>\n",
       "</table>\n",
       "</div>"
      ],
      "text/plain": [
       "   mean_fit_time  std_fit_time  mean_score_time  std_score_time  \\\n",
       "0       1.516267      0.045834         0.112423        0.001114   \n",
       "1       3.785182      0.019322         0.161425        0.003150   \n",
       "2       6.152089      0.033161         0.222238        0.005077   \n",
       "3       8.534278      0.221366         0.300607        0.015827   \n",
       "4      10.654076      0.027485         0.387804        0.028288   \n",
       "5      13.756665      0.603224         0.486410        0.054690   \n",
       "6      14.976824      0.052063         0.536305        0.017145   \n",
       "7      17.235218      1.208692         0.619628        0.012869   \n",
       "8      17.578643      0.128635         0.654948        0.003665   \n",
       "9      18.631850      0.078802         0.706326        0.007806   \n",
       "\n",
       "  param_max_depth             params  split0_test_score  split1_test_score  \\\n",
       "0               1   {'max_depth': 1}           0.615098           0.613551   \n",
       "1               6   {'max_depth': 6}           0.657800           0.644500   \n",
       "2              11  {'max_depth': 11}           0.671476           0.670640   \n",
       "3              16  {'max_depth': 16}           0.689837           0.696110   \n",
       "4              21  {'max_depth': 21}           0.704141           0.703848   \n",
       "5              26  {'max_depth': 26}           0.711000           0.714596   \n",
       "6              31  {'max_depth': 31}           0.719197           0.722459   \n",
       "7              36  {'max_depth': 36}           0.725680           0.726558   \n",
       "8              41  {'max_depth': 41}           0.731995           0.731870   \n",
       "9              46  {'max_depth': 46}           0.735341           0.734170   \n",
       "\n",
       "   split2_test_score  split3_test_score  split4_test_score  mean_test_score  \\\n",
       "0           0.613576           0.611318           0.613284         0.613365   \n",
       "1           0.647539           0.657493           0.647497         0.650966   \n",
       "2           0.673763           0.673721           0.676607         0.673242   \n",
       "3           0.693212           0.689615           0.693965         0.692548   \n",
       "4           0.703417           0.701660           0.705299         0.703673   \n",
       "5           0.714334           0.712577           0.713455         0.713192   \n",
       "6           0.722740           0.717847           0.722155         0.720880   \n",
       "7           0.728721           0.724999           0.728596         0.726911   \n",
       "8           0.731356           0.728010           0.731607         0.730968   \n",
       "9           0.734201           0.731440           0.733239         0.733678   \n",
       "\n",
       "   std_test_score  rank_test_score  split0_train_score  split1_train_score  \\\n",
       "0        0.001207               10            0.614929            0.613528   \n",
       "1        0.005566                9            0.660163            0.647532   \n",
       "2        0.002084                8            0.677332            0.673359   \n",
       "3        0.002494                7            0.698328            0.698924   \n",
       "4        0.001184                6            0.713678            0.711116   \n",
       "5        0.001306                5            0.725650            0.724615   \n",
       "6        0.001981                4            0.735531            0.736451   \n",
       "7        0.001511                3            0.745329            0.745862   \n",
       "8        0.001495                2            0.755398            0.755712   \n",
       "9        0.001302                1            0.763073            0.762926   \n",
       "\n",
       "   split2_train_score  split3_train_score  split4_train_score  \\\n",
       "0            0.614536            0.612926            0.612926   \n",
       "1            0.651070            0.661986            0.647420   \n",
       "2            0.676990            0.679207            0.678287   \n",
       "3            0.700443            0.698248            0.698300   \n",
       "4            0.712991            0.712928            0.713545   \n",
       "5            0.725663            0.726594            0.724848   \n",
       "6            0.737719            0.737970            0.736590   \n",
       "7            0.749043            0.747987            0.748301   \n",
       "8            0.756613            0.756237            0.756582   \n",
       "9            0.763609            0.763253            0.764278   \n",
       "\n",
       "   mean_train_score  std_train_score  \n",
       "0          0.613769         0.000826  \n",
       "1          0.653634         0.006242  \n",
       "2          0.677035         0.001995  \n",
       "3          0.698849         0.000835  \n",
       "4          0.712851         0.000917  \n",
       "5          0.725474         0.000700  \n",
       "6          0.736852         0.000892  \n",
       "7          0.747304         0.001447  \n",
       "8          0.756108         0.000481  \n",
       "9          0.763428         0.000482  "
      ]
     },
     "execution_count": 78,
     "metadata": {},
     "output_type": "execute_result"
    }
   ],
   "source": [
    "scores = tree.cv_results_\n",
    "pd.DataFrame(scores)"
   ]
  },
  {
   "cell_type": "code",
   "execution_count": 79,
   "id": "f6f4f59d",
   "metadata": {},
   "outputs": [
    {
     "data": {
      "image/png": "[encoded data removed]",
      "text/plain": [
       "<Figure size 432x288 with 1 Axes>"
      ]
     },
     "metadata": {
      "needs_background": "light"
     },
     "output_type": "display_data"
    }
   ],
   "source": [
    "# Plot accuracy vs param_max_depth\n",
    "plt.figure\n",
    "plt.plot(scores[\"param_max_depth\"].data,scores[\"mean_train_score\"],label=\"training_accuracy\")\n",
    "plt.plot(scores[\"param_max_depth\"].data, scores[\"mean_test_score\"], label=\"test_accuracy\")\n",
    "plt.xlabel(\"max_depth\")\n",
    "plt.ylabel(\"accuracy\")\n",
    "plt.legend()\n",
    "plt.show()"
   ]
  },
  {
   "cell_type": "code",
   "execution_count": 80,
   "id": "4f852fba",
   "metadata": {},
   "outputs": [
    {
     "data": {
      "text/plain": [
       "{'max_depth': 46}"
      ]
     },
     "execution_count": 80,
     "metadata": {},
     "output_type": "execute_result"
    }
   ],
   "source": [
    "tree.best_params_"
   ]
  },
  {
   "cell_type": "markdown",
   "id": "1e41aaf3",
   "metadata": {},
   "source": [
    "## max_depth = 46 looks a good parameter by looking at the above visual"
   ]
  },
  {
   "cell_type": "markdown",
   "id": "0d3693c6",
   "metadata": {},
   "source": [
    "## min_sample_leaf"
   ]
  },
  {
   "cell_type": "code",
   "execution_count": 81,
   "id": "ceb804e7",
   "metadata": {},
   "outputs": [],
   "source": [
    "parameters_min_leaf = {'min_samples_leaf': range(10,300,20)}"
   ]
  },
  {
   "cell_type": "code",
   "execution_count": 82,
   "id": "9f8e47a2",
   "metadata": {},
   "outputs": [],
   "source": [
    "tree2= GridSearchCV(dtree, parameters_min_leaf, cv=cv, scoring=\"accuracy\",return_train_score=True)"
   ]
  },
  {
   "cell_type": "code",
   "execution_count": 83,
   "id": "75bc309d",
   "metadata": {},
   "outputs": [
    {
     "data": {
      "text/plain": [
       "GridSearchCV(cv=KFold(n_splits=5, random_state=42, shuffle=True),\n",
       "             estimator=RandomForestClassifier(random_state=42),\n",
       "             param_grid={'min_samples_leaf': range(10, 300, 20)},\n",
       "             return_train_score=True, scoring='accuracy')"
      ]
     },
     "execution_count": 83,
     "metadata": {},
     "output_type": "execute_result"
    }
   ],
   "source": [
    "tree2.fit(Xtrain_sm, Ytrain_sm)"
   ]
  },
  {
   "cell_type": "code",
   "execution_count": 84,
   "id": "31095a41",
   "metadata": {},
   "outputs": [
    {
     "data": {
      "text/html": [
       "<div>\n",
       "<style scoped>\n",
       "    .dataframe tbody tr th:only-of-type {\n",
       "        vertical-align: middle;\n",
       "    }\n",
       "\n",
       "    .dataframe tbody tr th {\n",
       "        vertical-align: top;\n",
       "    }\n",
       "\n",
       "    .dataframe thead th {\n",
       "        text-align: right;\n",
       "    }\n",
       "</style>\n",
       "<table border=\"1\" class=\"dataframe\">\n",
       "  <thead>\n",
       "    <tr style=\"text-align: right;\">\n",
       "      <th></th>\n",
       "      <th>mean_fit_time</th>\n",
       "      <th>std_fit_time</th>\n",
       "      <th>mean_score_time</th>\n",
       "      <th>std_score_time</th>\n",
       "      <th>param_min_samples_leaf</th>\n",
       "      <th>params</th>\n",
       "      <th>split0_test_score</th>\n",
       "      <th>split1_test_score</th>\n",
       "      <th>split2_test_score</th>\n",
       "      <th>split3_test_score</th>\n",
       "      <th>split4_test_score</th>\n",
       "      <th>mean_test_score</th>\n",
       "      <th>std_test_score</th>\n",
       "      <th>rank_test_score</th>\n",
       "      <th>split0_train_score</th>\n",
       "      <th>split1_train_score</th>\n",
       "      <th>split2_train_score</th>\n",
       "      <th>split3_train_score</th>\n",
       "      <th>split4_train_score</th>\n",
       "      <th>mean_train_score</th>\n",
       "      <th>std_train_score</th>\n",
       "    </tr>\n",
       "  </thead>\n",
       "  <tbody>\n",
       "    <tr>\n",
       "      <th>0</th>\n",
       "      <td>15.764989</td>\n",
       "      <td>0.139851</td>\n",
       "      <td>0.630215</td>\n",
       "      <td>0.112407</td>\n",
       "      <td>10</td>\n",
       "      <td>{'min_samples_leaf': 10}</td>\n",
       "      <td>0.717650</td>\n",
       "      <td>0.716102</td>\n",
       "      <td>0.717638</td>\n",
       "      <td>0.715212</td>\n",
       "      <td>0.716341</td>\n",
       "      <td>0.716588</td>\n",
       "      <td>0.000940</td>\n",
       "      <td>1</td>\n",
       "      <td>0.729749</td>\n",
       "      <td>0.730523</td>\n",
       "      <td>0.731487</td>\n",
       "      <td>0.731132</td>\n",
       "      <td>0.731404</td>\n",
       "      <td>0.730859</td>\n",
       "      <td>0.000650</td>\n",
       "    </tr>\n",
       "    <tr>\n",
       "      <th>1</th>\n",
       "      <td>12.766552</td>\n",
       "      <td>0.171785</td>\n",
       "      <td>0.472389</td>\n",
       "      <td>0.041704</td>\n",
       "      <td>30</td>\n",
       "      <td>{'min_samples_leaf': 30}</td>\n",
       "      <td>0.695943</td>\n",
       "      <td>0.691844</td>\n",
       "      <td>0.692626</td>\n",
       "      <td>0.688695</td>\n",
       "      <td>0.693797</td>\n",
       "      <td>0.692581</td>\n",
       "      <td>0.002385</td>\n",
       "      <td>2</td>\n",
       "      <td>0.701402</td>\n",
       "      <td>0.698213</td>\n",
       "      <td>0.702660</td>\n",
       "      <td>0.701876</td>\n",
       "      <td>0.700830</td>\n",
       "      <td>0.700996</td>\n",
       "      <td>0.001515</td>\n",
       "    </tr>\n",
       "    <tr>\n",
       "      <th>2</th>\n",
       "      <td>11.198891</td>\n",
       "      <td>0.163481</td>\n",
       "      <td>0.395906</td>\n",
       "      <td>0.007312</td>\n",
       "      <td>50</td>\n",
       "      <td>{'min_samples_leaf': 50}</td>\n",
       "      <td>0.679256</td>\n",
       "      <td>0.677206</td>\n",
       "      <td>0.677904</td>\n",
       "      <td>0.674014</td>\n",
       "      <td>0.678447</td>\n",
       "      <td>0.677365</td>\n",
       "      <td>0.001805</td>\n",
       "      <td>3</td>\n",
       "      <td>0.683480</td>\n",
       "      <td>0.682801</td>\n",
       "      <td>0.682574</td>\n",
       "      <td>0.683525</td>\n",
       "      <td>0.683170</td>\n",
       "      <td>0.683110</td>\n",
       "      <td>0.000373</td>\n",
       "    </tr>\n",
       "    <tr>\n",
       "      <th>3</th>\n",
       "      <td>10.447349</td>\n",
       "      <td>0.610543</td>\n",
       "      <td>0.381820</td>\n",
       "      <td>0.037776</td>\n",
       "      <td>70</td>\n",
       "      <td>{'min_samples_leaf': 70}</td>\n",
       "      <td>0.665830</td>\n",
       "      <td>0.663237</td>\n",
       "      <td>0.665733</td>\n",
       "      <td>0.660839</td>\n",
       "      <td>0.666820</td>\n",
       "      <td>0.664492</td>\n",
       "      <td>0.002176</td>\n",
       "      <td>4</td>\n",
       "      <td>0.668653</td>\n",
       "      <td>0.668434</td>\n",
       "      <td>0.668991</td>\n",
       "      <td>0.667820</td>\n",
       "      <td>0.669431</td>\n",
       "      <td>0.668666</td>\n",
       "      <td>0.000540</td>\n",
       "    </tr>\n",
       "    <tr>\n",
       "      <th>4</th>\n",
       "      <td>9.503365</td>\n",
       "      <td>0.119236</td>\n",
       "      <td>0.337671</td>\n",
       "      <td>0.006221</td>\n",
       "      <td>90</td>\n",
       "      <td>{'min_samples_leaf': 90}</td>\n",
       "      <td>0.660435</td>\n",
       "      <td>0.656253</td>\n",
       "      <td>0.659835</td>\n",
       "      <td>0.654523</td>\n",
       "      <td>0.662428</td>\n",
       "      <td>0.658695</td>\n",
       "      <td>0.002886</td>\n",
       "      <td>5</td>\n",
       "      <td>0.663007</td>\n",
       "      <td>0.660801</td>\n",
       "      <td>0.662592</td>\n",
       "      <td>0.660815</td>\n",
       "      <td>0.662760</td>\n",
       "      <td>0.661995</td>\n",
       "      <td>0.000978</td>\n",
       "    </tr>\n",
       "    <tr>\n",
       "      <th>5</th>\n",
       "      <td>8.908951</td>\n",
       "      <td>0.026235</td>\n",
       "      <td>0.344718</td>\n",
       "      <td>0.041559</td>\n",
       "      <td>110</td>\n",
       "      <td>{'min_samples_leaf': 110}</td>\n",
       "      <td>0.655207</td>\n",
       "      <td>0.653869</td>\n",
       "      <td>0.652976</td>\n",
       "      <td>0.650508</td>\n",
       "      <td>0.656824</td>\n",
       "      <td>0.653877</td>\n",
       "      <td>0.002127</td>\n",
       "      <td>6</td>\n",
       "      <td>0.656325</td>\n",
       "      <td>0.657371</td>\n",
       "      <td>0.655419</td>\n",
       "      <td>0.656245</td>\n",
       "      <td>0.656685</td>\n",
       "      <td>0.656409</td>\n",
       "      <td>0.000635</td>\n",
       "    </tr>\n",
       "    <tr>\n",
       "      <th>6</th>\n",
       "      <td>8.389839</td>\n",
       "      <td>0.156403</td>\n",
       "      <td>0.306531</td>\n",
       "      <td>0.005393</td>\n",
       "      <td>130</td>\n",
       "      <td>{'min_samples_leaf': 130}</td>\n",
       "      <td>0.649603</td>\n",
       "      <td>0.650272</td>\n",
       "      <td>0.650048</td>\n",
       "      <td>0.645573</td>\n",
       "      <td>0.648250</td>\n",
       "      <td>0.648749</td>\n",
       "      <td>0.001736</td>\n",
       "      <td>7</td>\n",
       "      <td>0.650773</td>\n",
       "      <td>0.653408</td>\n",
       "      <td>0.650766</td>\n",
       "      <td>0.650850</td>\n",
       "      <td>0.650296</td>\n",
       "      <td>0.651219</td>\n",
       "      <td>0.001112</td>\n",
       "    </tr>\n",
       "    <tr>\n",
       "      <th>7</th>\n",
       "      <td>10.755820</td>\n",
       "      <td>4.721977</td>\n",
       "      <td>0.379235</td>\n",
       "      <td>0.115776</td>\n",
       "      <td>150</td>\n",
       "      <td>{'min_samples_leaf': 150}</td>\n",
       "      <td>0.644584</td>\n",
       "      <td>0.643831</td>\n",
       "      <td>0.646493</td>\n",
       "      <td>0.640177</td>\n",
       "      <td>0.645029</td>\n",
       "      <td>0.644023</td>\n",
       "      <td>0.002110</td>\n",
       "      <td>8</td>\n",
       "      <td>0.646518</td>\n",
       "      <td>0.647333</td>\n",
       "      <td>0.646396</td>\n",
       "      <td>0.645706</td>\n",
       "      <td>0.647274</td>\n",
       "      <td>0.646645</td>\n",
       "      <td>0.000605</td>\n",
       "    </tr>\n",
       "    <tr>\n",
       "      <th>8</th>\n",
       "      <td>8.716908</td>\n",
       "      <td>0.900484</td>\n",
       "      <td>0.341338</td>\n",
       "      <td>0.032764</td>\n",
       "      <td>170</td>\n",
       "      <td>{'min_samples_leaf': 170}</td>\n",
       "      <td>0.645588</td>\n",
       "      <td>0.641991</td>\n",
       "      <td>0.643147</td>\n",
       "      <td>0.638923</td>\n",
       "      <td>0.642101</td>\n",
       "      <td>0.642350</td>\n",
       "      <td>0.002147</td>\n",
       "      <td>9</td>\n",
       "      <td>0.645650</td>\n",
       "      <td>0.643893</td>\n",
       "      <td>0.643468</td>\n",
       "      <td>0.643510</td>\n",
       "      <td>0.643311</td>\n",
       "      <td>0.643966</td>\n",
       "      <td>0.000863</td>\n",
       "    </tr>\n",
       "    <tr>\n",
       "      <th>9</th>\n",
       "      <td>7.830155</td>\n",
       "      <td>0.855780</td>\n",
       "      <td>0.301576</td>\n",
       "      <td>0.052824</td>\n",
       "      <td>190</td>\n",
       "      <td>{'min_samples_leaf': 190}</td>\n",
       "      <td>0.642535</td>\n",
       "      <td>0.640234</td>\n",
       "      <td>0.640847</td>\n",
       "      <td>0.638797</td>\n",
       "      <td>0.641265</td>\n",
       "      <td>0.640735</td>\n",
       "      <td>0.001228</td>\n",
       "      <td>10</td>\n",
       "      <td>0.643443</td>\n",
       "      <td>0.642325</td>\n",
       "      <td>0.640917</td>\n",
       "      <td>0.642747</td>\n",
       "      <td>0.641638</td>\n",
       "      <td>0.642214</td>\n",
       "      <td>0.000874</td>\n",
       "    </tr>\n",
       "    <tr>\n",
       "      <th>10</th>\n",
       "      <td>7.162540</td>\n",
       "      <td>0.102543</td>\n",
       "      <td>0.264970</td>\n",
       "      <td>0.006184</td>\n",
       "      <td>210</td>\n",
       "      <td>{'min_samples_leaf': 210}</td>\n",
       "      <td>0.640276</td>\n",
       "      <td>0.638394</td>\n",
       "      <td>0.637459</td>\n",
       "      <td>0.633862</td>\n",
       "      <td>0.638337</td>\n",
       "      <td>0.637665</td>\n",
       "      <td>0.002112</td>\n",
       "      <td>11</td>\n",
       "      <td>0.640725</td>\n",
       "      <td>0.640976</td>\n",
       "      <td>0.638700</td>\n",
       "      <td>0.639484</td>\n",
       "      <td>0.639620</td>\n",
       "      <td>0.639901</td>\n",
       "      <td>0.000840</td>\n",
       "    </tr>\n",
       "    <tr>\n",
       "      <th>11</th>\n",
       "      <td>7.704871</td>\n",
       "      <td>0.631363</td>\n",
       "      <td>0.331322</td>\n",
       "      <td>0.108536</td>\n",
       "      <td>230</td>\n",
       "      <td>{'min_samples_leaf': 230}</td>\n",
       "      <td>0.637892</td>\n",
       "      <td>0.637767</td>\n",
       "      <td>0.636120</td>\n",
       "      <td>0.633151</td>\n",
       "      <td>0.636497</td>\n",
       "      <td>0.636285</td>\n",
       "      <td>0.001713</td>\n",
       "      <td>12</td>\n",
       "      <td>0.638090</td>\n",
       "      <td>0.639282</td>\n",
       "      <td>0.637853</td>\n",
       "      <td>0.638177</td>\n",
       "      <td>0.637843</td>\n",
       "      <td>0.638249</td>\n",
       "      <td>0.000533</td>\n",
       "    </tr>\n",
       "    <tr>\n",
       "      <th>12</th>\n",
       "      <td>5.966062</td>\n",
       "      <td>0.764931</td>\n",
       "      <td>0.207228</td>\n",
       "      <td>0.037569</td>\n",
       "      <td>250</td>\n",
       "      <td>{'min_samples_leaf': 250}</td>\n",
       "      <td>0.637348</td>\n",
       "      <td>0.636345</td>\n",
       "      <td>0.636873</td>\n",
       "      <td>0.633485</td>\n",
       "      <td>0.636162</td>\n",
       "      <td>0.636043</td>\n",
       "      <td>0.001345</td>\n",
       "      <td>13</td>\n",
       "      <td>0.636846</td>\n",
       "      <td>0.636835</td>\n",
       "      <td>0.637707</td>\n",
       "      <td>0.637738</td>\n",
       "      <td>0.636588</td>\n",
       "      <td>0.637143</td>\n",
       "      <td>0.000482</td>\n",
       "    </tr>\n",
       "    <tr>\n",
       "      <th>13</th>\n",
       "      <td>4.934013</td>\n",
       "      <td>0.026300</td>\n",
       "      <td>0.174491</td>\n",
       "      <td>0.001056</td>\n",
       "      <td>270</td>\n",
       "      <td>{'min_samples_leaf': 270}</td>\n",
       "      <td>0.636512</td>\n",
       "      <td>0.637599</td>\n",
       "      <td>0.636204</td>\n",
       "      <td>0.631520</td>\n",
       "      <td>0.635702</td>\n",
       "      <td>0.635507</td>\n",
       "      <td>0.002089</td>\n",
       "      <td>14</td>\n",
       "      <td>0.636323</td>\n",
       "      <td>0.637201</td>\n",
       "      <td>0.637006</td>\n",
       "      <td>0.636578</td>\n",
       "      <td>0.636473</td>\n",
       "      <td>0.636716</td>\n",
       "      <td>0.000332</td>\n",
       "    </tr>\n",
       "    <tr>\n",
       "      <th>14</th>\n",
       "      <td>4.977755</td>\n",
       "      <td>0.255406</td>\n",
       "      <td>0.175384</td>\n",
       "      <td>0.003862</td>\n",
       "      <td>290</td>\n",
       "      <td>{'min_samples_leaf': 290}</td>\n",
       "      <td>0.635801</td>\n",
       "      <td>0.636596</td>\n",
       "      <td>0.635116</td>\n",
       "      <td>0.634196</td>\n",
       "      <td>0.635744</td>\n",
       "      <td>0.635491</td>\n",
       "      <td>0.000800</td>\n",
       "      <td>15</td>\n",
       "      <td>0.635894</td>\n",
       "      <td>0.638529</td>\n",
       "      <td>0.636222</td>\n",
       "      <td>0.637226</td>\n",
       "      <td>0.636682</td>\n",
       "      <td>0.636911</td>\n",
       "      <td>0.000925</td>\n",
       "    </tr>\n",
       "  </tbody>\n",
       "</table>\n",
       "</div>"
      ],
      "text/plain": [
       "    mean_fit_time  std_fit_time  mean_score_time  std_score_time  \\\n",
       "0       15.764989      0.139851         0.630215        0.112407   \n",
       "1       12.766552      0.171785         0.472389        0.041704   \n",
       "2       11.198891      0.163481         0.395906        0.007312   \n",
       "3       10.447349      0.610543         0.381820        0.037776   \n",
       "4        9.503365      0.119236         0.337671        0.006221   \n",
       "5        8.908951      0.026235         0.344718        0.041559   \n",
       "6        8.389839      0.156403         0.306531        0.005393   \n",
       "7       10.755820      4.721977         0.379235        0.115776   \n",
       "8        8.716908      0.900484         0.341338        0.032764   \n",
       "9        7.830155      0.855780         0.301576        0.052824   \n",
       "10       7.162540      0.102543         0.264970        0.006184   \n",
       "11       7.704871      0.631363         0.331322        0.108536   \n",
       "12       5.966062      0.764931         0.207228        0.037569   \n",
       "13       4.934013      0.026300         0.174491        0.001056   \n",
       "14       4.977755      0.255406         0.175384        0.003862   \n",
       "\n",
       "   param_min_samples_leaf                     params  split0_test_score  \\\n",
       "0                      10   {'min_samples_leaf': 10}           0.717650   \n",
       "1                      30   {'min_samples_leaf': 30}           0.695943   \n",
       "2                      50   {'min_samples_leaf': 50}           0.679256   \n",
       "3                      70   {'min_samples_leaf': 70}           0.665830   \n",
       "4                      90   {'min_samples_leaf': 90}           0.660435   \n",
       "5                     110  {'min_samples_leaf': 110}           0.655207   \n",
       "6                     130  {'min_samples_leaf': 130}           0.649603   \n",
       "7                     150  {'min_samples_leaf': 150}           0.644584   \n",
       "8                     170  {'min_samples_leaf': 170}           0.645588   \n",
       "9                     190  {'min_samples_leaf': 190}           0.642535   \n",
       "10                    210  {'min_samples_leaf': 210}           0.640276   \n",
       "11                    230  {'min_samples_leaf': 230}           0.637892   \n",
       "12                    250  {'min_samples_leaf': 250}           0.637348   \n",
       "13                    270  {'min_samples_leaf': 270}           0.636512   \n",
       "14                    290  {'min_samples_leaf': 290}           0.635801   \n",
       "\n",
       "    split1_test_score  split2_test_score  split3_test_score  \\\n",
       "0            0.716102           0.717638           0.715212   \n",
       "1            0.691844           0.692626           0.688695   \n",
       "2            0.677206           0.677904           0.674014   \n",
       "3            0.663237           0.665733           0.660839   \n",
       "4            0.656253           0.659835           0.654523   \n",
       "5            0.653869           0.652976           0.650508   \n",
       "6            0.650272           0.650048           0.645573   \n",
       "7            0.643831           0.646493           0.640177   \n",
       "8            0.641991           0.643147           0.638923   \n",
       "9            0.640234           0.640847           0.638797   \n",
       "10           0.638394           0.637459           0.633862   \n",
       "11           0.637767           0.636120           0.633151   \n",
       "12           0.636345           0.636873           0.633485   \n",
       "13           0.637599           0.636204           0.631520   \n",
       "14           0.636596           0.635116           0.634196   \n",
       "\n",
       "    split4_test_score  mean_test_score  std_test_score  rank_test_score  \\\n",
       "0            0.716341         0.716588        0.000940                1   \n",
       "1            0.693797         0.692581        0.002385                2   \n",
       "2            0.678447         0.677365        0.001805                3   \n",
       "3            0.666820         0.664492        0.002176                4   \n",
       "4            0.662428         0.658695        0.002886                5   \n",
       "5            0.656824         0.653877        0.002127                6   \n",
       "6            0.648250         0.648749        0.001736                7   \n",
       "7            0.645029         0.644023        0.002110                8   \n",
       "8            0.642101         0.642350        0.002147                9   \n",
       "9            0.641265         0.640735        0.001228               10   \n",
       "10           0.638337         0.637665        0.002112               11   \n",
       "11           0.636497         0.636285        0.001713               12   \n",
       "12           0.636162         0.636043        0.001345               13   \n",
       "13           0.635702         0.635507        0.002089               14   \n",
       "14           0.635744         0.635491        0.000800               15   \n",
       "\n",
       "    split0_train_score  split1_train_score  split2_train_score  \\\n",
       "0             0.729749            0.730523            0.731487   \n",
       "1             0.701402            0.698213            0.702660   \n",
       "2             0.683480            0.682801            0.682574   \n",
       "3             0.668653            0.668434            0.668991   \n",
       "4             0.663007            0.660801            0.662592   \n",
       "5             0.656325            0.657371            0.655419   \n",
       "6             0.650773            0.653408            0.650766   \n",
       "7             0.646518            0.647333            0.646396   \n",
       "8             0.645650            0.643893            0.643468   \n",
       "9             0.643443            0.642325            0.640917   \n",
       "10            0.640725            0.640976            0.638700   \n",
       "11            0.638090            0.639282            0.637853   \n",
       "12            0.636846            0.636835            0.637707   \n",
       "13            0.636323            0.637201            0.637006   \n",
       "14            0.635894            0.638529            0.636222   \n",
       "\n",
       "    split3_train_score  split4_train_score  mean_train_score  std_train_score  \n",
       "0             0.731132            0.731404          0.730859         0.000650  \n",
       "1             0.701876            0.700830          0.700996         0.001515  \n",
       "2             0.683525            0.683170          0.683110         0.000373  \n",
       "3             0.667820            0.669431          0.668666         0.000540  \n",
       "4             0.660815            0.662760          0.661995         0.000978  \n",
       "5             0.656245            0.656685          0.656409         0.000635  \n",
       "6             0.650850            0.650296          0.651219         0.001112  \n",
       "7             0.645706            0.647274          0.646645         0.000605  \n",
       "8             0.643510            0.643311          0.643966         0.000863  \n",
       "9             0.642747            0.641638          0.642214         0.000874  \n",
       "10            0.639484            0.639620          0.639901         0.000840  \n",
       "11            0.638177            0.637843          0.638249         0.000533  \n",
       "12            0.637738            0.636588          0.637143         0.000482  \n",
       "13            0.636578            0.636473          0.636716         0.000332  \n",
       "14            0.637226            0.636682          0.636911         0.000925  "
      ]
     },
     "execution_count": 84,
     "metadata": {},
     "output_type": "execute_result"
    }
   ],
   "source": [
    "scores2 = tree2.cv_results_\n",
    "pd.DataFrame(scores2)"
   ]
  },
  {
   "cell_type": "code",
   "execution_count": 85,
   "id": "fa4c2ec6",
   "metadata": {},
   "outputs": [
    {
     "data": {
      "image/png": "[encoded data removed]",
      "text/plain": [
       "<Figure size 432x288 with 1 Axes>"
      ]
     },
     "metadata": {
      "needs_background": "light"
     },
     "output_type": "display_data"
    }
   ],
   "source": [
    "# Plot accuracy vs param_min_samples_leaf\n",
    "plt.figure\n",
    "plt.plot(scores2[\"param_min_samples_leaf\"].data,scores2[\"mean_train_score\"],label=\"training_accuracy\")\n",
    "plt.plot(scores2[\"param_min_samples_leaf\"].data, scores2[\"mean_test_score\"], label=\"test_accuracy\")\n",
    "plt.xlabel(\"param_min_samples_leaf\")\n",
    "plt.ylabel(\"accuracy\")\n",
    "plt.legend()\n",
    "plt.show()"
   ]
  },
  {
   "cell_type": "code",
   "execution_count": 86,
   "id": "0b8b7821",
   "metadata": {},
   "outputs": [
    {
     "data": {
      "text/plain": [
       "RandomForestClassifier(min_samples_leaf=10, random_state=42)"
      ]
     },
     "execution_count": 86,
     "metadata": {},
     "output_type": "execute_result"
    }
   ],
   "source": [
    "tree2.best_estimator_"
   ]
  },
  {
   "cell_type": "markdown",
   "id": "bb054df3",
   "metadata": {},
   "source": [
    "## At low min_sample_leaf value, the tree will be huge, i.e., it will cover each data point. This will lead to the training accuracy of 100% but test accuracy of almost 0%.\n",
    "\n",
    "## With an increase in the min_sample_leaf value, the test accuracy increases, as overfitting decreases and the model becomes less complex.\n",
    "\n",
    "## We will select min_samples_leaf = 10"
   ]
  },
  {
   "attachments": {},
   "cell_type": "markdown",
   "id": "fc2bd62e",
   "metadata": {},
   "source": [
    "# 2. Feature selection using RFECV\n",
    "\n",
    "> ### Using RFECV, which uses K-fold, sklearn.feature_selection.RFE simply trains an estimator that assigns weights to features. It takes out the feature importance based on that estimator and recursively prunes it. Recursive feature elimination with cross-validation on the other hand, add Cross-validation into the mix.\n",
    "\n",
    "> ### Also, this approach is good for highly imbalance datasets because it uses stratified CV (cross Validation) by default, from sklearn’s."
   ]
  },
  {
   "cell_type": "code",
   "execution_count": 87,
   "id": "9247896e",
   "metadata": {},
   "outputs": [],
   "source": [
    "lm = RandomForestClassifier(max_depth=46,min_samples_leaf=10,random_state=42)\n",
    "lm.fit(Xtrain_sm,Ytrain_sm)\n",
    "rfe = RFECV(estimator=lm, step=5, cv=5,min_features_to_select=40)\n",
    "rfe = rfe.fit(Xtrain_sm, Ytrain_sm)"
   ]
  },
  {
   "cell_type": "markdown",
   "id": "feba53e7",
   "metadata": {},
   "source": [
    "#### The above RFE takes approx 20 min. Please wait :)"
   ]
  },
  {
   "cell_type": "code",
   "execution_count": 88,
   "id": "c046991b",
   "metadata": {},
   "outputs": [
    {
     "data": {
      "text/plain": [
       "(62,)"
      ]
     },
     "execution_count": 88,
     "metadata": {},
     "output_type": "execute_result"
    }
   ],
   "source": [
    "Xtrain_sm.columns[rfe.support_].shape"
   ]
  },
  {
   "cell_type": "markdown",
   "id": "aa7197ed",
   "metadata": {},
   "source": [
    "### 62 columns were selected by RFECV from 112"
   ]
  },
  {
   "cell_type": "code",
   "execution_count": 89,
   "id": "8b7d9357",
   "metadata": {},
   "outputs": [
    {
     "data": {
      "text/plain": [
       "Index(['banner_pos_1', 'device_type_1', 'device_conn_type_2',\n",
       "       'device_conn_type_3', 'C1_1002', 'C1_1005', 'C15_300', 'C15_320',\n",
       "       'C16_50', 'C16_250', 'C18_1', 'C18_2', 'C18_3', 'dayofweek_1',\n",
       "       'dayofweek_2', 'dayofweek_3', 'dayofweek_4', 'dayofweek_5',\n",
       "       'dayofweek_6', 'day_22', 'day_23', 'day_24', 'day_25', 'day_26',\n",
       "       'day_27', 'day_28', 'day_29', 'day_30', 'hour_1', 'hour_2', 'hour_3',\n",
       "       'hour_4', 'hour_5', 'hour_6', 'hour_7', 'hour_8', 'hour_9', 'hour_10',\n",
       "       'hour_11', 'hour_12', 'hour_13', 'hour_14', 'hour_15', 'hour_16',\n",
       "       'hour_17', 'hour_18', 'hour_19', 'hour_20', 'hour_21', 'hour_22',\n",
       "       'hour_23', 'site_category_28905ebd', 'site_category_335d28a8',\n",
       "       'site_category_3e814130', 'site_category_50e219e0',\n",
       "       'site_category_75fa27f6', 'site_category_f028772b',\n",
       "       'site_category_f66779e6', 'app_category_0f2161f8',\n",
       "       'app_category_8ded1f7a', 'app_category_cef3e649',\n",
       "       'app_category_f95efa07'],\n",
       "      dtype='object')"
      ]
     },
     "execution_count": 89,
     "metadata": {},
     "output_type": "execute_result"
    }
   ],
   "source": [
    "Xtrain_sm.columns[rfe.support_]"
   ]
  },
  {
   "cell_type": "code",
   "execution_count": 90,
   "id": "52607340",
   "metadata": {},
   "outputs": [],
   "source": [
    "Xtrain_sm =Xtrain_sm.loc[:,['banner_pos_1', 'device_type_1', 'device_conn_type_2',\n",
    "       'device_conn_type_3', 'C1_1002', 'C1_1005', 'C15_300', 'C15_320',\n",
    "       'C16_50', 'C16_250', 'C18_1', 'C18_2', 'C18_3', 'dayofweek_1',\n",
    "       'dayofweek_2', 'dayofweek_3', 'dayofweek_4', 'dayofweek_5',\n",
    "       'dayofweek_6', 'day_22', 'day_23', 'day_24', 'day_25', 'day_26',\n",
    "       'day_27', 'day_28', 'day_29', 'day_30', 'hour_1', 'hour_2', 'hour_3',\n",
    "       'hour_4', 'hour_5', 'hour_6', 'hour_7', 'hour_8', 'hour_9', 'hour_10',\n",
    "       'hour_11', 'hour_12', 'hour_13', 'hour_14', 'hour_15', 'hour_16',\n",
    "       'hour_17', 'hour_18', 'hour_19', 'hour_20', 'hour_21', 'hour_22',\n",
    "       'hour_23', 'site_category_28905ebd', 'site_category_335d28a8',\n",
    "       'site_category_3e814130', 'site_category_50e219e0',\n",
    "       'site_category_75fa27f6', 'site_category_f028772b',\n",
    "       'site_category_f66779e6', 'app_category_0f2161f8',\n",
    "       'app_category_8ded1f7a', 'app_category_cef3e649',\n",
    "       'app_category_f95efa07']]"
   ]
  },
  {
   "cell_type": "code",
   "execution_count": 91,
   "id": "733abc07",
   "metadata": {},
   "outputs": [
    {
     "name": "stdout",
     "output_type": "stream",
     "text": [
      "(119547, 62)\n"
     ]
    }
   ],
   "source": [
    "print(Xtrain_sm.shape)"
   ]
  },
  {
   "cell_type": "markdown",
   "id": "c51a5128",
   "metadata": {},
   "source": [
    "### Function to capture VIF and build model"
   ]
  },
  {
   "cell_type": "code",
   "execution_count": 92,
   "id": "8a24d89f",
   "metadata": {},
   "outputs": [],
   "source": [
    "import statsmodels.api as sm\n",
    "def build_model(X,y):\n",
    "    X = sm.add_constant(X) #Adding the constant\n",
    "    lm = sm.OLS(y,X).fit() # fitting the model\n",
    "    print(lm.summary()) # model summary\n",
    "    return X\n",
    "    \n",
    "def checkVIF(X):\n",
    "    vif = pd.DataFrame()\n",
    "    vif['Features'] = X.columns\n",
    "    vif['VIF'] = [variance_inflation_factor(X.values, i) for i in range(X.shape[1])]\n",
    "    vif['VIF'] = round(vif['VIF'], 2)\n",
    "    vif = vif.sort_values(by = \"VIF\", ascending = False)\n",
    "    return(vif)"
   ]
  },
  {
   "cell_type": "code",
   "execution_count": 93,
   "id": "96b58401",
   "metadata": {},
   "outputs": [
    {
     "name": "stdout",
     "output_type": "stream",
     "text": [
      "                            OLS Regression Results                            \n",
      "==============================================================================\n",
      "Dep. Variable:                      y   R-squared:                       0.115\n",
      "Model:                            OLS   Adj. R-squared:                  0.115\n",
      "Method:                 Least Squares   F-statistic:                     264.2\n",
      "Date:                Tue, 24 May 2022   Prob (F-statistic):               0.00\n",
      "Time:                        12:12:58   Log-Likelihood:                -79437.\n",
      "No. Observations:              119547   AIC:                         1.590e+05\n",
      "Df Residuals:                  119487   BIC:                         1.596e+05\n",
      "Df Model:                          59                                         \n",
      "Covariance Type:            nonrobust                                         \n",
      "==========================================================================================\n",
      "                             coef    std err          t      P>|t|      [0.025      0.975]\n",
      "------------------------------------------------------------------------------------------\n",
      "const                      0.3490      0.010     34.592      0.000       0.329       0.369\n",
      "banner_pos_1               0.0027      0.000     17.973      0.000       0.002       0.003\n",
      "device_type_1              0.0043      0.001      2.953      0.003       0.001       0.007\n",
      "device_conn_type_2         0.0026   7.43e-05     34.905      0.000       0.002       0.003\n",
      "device_conn_type_3         0.0019      0.000     10.366      0.000       0.002       0.002\n",
      "C1_1002                    0.2405      0.011     22.190      0.000       0.219       0.262\n",
      "C1_1005                    0.1975      0.009     20.964      0.000       0.179       0.216\n",
      "C15_300                    0.0027      0.000     10.370      0.000       0.002       0.003\n",
      "C15_320                    0.0048      0.002      2.177      0.029       0.000       0.009\n",
      "C16_50                    -0.1247      0.004    -28.503      0.000      -0.133      -0.116\n",
      "C16_250                    0.0023      0.001      2.973      0.003       0.001       0.004\n",
      "C18_1                      0.0023      0.000     11.909      0.000       0.002       0.003\n",
      "C18_2                      0.0032   8.13e-05     38.793      0.000       0.003       0.003\n",
      "C18_3                      0.0027   7.91e-05     34.228      0.000       0.003       0.003\n",
      "dayofweek_1                0.0017      0.001      2.370      0.018       0.000       0.003\n",
      "dayofweek_2               -0.0026      0.001     -3.793      0.000      -0.004      -0.001\n",
      "dayofweek_3                0.0003      0.001      0.293      0.769      -0.001       0.002\n",
      "dayofweek_4            -2.436e+09   2.44e+09     -0.997      0.319   -7.22e+09    2.35e+09\n",
      "dayofweek_5            -5.094e+10   5.11e+10     -0.998      0.318   -1.51e+11    4.91e+10\n",
      "dayofweek_6             7.382e+09   7.93e+09      0.931      0.352   -8.17e+09    2.29e+10\n",
      "day_22                     0.0027      0.001      4.911      0.000       0.002       0.004\n",
      "day_23                     0.0030      0.001      5.356      0.000       0.002       0.004\n",
      "day_24                  2.436e+09   2.44e+09      0.997      0.319   -2.35e+09    7.22e+09\n",
      "day_25                  5.094e+10   5.11e+10      0.998      0.318   -4.91e+10    1.51e+11\n",
      "day_26                 -7.382e+09   7.93e+09     -0.931      0.352   -2.29e+10    8.17e+09\n",
      "day_27                     0.0021      0.000      4.576      0.000       0.001       0.003\n",
      "day_28                     0.0030      0.000     17.000      0.000       0.003       0.003\n",
      "day_29                     0.0031      0.000      7.725      0.000       0.002       0.004\n",
      "day_30                     0.0023      0.001      4.650      0.000       0.001       0.003\n",
      "hour_1                     0.0029      0.000     17.036      0.000       0.003       0.003\n",
      "hour_2                     0.0030      0.000     17.188      0.000       0.003       0.003\n",
      "hour_3                     0.0031      0.000     17.540      0.000       0.003       0.003\n",
      "hour_4                     0.0030      0.000     18.355      0.000       0.003       0.003\n",
      "hour_5                     0.0029      0.000     17.049      0.000       0.003       0.003\n",
      "hour_6                     0.0030      0.000     17.827      0.000       0.003       0.003\n",
      "hour_7                     0.0030      0.000     17.825      0.000       0.003       0.003\n",
      "hour_8                     0.0029      0.000     17.641      0.000       0.003       0.003\n",
      "hour_9                     0.0031      0.000     18.606      0.000       0.003       0.003\n",
      "hour_10                    0.0030      0.000     19.047      0.000       0.003       0.003\n",
      "hour_11                    0.0029      0.000     17.572      0.000       0.003       0.003\n",
      "hour_12                    0.0030      0.000     18.111      0.000       0.003       0.003\n",
      "hour_13                    0.0031      0.000     18.183      0.000       0.003       0.003\n",
      "hour_14                    0.0031      0.000     18.415      0.000       0.003       0.003\n",
      "hour_15                    0.0031      0.000     17.337      0.000       0.003       0.003\n",
      "hour_16                    0.0030      0.000     17.349      0.000       0.003       0.003\n",
      "hour_17                    0.0031      0.000     18.947      0.000       0.003       0.003\n",
      "hour_18                    0.0029      0.000     17.600      0.000       0.003       0.003\n",
      "hour_19                    0.0028      0.000     17.963      0.000       0.003       0.003\n",
      "hour_20                    0.0029      0.000     18.487      0.000       0.003       0.003\n",
      "hour_21                    0.0031      0.000     17.150      0.000       0.003       0.003\n",
      "hour_22                    0.0030      0.000     18.516      0.000       0.003       0.003\n",
      "hour_23                    0.0030      0.000     16.939      0.000       0.003       0.003\n",
      "site_category_28905ebd     0.0030      0.000     11.256      0.000       0.002       0.004\n",
      "site_category_335d28a8     0.0021      0.000      5.604      0.000       0.001       0.003\n",
      "site_category_3e814130     0.0033      0.000     17.770      0.000       0.003       0.004\n",
      "site_category_50e219e0    -0.0015      0.000     -3.049      0.002      -0.002      -0.001\n",
      "site_category_75fa27f6     0.0032      0.000     10.520      0.000       0.003       0.004\n",
      "site_category_f028772b     0.0030      0.000     11.413      0.000       0.003       0.004\n",
      "site_category_f66779e6     0.0025      0.000      5.548      0.000       0.002       0.003\n",
      "app_category_0f2161f8      0.0014      0.000      3.231      0.001       0.001       0.002\n",
      "app_category_8ded1f7a      0.0027      0.000     10.262      0.000       0.002       0.003\n",
      "app_category_cef3e649      0.0024      0.000     11.062      0.000       0.002       0.003\n",
      "app_category_f95efa07      0.0035      0.000     12.759      0.000       0.003       0.004\n",
      "==============================================================================\n",
      "Omnibus:                     1420.383   Durbin-Watson:                   1.991\n",
      "Prob(Omnibus):                  0.000   Jarque-Bera (JB):             1471.413\n",
      "Skew:                           0.272   Prob(JB):                         0.00\n",
      "Kurtosis:                       3.019   Cond. No.                     2.29e+15\n",
      "==============================================================================\n",
      "\n",
      "Notes:\n",
      "[1] Standard Errors assume that the covariance matrix of the errors is correctly specified.\n",
      "[2] The smallest eigenvalue is 7.92e-24. This might indicate that there are\n",
      "strong multicollinearity problems or that the design matrix is singular.\n"
     ]
    }
   ],
   "source": [
    "X_train_new = build_model(Xtrain_sm,Ytrain_sm)"
   ]
  },
  {
   "cell_type": "markdown",
   "id": "8bd1a2c5",
   "metadata": {},
   "source": [
    "## P-Val for dayofweek_3 is high, Hence we will drop"
   ]
  },
  {
   "cell_type": "code",
   "execution_count": 94,
   "id": "e7fbb85a",
   "metadata": {},
   "outputs": [],
   "source": [
    "X_train_new = X_train_new.drop([\"dayofweek_3\"], axis = 1)"
   ]
  },
  {
   "cell_type": "code",
   "execution_count": 95,
   "id": "05c94cc9",
   "metadata": {},
   "outputs": [
    {
     "name": "stdout",
     "output_type": "stream",
     "text": [
      "                            OLS Regression Results                            \n",
      "==============================================================================\n",
      "Dep. Variable:                      y   R-squared:                       0.115\n",
      "Model:                            OLS   Adj. R-squared:                  0.115\n",
      "Method:                 Least Squares   F-statistic:                     268.7\n",
      "Date:                Tue, 24 May 2022   Prob (F-statistic):               0.00\n",
      "Time:                        12:12:59   Log-Likelihood:                -79438.\n",
      "No. Observations:              119547   AIC:                         1.590e+05\n",
      "Df Residuals:                  119488   BIC:                         1.596e+05\n",
      "Df Model:                          58                                         \n",
      "Covariance Type:            nonrobust                                         \n",
      "==========================================================================================\n",
      "                             coef    std err          t      P>|t|      [0.025      0.975]\n",
      "------------------------------------------------------------------------------------------\n",
      "const                      0.3484      0.010     34.674      0.000       0.329       0.368\n",
      "banner_pos_1               0.0027      0.000     17.946      0.000       0.002       0.003\n",
      "device_type_1              0.0043      0.001      2.941      0.003       0.001       0.007\n",
      "device_conn_type_2         0.0026   7.45e-05     34.914      0.000       0.002       0.003\n",
      "device_conn_type_3         0.0019      0.000     10.360      0.000       0.002       0.002\n",
      "C1_1002                    0.2408      0.011     22.279      0.000       0.220       0.262\n",
      "C1_1005                    0.1980      0.009     21.084      0.000       0.180       0.216\n",
      "C15_300                    0.0027      0.000     10.310      0.000       0.002       0.003\n",
      "C15_320                    0.0048      0.002      2.166      0.030       0.000       0.009\n",
      "C16_50                    -0.1246      0.004    -28.497      0.000      -0.133      -0.116\n",
      "C16_250                    0.0023      0.001      2.954      0.003       0.001       0.004\n",
      "C18_1                      0.0023      0.000     11.809      0.000       0.002       0.003\n",
      "C18_2                      0.0031   8.13e-05     38.733      0.000       0.003       0.003\n",
      "C18_3                      0.0027   7.91e-05     34.237      0.000       0.003       0.003\n",
      "dayofweek_1                0.0017      0.001      2.411      0.016       0.000       0.003\n",
      "dayofweek_2               -0.0026      0.001     -3.795      0.000      -0.004      -0.001\n",
      "dayofweek_4            -1.438e+10   4.12e+10     -0.349      0.727   -9.52e+10    6.65e+10\n",
      "dayofweek_5             3.463e+10   3.74e+10      0.925      0.355   -3.87e+10    1.08e+11\n",
      "dayofweek_6            -7.598e+09   8.34e+09     -0.911      0.362   -2.39e+10    8.75e+09\n",
      "day_22                     0.0028      0.001      4.932      0.000       0.002       0.004\n",
      "day_23                     0.0030      0.001      5.541      0.000       0.002       0.004\n",
      "day_24                  1.438e+10   4.12e+10      0.349      0.727   -6.65e+10    9.52e+10\n",
      "day_25                 -3.463e+10   3.74e+10     -0.925      0.355   -1.08e+11    3.87e+10\n",
      "day_26                  7.598e+09   8.34e+09      0.911      0.362   -8.75e+09    2.39e+10\n",
      "day_27                     0.0021      0.000      4.560      0.000       0.001       0.003\n",
      "day_28                     0.0030      0.000     16.955      0.000       0.003       0.003\n",
      "day_29                     0.0031      0.000      7.697      0.000       0.002       0.004\n",
      "day_30                     0.0024      0.000      5.438      0.000       0.002       0.003\n",
      "hour_1                     0.0029      0.000     17.080      0.000       0.003       0.003\n",
      "hour_2                     0.0030      0.000     17.257      0.000       0.003       0.003\n",
      "hour_3                     0.0031      0.000     17.588      0.000       0.003       0.003\n",
      "hour_4                     0.0030      0.000     18.347      0.000       0.003       0.003\n",
      "hour_5                     0.0029      0.000     17.171      0.000       0.003       0.003\n",
      "hour_6                     0.0030      0.000     17.732      0.000       0.003       0.003\n",
      "hour_7                     0.0030      0.000     17.802      0.000       0.003       0.003\n",
      "hour_8                     0.0029      0.000     17.627      0.000       0.003       0.003\n",
      "hour_9                     0.0031      0.000     18.528      0.000       0.003       0.003\n",
      "hour_10                    0.0030      0.000     19.020      0.000       0.003       0.003\n",
      "hour_11                    0.0029      0.000     17.538      0.000       0.003       0.003\n",
      "hour_12                    0.0030      0.000     18.439      0.000       0.003       0.003\n",
      "hour_13                    0.0031      0.000     18.017      0.000       0.003       0.003\n",
      "hour_14                    0.0031      0.000     18.427      0.000       0.003       0.003\n",
      "hour_15                    0.0031      0.000     17.256      0.000       0.003       0.003\n",
      "hour_16                    0.0030      0.000     17.355      0.000       0.003       0.003\n",
      "hour_17                    0.0030      0.000     18.877      0.000       0.003       0.003\n",
      "hour_18                    0.0029      0.000     17.527      0.000       0.003       0.003\n",
      "hour_19                    0.0029      0.000     17.982      0.000       0.003       0.003\n",
      "hour_20                    0.0029      0.000     18.395      0.000       0.003       0.003\n",
      "hour_21                    0.0031      0.000     17.176      0.000       0.003       0.003\n",
      "hour_22                    0.0030      0.000     18.479      0.000       0.003       0.003\n",
      "hour_23                    0.0030      0.000     16.900      0.000       0.003       0.003\n",
      "site_category_28905ebd     0.0030      0.000     11.228      0.000       0.002       0.004\n",
      "site_category_335d28a8     0.0021      0.000      5.595      0.000       0.001       0.003\n",
      "site_category_3e814130     0.0033      0.000     17.819      0.000       0.003       0.004\n",
      "site_category_50e219e0    -0.0015      0.000     -3.026      0.002      -0.002      -0.001\n",
      "site_category_75fa27f6     0.0032      0.000     10.506      0.000       0.003       0.004\n",
      "site_category_f028772b     0.0030      0.000     11.405      0.000       0.003       0.004\n",
      "site_category_f66779e6     0.0025      0.000      5.508      0.000       0.002       0.003\n",
      "app_category_0f2161f8      0.0014      0.000      3.261      0.001       0.001       0.002\n",
      "app_category_8ded1f7a      0.0027      0.000     10.243      0.000       0.002       0.003\n",
      "app_category_cef3e649      0.0024      0.000     11.051      0.000       0.002       0.003\n",
      "app_category_f95efa07      0.0035      0.000     12.760      0.000       0.003       0.004\n",
      "==============================================================================\n",
      "Omnibus:                     1419.155   Durbin-Watson:                   1.991\n",
      "Prob(Omnibus):                  0.000   Jarque-Bera (JB):             1470.102\n",
      "Skew:                           0.271   Prob(JB):                         0.00\n",
      "Kurtosis:                       3.018   Cond. No.                     9.45e+14\n",
      "==============================================================================\n",
      "\n",
      "Notes:\n",
      "[1] Standard Errors assume that the covariance matrix of the errors is correctly specified.\n",
      "[2] The smallest eigenvalue is 4.65e-23. This might indicate that there are\n",
      "strong multicollinearity problems or that the design matrix is singular.\n"
     ]
    }
   ],
   "source": [
    "X_train_new = build_model(X_train_new,Ytrain_sm)"
   ]
  },
  {
   "cell_type": "code",
   "execution_count": 96,
   "id": "38033c27",
   "metadata": {},
   "outputs": [
    {
     "data": {
      "text/html": [
       "<div>\n",
       "<style scoped>\n",
       "    .dataframe tbody tr th:only-of-type {\n",
       "        vertical-align: middle;\n",
       "    }\n",
       "\n",
       "    .dataframe tbody tr th {\n",
       "        vertical-align: top;\n",
       "    }\n",
       "\n",
       "    .dataframe thead th {\n",
       "        text-align: right;\n",
       "    }\n",
       "</style>\n",
       "<table border=\"1\" class=\"dataframe\">\n",
       "  <thead>\n",
       "    <tr style=\"text-align: right;\">\n",
       "      <th></th>\n",
       "      <th>Features</th>\n",
       "      <th>VIF</th>\n",
       "    </tr>\n",
       "  </thead>\n",
       "  <tbody>\n",
       "    <tr>\n",
       "      <th>21</th>\n",
       "      <td>day_24</td>\n",
       "      <td>6.622941e+12</td>\n",
       "    </tr>\n",
       "    <tr>\n",
       "      <th>18</th>\n",
       "      <td>dayofweek_6</td>\n",
       "      <td>1.760938e+12</td>\n",
       "    </tr>\n",
       "    <tr>\n",
       "      <th>17</th>\n",
       "      <td>dayofweek_5</td>\n",
       "      <td>1.325953e+12</td>\n",
       "    </tr>\n",
       "    <tr>\n",
       "      <th>22</th>\n",
       "      <td>day_25</td>\n",
       "      <td>3.054634e+11</td>\n",
       "    </tr>\n",
       "    <tr>\n",
       "      <th>16</th>\n",
       "      <td>dayofweek_4</td>\n",
       "      <td>2.936045e+11</td>\n",
       "    </tr>\n",
       "    <tr>\n",
       "      <th>23</th>\n",
       "      <td>day_26</td>\n",
       "      <td>1.888143e+11</td>\n",
       "    </tr>\n",
       "    <tr>\n",
       "      <th>0</th>\n",
       "      <td>const</td>\n",
       "      <td>5.436000e+01</td>\n",
       "    </tr>\n",
       "    <tr>\n",
       "      <th>6</th>\n",
       "      <td>C1_1005</td>\n",
       "      <td>3.620000e+00</td>\n",
       "    </tr>\n",
       "    <tr>\n",
       "      <th>5</th>\n",
       "      <td>C1_1002</td>\n",
       "      <td>3.590000e+00</td>\n",
       "    </tr>\n",
       "    <tr>\n",
       "      <th>15</th>\n",
       "      <td>dayofweek_2</td>\n",
       "      <td>1.400000e+00</td>\n",
       "    </tr>\n",
       "    <tr>\n",
       "      <th>54</th>\n",
       "      <td>site_category_50e219e0</td>\n",
       "      <td>1.380000e+00</td>\n",
       "    </tr>\n",
       "    <tr>\n",
       "      <th>58</th>\n",
       "      <td>app_category_0f2161f8</td>\n",
       "      <td>1.360000e+00</td>\n",
       "    </tr>\n",
       "    <tr>\n",
       "      <th>9</th>\n",
       "      <td>C16_50</td>\n",
       "      <td>1.360000e+00</td>\n",
       "    </tr>\n",
       "    <tr>\n",
       "      <th>26</th>\n",
       "      <td>day_29</td>\n",
       "      <td>1.330000e+00</td>\n",
       "    </tr>\n",
       "    <tr>\n",
       "      <th>8</th>\n",
       "      <td>C15_320</td>\n",
       "      <td>1.330000e+00</td>\n",
       "    </tr>\n",
       "    <tr>\n",
       "      <th>19</th>\n",
       "      <td>day_22</td>\n",
       "      <td>1.070000e+00</td>\n",
       "    </tr>\n",
       "    <tr>\n",
       "      <th>2</th>\n",
       "      <td>device_type_1</td>\n",
       "      <td>1.070000e+00</td>\n",
       "    </tr>\n",
       "    <tr>\n",
       "      <th>10</th>\n",
       "      <td>C16_250</td>\n",
       "      <td>1.050000e+00</td>\n",
       "    </tr>\n",
       "    <tr>\n",
       "      <th>7</th>\n",
       "      <td>C15_300</td>\n",
       "      <td>1.040000e+00</td>\n",
       "    </tr>\n",
       "    <tr>\n",
       "      <th>4</th>\n",
       "      <td>device_conn_type_3</td>\n",
       "      <td>1.020000e+00</td>\n",
       "    </tr>\n",
       "    <tr>\n",
       "      <th>38</th>\n",
       "      <td>hour_11</td>\n",
       "      <td>1.010000e+00</td>\n",
       "    </tr>\n",
       "    <tr>\n",
       "      <th>39</th>\n",
       "      <td>hour_12</td>\n",
       "      <td>1.010000e+00</td>\n",
       "    </tr>\n",
       "    <tr>\n",
       "      <th>46</th>\n",
       "      <td>hour_19</td>\n",
       "      <td>1.010000e+00</td>\n",
       "    </tr>\n",
       "    <tr>\n",
       "      <th>33</th>\n",
       "      <td>hour_6</td>\n",
       "      <td>1.010000e+00</td>\n",
       "    </tr>\n",
       "    <tr>\n",
       "      <th>52</th>\n",
       "      <td>site_category_335d28a8</td>\n",
       "      <td>1.010000e+00</td>\n",
       "    </tr>\n",
       "    <tr>\n",
       "      <th>1</th>\n",
       "      <td>banner_pos_1</td>\n",
       "      <td>1.010000e+00</td>\n",
       "    </tr>\n",
       "    <tr>\n",
       "      <th>45</th>\n",
       "      <td>hour_18</td>\n",
       "      <td>1.010000e+00</td>\n",
       "    </tr>\n",
       "    <tr>\n",
       "      <th>24</th>\n",
       "      <td>day_27</td>\n",
       "      <td>1.010000e+00</td>\n",
       "    </tr>\n",
       "    <tr>\n",
       "      <th>3</th>\n",
       "      <td>device_conn_type_2</td>\n",
       "      <td>1.010000e+00</td>\n",
       "    </tr>\n",
       "    <tr>\n",
       "      <th>44</th>\n",
       "      <td>hour_17</td>\n",
       "      <td>1.010000e+00</td>\n",
       "    </tr>\n",
       "    <tr>\n",
       "      <th>20</th>\n",
       "      <td>day_23</td>\n",
       "      <td>1.010000e+00</td>\n",
       "    </tr>\n",
       "    <tr>\n",
       "      <th>59</th>\n",
       "      <td>app_category_8ded1f7a</td>\n",
       "      <td>1.010000e+00</td>\n",
       "    </tr>\n",
       "    <tr>\n",
       "      <th>60</th>\n",
       "      <td>app_category_cef3e649</td>\n",
       "      <td>1.010000e+00</td>\n",
       "    </tr>\n",
       "    <tr>\n",
       "      <th>11</th>\n",
       "      <td>C18_1</td>\n",
       "      <td>1.010000e+00</td>\n",
       "    </tr>\n",
       "    <tr>\n",
       "      <th>56</th>\n",
       "      <td>site_category_f028772b</td>\n",
       "      <td>1.000000e+00</td>\n",
       "    </tr>\n",
       "    <tr>\n",
       "      <th>55</th>\n",
       "      <td>site_category_75fa27f6</td>\n",
       "      <td>1.000000e+00</td>\n",
       "    </tr>\n",
       "    <tr>\n",
       "      <th>53</th>\n",
       "      <td>site_category_3e814130</td>\n",
       "      <td>1.000000e+00</td>\n",
       "    </tr>\n",
       "    <tr>\n",
       "      <th>51</th>\n",
       "      <td>site_category_28905ebd</td>\n",
       "      <td>1.000000e+00</td>\n",
       "    </tr>\n",
       "    <tr>\n",
       "      <th>50</th>\n",
       "      <td>hour_23</td>\n",
       "      <td>1.000000e+00</td>\n",
       "    </tr>\n",
       "    <tr>\n",
       "      <th>49</th>\n",
       "      <td>hour_22</td>\n",
       "      <td>1.000000e+00</td>\n",
       "    </tr>\n",
       "    <tr>\n",
       "      <th>48</th>\n",
       "      <td>hour_21</td>\n",
       "      <td>1.000000e+00</td>\n",
       "    </tr>\n",
       "    <tr>\n",
       "      <th>47</th>\n",
       "      <td>hour_20</td>\n",
       "      <td>1.000000e+00</td>\n",
       "    </tr>\n",
       "    <tr>\n",
       "      <th>57</th>\n",
       "      <td>site_category_f66779e6</td>\n",
       "      <td>1.000000e+00</td>\n",
       "    </tr>\n",
       "    <tr>\n",
       "      <th>31</th>\n",
       "      <td>hour_4</td>\n",
       "      <td>1.000000e+00</td>\n",
       "    </tr>\n",
       "    <tr>\n",
       "      <th>43</th>\n",
       "      <td>hour_16</td>\n",
       "      <td>1.000000e+00</td>\n",
       "    </tr>\n",
       "    <tr>\n",
       "      <th>42</th>\n",
       "      <td>hour_15</td>\n",
       "      <td>1.000000e+00</td>\n",
       "    </tr>\n",
       "    <tr>\n",
       "      <th>12</th>\n",
       "      <td>C18_2</td>\n",
       "      <td>1.000000e+00</td>\n",
       "    </tr>\n",
       "    <tr>\n",
       "      <th>13</th>\n",
       "      <td>C18_3</td>\n",
       "      <td>1.000000e+00</td>\n",
       "    </tr>\n",
       "    <tr>\n",
       "      <th>14</th>\n",
       "      <td>dayofweek_1</td>\n",
       "      <td>1.000000e+00</td>\n",
       "    </tr>\n",
       "    <tr>\n",
       "      <th>25</th>\n",
       "      <td>day_28</td>\n",
       "      <td>1.000000e+00</td>\n",
       "    </tr>\n",
       "    <tr>\n",
       "      <th>27</th>\n",
       "      <td>day_30</td>\n",
       "      <td>1.000000e+00</td>\n",
       "    </tr>\n",
       "    <tr>\n",
       "      <th>28</th>\n",
       "      <td>hour_1</td>\n",
       "      <td>1.000000e+00</td>\n",
       "    </tr>\n",
       "    <tr>\n",
       "      <th>29</th>\n",
       "      <td>hour_2</td>\n",
       "      <td>1.000000e+00</td>\n",
       "    </tr>\n",
       "    <tr>\n",
       "      <th>30</th>\n",
       "      <td>hour_3</td>\n",
       "      <td>1.000000e+00</td>\n",
       "    </tr>\n",
       "    <tr>\n",
       "      <th>32</th>\n",
       "      <td>hour_5</td>\n",
       "      <td>1.000000e+00</td>\n",
       "    </tr>\n",
       "    <tr>\n",
       "      <th>34</th>\n",
       "      <td>hour_7</td>\n",
       "      <td>1.000000e+00</td>\n",
       "    </tr>\n",
       "    <tr>\n",
       "      <th>35</th>\n",
       "      <td>hour_8</td>\n",
       "      <td>1.000000e+00</td>\n",
       "    </tr>\n",
       "    <tr>\n",
       "      <th>36</th>\n",
       "      <td>hour_9</td>\n",
       "      <td>1.000000e+00</td>\n",
       "    </tr>\n",
       "    <tr>\n",
       "      <th>37</th>\n",
       "      <td>hour_10</td>\n",
       "      <td>1.000000e+00</td>\n",
       "    </tr>\n",
       "    <tr>\n",
       "      <th>40</th>\n",
       "      <td>hour_13</td>\n",
       "      <td>1.000000e+00</td>\n",
       "    </tr>\n",
       "    <tr>\n",
       "      <th>61</th>\n",
       "      <td>app_category_f95efa07</td>\n",
       "      <td>1.000000e+00</td>\n",
       "    </tr>\n",
       "    <tr>\n",
       "      <th>41</th>\n",
       "      <td>hour_14</td>\n",
       "      <td>9.900000e-01</td>\n",
       "    </tr>\n",
       "  </tbody>\n",
       "</table>\n",
       "</div>"
      ],
      "text/plain": [
       "                  Features           VIF\n",
       "21                  day_24  6.622941e+12\n",
       "18             dayofweek_6  1.760938e+12\n",
       "17             dayofweek_5  1.325953e+12\n",
       "22                  day_25  3.054634e+11\n",
       "16             dayofweek_4  2.936045e+11\n",
       "23                  day_26  1.888143e+11\n",
       "0                    const  5.436000e+01\n",
       "6                  C1_1005  3.620000e+00\n",
       "5                  C1_1002  3.590000e+00\n",
       "15             dayofweek_2  1.400000e+00\n",
       "54  site_category_50e219e0  1.380000e+00\n",
       "58   app_category_0f2161f8  1.360000e+00\n",
       "9                   C16_50  1.360000e+00\n",
       "26                  day_29  1.330000e+00\n",
       "8                  C15_320  1.330000e+00\n",
       "19                  day_22  1.070000e+00\n",
       "2            device_type_1  1.070000e+00\n",
       "10                 C16_250  1.050000e+00\n",
       "7                  C15_300  1.040000e+00\n",
       "4       device_conn_type_3  1.020000e+00\n",
       "38                 hour_11  1.010000e+00\n",
       "39                 hour_12  1.010000e+00\n",
       "46                 hour_19  1.010000e+00\n",
       "33                  hour_6  1.010000e+00\n",
       "52  site_category_335d28a8  1.010000e+00\n",
       "1             banner_pos_1  1.010000e+00\n",
       "45                 hour_18  1.010000e+00\n",
       "24                  day_27  1.010000e+00\n",
       "3       device_conn_type_2  1.010000e+00\n",
       "44                 hour_17  1.010000e+00\n",
       "20                  day_23  1.010000e+00\n",
       "59   app_category_8ded1f7a  1.010000e+00\n",
       "60   app_category_cef3e649  1.010000e+00\n",
       "11                   C18_1  1.010000e+00\n",
       "56  site_category_f028772b  1.000000e+00\n",
       "55  site_category_75fa27f6  1.000000e+00\n",
       "53  site_category_3e814130  1.000000e+00\n",
       "51  site_category_28905ebd  1.000000e+00\n",
       "50                 hour_23  1.000000e+00\n",
       "49                 hour_22  1.000000e+00\n",
       "48                 hour_21  1.000000e+00\n",
       "47                 hour_20  1.000000e+00\n",
       "57  site_category_f66779e6  1.000000e+00\n",
       "31                  hour_4  1.000000e+00\n",
       "43                 hour_16  1.000000e+00\n",
       "42                 hour_15  1.000000e+00\n",
       "12                   C18_2  1.000000e+00\n",
       "13                   C18_3  1.000000e+00\n",
       "14             dayofweek_1  1.000000e+00\n",
       "25                  day_28  1.000000e+00\n",
       "27                  day_30  1.000000e+00\n",
       "28                  hour_1  1.000000e+00\n",
       "29                  hour_2  1.000000e+00\n",
       "30                  hour_3  1.000000e+00\n",
       "32                  hour_5  1.000000e+00\n",
       "34                  hour_7  1.000000e+00\n",
       "35                  hour_8  1.000000e+00\n",
       "36                  hour_9  1.000000e+00\n",
       "37                 hour_10  1.000000e+00\n",
       "40                 hour_13  1.000000e+00\n",
       "61   app_category_f95efa07  1.000000e+00\n",
       "41                 hour_14  9.900000e-01"
      ]
     },
     "execution_count": 96,
     "metadata": {},
     "output_type": "execute_result"
    }
   ],
   "source": [
    "from statsmodels.stats.outliers_influence import variance_inflation_factor\n",
    "checkVIF(X_train_new)"
   ]
  },
  {
   "cell_type": "markdown",
   "id": "6512df91",
   "metadata": {},
   "source": [
    "## both dayofweek_4 and day_24 have same & high P-val but among both VIF is higher for day_24, Hence we will drop day_24"
   ]
  },
  {
   "cell_type": "code",
   "execution_count": 97,
   "id": "e032fc21",
   "metadata": {},
   "outputs": [],
   "source": [
    "X_train_new = X_train_new.drop([\"day_24\"], axis = 1)"
   ]
  },
  {
   "cell_type": "code",
   "execution_count": 98,
   "id": "97464b2f",
   "metadata": {},
   "outputs": [
    {
     "name": "stdout",
     "output_type": "stream",
     "text": [
      "                            OLS Regression Results                            \n",
      "==============================================================================\n",
      "Dep. Variable:                      y   R-squared:                       0.115\n",
      "Model:                            OLS   Adj. R-squared:                  0.115\n",
      "Method:                 Least Squares   F-statistic:                     268.7\n",
      "Date:                Tue, 24 May 2022   Prob (F-statistic):               0.00\n",
      "Time:                        12:13:52   Log-Likelihood:                -79438.\n",
      "No. Observations:              119547   AIC:                         1.590e+05\n",
      "Df Residuals:                  119488   BIC:                         1.596e+05\n",
      "Df Model:                          58                                         \n",
      "Covariance Type:            nonrobust                                         \n",
      "==========================================================================================\n",
      "                             coef    std err          t      P>|t|      [0.025      0.975]\n",
      "------------------------------------------------------------------------------------------\n",
      "const                      0.3487      0.010     34.676      0.000       0.329       0.368\n",
      "banner_pos_1               0.0027      0.000     17.924      0.000       0.002       0.003\n",
      "device_type_1              0.0044      0.001      2.986      0.003       0.001       0.007\n",
      "device_conn_type_2         0.0026   7.44e-05     34.893      0.000       0.002       0.003\n",
      "device_conn_type_3         0.0019      0.000     10.325      0.000       0.002       0.002\n",
      "C1_1002                    0.2409      0.011     22.293      0.000       0.220       0.262\n",
      "C1_1005                    0.1978      0.009     21.047      0.000       0.179       0.216\n",
      "C15_300                    0.0027      0.000     10.289      0.000       0.002       0.003\n",
      "C15_320                    0.0048      0.002      2.151      0.031       0.000       0.009\n",
      "C16_50                    -0.1247      0.004    -28.497      0.000      -0.133      -0.116\n",
      "C16_250                    0.0023      0.001      2.938      0.003       0.001       0.004\n",
      "C18_1                      0.0023      0.000     11.870      0.000       0.002       0.003\n",
      "C18_2                      0.0031   8.18e-05     38.462      0.000       0.003       0.003\n",
      "C18_3                      0.0027   7.91e-05     34.264      0.000       0.003       0.003\n",
      "dayofweek_1                0.0017      0.001      2.378      0.017       0.000       0.003\n",
      "dayofweek_2               -0.0026      0.001     -3.770      0.000      -0.004      -0.001\n",
      "dayofweek_4                0.0029      0.001      3.887      0.000       0.001       0.004\n",
      "dayofweek_5             4.579e+10   4.88e+10      0.939      0.348   -4.98e+10    1.41e+11\n",
      "dayofweek_6            -7.907e+09   8.45e+09     -0.936      0.349   -2.45e+10    8.66e+09\n",
      "day_22                     0.0028      0.001      4.946      0.000       0.002       0.004\n",
      "day_23                     0.0030      0.001      5.557      0.000       0.002       0.004\n",
      "day_25                 -4.579e+10   4.88e+10     -0.939      0.348   -1.41e+11    4.98e+10\n",
      "day_26                  7.907e+09   8.45e+09      0.936      0.349   -8.66e+09    2.45e+10\n",
      "day_27                     0.0021      0.000      4.536      0.000       0.001       0.003\n",
      "day_28                     0.0030      0.000     17.018      0.000       0.003       0.003\n",
      "day_29                     0.0031      0.000      7.698      0.000       0.002       0.004\n",
      "day_30                     0.0024      0.000      5.474      0.000       0.002       0.003\n",
      "hour_1                     0.0029      0.000     16.977      0.000       0.003       0.003\n",
      "hour_2                     0.0030      0.000     17.300      0.000       0.003       0.003\n",
      "hour_3                     0.0031      0.000     17.642      0.000       0.003       0.003\n",
      "hour_4                     0.0030      0.000     18.341      0.000       0.003       0.003\n",
      "hour_5                     0.0029      0.000     17.176      0.000       0.003       0.003\n",
      "hour_6                     0.0030      0.000     17.842      0.000       0.003       0.003\n",
      "hour_7                     0.0030      0.000     17.782      0.000       0.003       0.003\n",
      "hour_8                     0.0029      0.000     17.582      0.000       0.003       0.003\n",
      "hour_9                     0.0031      0.000     18.575      0.000       0.003       0.003\n",
      "hour_10                    0.0030      0.000     19.078      0.000       0.003       0.003\n",
      "hour_11                    0.0029      0.000     17.550      0.000       0.003       0.003\n",
      "hour_12                    0.0030      0.000     18.448      0.000       0.003       0.003\n",
      "hour_13                    0.0031      0.000     18.183      0.000       0.003       0.003\n",
      "hour_14                    0.0031      0.000     18.427      0.000       0.003       0.003\n",
      "hour_15                    0.0031      0.000     17.242      0.000       0.003       0.003\n",
      "hour_16                    0.0030      0.000     17.351      0.000       0.003       0.003\n",
      "hour_17                    0.0030      0.000     18.896      0.000       0.003       0.003\n",
      "hour_18                    0.0029      0.000     17.565      0.000       0.003       0.003\n",
      "hour_19                    0.0029      0.000     18.011      0.000       0.003       0.003\n",
      "hour_20                    0.0029      0.000     18.399      0.000       0.003       0.003\n",
      "hour_21                    0.0031      0.000     17.167      0.000       0.003       0.003\n",
      "hour_22                    0.0030      0.000     18.513      0.000       0.003       0.003\n",
      "hour_23                    0.0030      0.000     16.921      0.000       0.003       0.003\n",
      "site_category_28905ebd     0.0030      0.000     11.219      0.000       0.002       0.004\n",
      "site_category_335d28a8     0.0021      0.000      5.608      0.000       0.001       0.003\n",
      "site_category_3e814130     0.0033      0.000     17.897      0.000       0.003       0.004\n",
      "site_category_50e219e0    -0.0015      0.000     -3.078      0.002      -0.002      -0.001\n",
      "site_category_75fa27f6     0.0032      0.000     10.525      0.000       0.003       0.004\n",
      "site_category_f028772b     0.0030      0.000     11.424      0.000       0.003       0.004\n",
      "site_category_f66779e6     0.0025      0.000      5.567      0.000       0.002       0.003\n",
      "app_category_0f2161f8      0.0014      0.000      3.274      0.001       0.001       0.002\n",
      "app_category_8ded1f7a      0.0027      0.000     10.253      0.000       0.002       0.003\n",
      "app_category_cef3e649      0.0024      0.000     10.992      0.000       0.002       0.003\n",
      "app_category_f95efa07      0.0035      0.000     12.770      0.000       0.003       0.004\n",
      "==============================================================================\n",
      "Omnibus:                     1420.818   Durbin-Watson:                   1.991\n",
      "Prob(Omnibus):                  0.000   Jarque-Bera (JB):             1471.856\n",
      "Skew:                           0.272   Prob(JB):                         0.00\n",
      "Kurtosis:                       3.021   Cond. No.                     9.45e+14\n",
      "==============================================================================\n",
      "\n",
      "Notes:\n",
      "[1] Standard Errors assume that the covariance matrix of the errors is correctly specified.\n",
      "[2] The smallest eigenvalue is 4.65e-23. This might indicate that there are\n",
      "strong multicollinearity problems or that the design matrix is singular.\n"
     ]
    }
   ],
   "source": [
    "X_train_new = build_model(X_train_new,Ytrain_sm)"
   ]
  },
  {
   "cell_type": "code",
   "execution_count": 99,
   "id": "3d91e102",
   "metadata": {},
   "outputs": [
    {
     "data": {
      "text/html": [
       "<div>\n",
       "<style scoped>\n",
       "    .dataframe tbody tr th:only-of-type {\n",
       "        vertical-align: middle;\n",
       "    }\n",
       "\n",
       "    .dataframe tbody tr th {\n",
       "        vertical-align: top;\n",
       "    }\n",
       "\n",
       "    .dataframe thead th {\n",
       "        text-align: right;\n",
       "    }\n",
       "</style>\n",
       "<table border=\"1\" class=\"dataframe\">\n",
       "  <thead>\n",
       "    <tr style=\"text-align: right;\">\n",
       "      <th></th>\n",
       "      <th>Features</th>\n",
       "      <th>VIF</th>\n",
       "    </tr>\n",
       "  </thead>\n",
       "  <tbody>\n",
       "    <tr>\n",
       "      <th>17</th>\n",
       "      <td>dayofweek_5</td>\n",
       "      <td>inf</td>\n",
       "    </tr>\n",
       "    <tr>\n",
       "      <th>21</th>\n",
       "      <td>day_25</td>\n",
       "      <td>1.191428e+13</td>\n",
       "    </tr>\n",
       "    <tr>\n",
       "      <th>18</th>\n",
       "      <td>dayofweek_6</td>\n",
       "      <td>2.589764e+12</td>\n",
       "    </tr>\n",
       "    <tr>\n",
       "      <th>22</th>\n",
       "      <td>day_26</td>\n",
       "      <td>4.458127e+11</td>\n",
       "    </tr>\n",
       "    <tr>\n",
       "      <th>0</th>\n",
       "      <td>const</td>\n",
       "      <td>5.436000e+01</td>\n",
       "    </tr>\n",
       "    <tr>\n",
       "      <th>6</th>\n",
       "      <td>C1_1005</td>\n",
       "      <td>3.620000e+00</td>\n",
       "    </tr>\n",
       "    <tr>\n",
       "      <th>5</th>\n",
       "      <td>C1_1002</td>\n",
       "      <td>3.590000e+00</td>\n",
       "    </tr>\n",
       "    <tr>\n",
       "      <th>15</th>\n",
       "      <td>dayofweek_2</td>\n",
       "      <td>1.400000e+00</td>\n",
       "    </tr>\n",
       "    <tr>\n",
       "      <th>53</th>\n",
       "      <td>site_category_50e219e0</td>\n",
       "      <td>1.380000e+00</td>\n",
       "    </tr>\n",
       "    <tr>\n",
       "      <th>57</th>\n",
       "      <td>app_category_0f2161f8</td>\n",
       "      <td>1.360000e+00</td>\n",
       "    </tr>\n",
       "    <tr>\n",
       "      <th>9</th>\n",
       "      <td>C16_50</td>\n",
       "      <td>1.360000e+00</td>\n",
       "    </tr>\n",
       "    <tr>\n",
       "      <th>25</th>\n",
       "      <td>day_29</td>\n",
       "      <td>1.330000e+00</td>\n",
       "    </tr>\n",
       "    <tr>\n",
       "      <th>8</th>\n",
       "      <td>C15_320</td>\n",
       "      <td>1.330000e+00</td>\n",
       "    </tr>\n",
       "    <tr>\n",
       "      <th>19</th>\n",
       "      <td>day_22</td>\n",
       "      <td>1.070000e+00</td>\n",
       "    </tr>\n",
       "    <tr>\n",
       "      <th>2</th>\n",
       "      <td>device_type_1</td>\n",
       "      <td>1.070000e+00</td>\n",
       "    </tr>\n",
       "    <tr>\n",
       "      <th>10</th>\n",
       "      <td>C16_250</td>\n",
       "      <td>1.050000e+00</td>\n",
       "    </tr>\n",
       "    <tr>\n",
       "      <th>7</th>\n",
       "      <td>C15_300</td>\n",
       "      <td>1.040000e+00</td>\n",
       "    </tr>\n",
       "    <tr>\n",
       "      <th>4</th>\n",
       "      <td>device_conn_type_3</td>\n",
       "      <td>1.020000e+00</td>\n",
       "    </tr>\n",
       "    <tr>\n",
       "      <th>38</th>\n",
       "      <td>hour_12</td>\n",
       "      <td>1.010000e+00</td>\n",
       "    </tr>\n",
       "    <tr>\n",
       "      <th>45</th>\n",
       "      <td>hour_19</td>\n",
       "      <td>1.010000e+00</td>\n",
       "    </tr>\n",
       "    <tr>\n",
       "      <th>44</th>\n",
       "      <td>hour_18</td>\n",
       "      <td>1.010000e+00</td>\n",
       "    </tr>\n",
       "    <tr>\n",
       "      <th>32</th>\n",
       "      <td>hour_6</td>\n",
       "      <td>1.010000e+00</td>\n",
       "    </tr>\n",
       "    <tr>\n",
       "      <th>1</th>\n",
       "      <td>banner_pos_1</td>\n",
       "      <td>1.010000e+00</td>\n",
       "    </tr>\n",
       "    <tr>\n",
       "      <th>51</th>\n",
       "      <td>site_category_335d28a8</td>\n",
       "      <td>1.010000e+00</td>\n",
       "    </tr>\n",
       "    <tr>\n",
       "      <th>37</th>\n",
       "      <td>hour_11</td>\n",
       "      <td>1.010000e+00</td>\n",
       "    </tr>\n",
       "    <tr>\n",
       "      <th>23</th>\n",
       "      <td>day_27</td>\n",
       "      <td>1.010000e+00</td>\n",
       "    </tr>\n",
       "    <tr>\n",
       "      <th>20</th>\n",
       "      <td>day_23</td>\n",
       "      <td>1.010000e+00</td>\n",
       "    </tr>\n",
       "    <tr>\n",
       "      <th>3</th>\n",
       "      <td>device_conn_type_2</td>\n",
       "      <td>1.010000e+00</td>\n",
       "    </tr>\n",
       "    <tr>\n",
       "      <th>58</th>\n",
       "      <td>app_category_8ded1f7a</td>\n",
       "      <td>1.010000e+00</td>\n",
       "    </tr>\n",
       "    <tr>\n",
       "      <th>59</th>\n",
       "      <td>app_category_cef3e649</td>\n",
       "      <td>1.010000e+00</td>\n",
       "    </tr>\n",
       "    <tr>\n",
       "      <th>11</th>\n",
       "      <td>C18_1</td>\n",
       "      <td>1.010000e+00</td>\n",
       "    </tr>\n",
       "    <tr>\n",
       "      <th>43</th>\n",
       "      <td>hour_17</td>\n",
       "      <td>1.010000e+00</td>\n",
       "    </tr>\n",
       "    <tr>\n",
       "      <th>54</th>\n",
       "      <td>site_category_75fa27f6</td>\n",
       "      <td>1.000000e+00</td>\n",
       "    </tr>\n",
       "    <tr>\n",
       "      <th>55</th>\n",
       "      <td>site_category_f028772b</td>\n",
       "      <td>1.000000e+00</td>\n",
       "    </tr>\n",
       "    <tr>\n",
       "      <th>52</th>\n",
       "      <td>site_category_3e814130</td>\n",
       "      <td>1.000000e+00</td>\n",
       "    </tr>\n",
       "    <tr>\n",
       "      <th>42</th>\n",
       "      <td>hour_16</td>\n",
       "      <td>1.000000e+00</td>\n",
       "    </tr>\n",
       "    <tr>\n",
       "      <th>50</th>\n",
       "      <td>site_category_28905ebd</td>\n",
       "      <td>1.000000e+00</td>\n",
       "    </tr>\n",
       "    <tr>\n",
       "      <th>49</th>\n",
       "      <td>hour_23</td>\n",
       "      <td>1.000000e+00</td>\n",
       "    </tr>\n",
       "    <tr>\n",
       "      <th>48</th>\n",
       "      <td>hour_22</td>\n",
       "      <td>1.000000e+00</td>\n",
       "    </tr>\n",
       "    <tr>\n",
       "      <th>47</th>\n",
       "      <td>hour_21</td>\n",
       "      <td>1.000000e+00</td>\n",
       "    </tr>\n",
       "    <tr>\n",
       "      <th>46</th>\n",
       "      <td>hour_20</td>\n",
       "      <td>1.000000e+00</td>\n",
       "    </tr>\n",
       "    <tr>\n",
       "      <th>56</th>\n",
       "      <td>site_category_f66779e6</td>\n",
       "      <td>1.000000e+00</td>\n",
       "    </tr>\n",
       "    <tr>\n",
       "      <th>30</th>\n",
       "      <td>hour_4</td>\n",
       "      <td>1.000000e+00</td>\n",
       "    </tr>\n",
       "    <tr>\n",
       "      <th>41</th>\n",
       "      <td>hour_15</td>\n",
       "      <td>1.000000e+00</td>\n",
       "    </tr>\n",
       "    <tr>\n",
       "      <th>40</th>\n",
       "      <td>hour_14</td>\n",
       "      <td>1.000000e+00</td>\n",
       "    </tr>\n",
       "    <tr>\n",
       "      <th>12</th>\n",
       "      <td>C18_2</td>\n",
       "      <td>1.000000e+00</td>\n",
       "    </tr>\n",
       "    <tr>\n",
       "      <th>13</th>\n",
       "      <td>C18_3</td>\n",
       "      <td>1.000000e+00</td>\n",
       "    </tr>\n",
       "    <tr>\n",
       "      <th>14</th>\n",
       "      <td>dayofweek_1</td>\n",
       "      <td>1.000000e+00</td>\n",
       "    </tr>\n",
       "    <tr>\n",
       "      <th>16</th>\n",
       "      <td>dayofweek_4</td>\n",
       "      <td>1.000000e+00</td>\n",
       "    </tr>\n",
       "    <tr>\n",
       "      <th>24</th>\n",
       "      <td>day_28</td>\n",
       "      <td>1.000000e+00</td>\n",
       "    </tr>\n",
       "    <tr>\n",
       "      <th>26</th>\n",
       "      <td>day_30</td>\n",
       "      <td>1.000000e+00</td>\n",
       "    </tr>\n",
       "    <tr>\n",
       "      <th>27</th>\n",
       "      <td>hour_1</td>\n",
       "      <td>1.000000e+00</td>\n",
       "    </tr>\n",
       "    <tr>\n",
       "      <th>28</th>\n",
       "      <td>hour_2</td>\n",
       "      <td>1.000000e+00</td>\n",
       "    </tr>\n",
       "    <tr>\n",
       "      <th>29</th>\n",
       "      <td>hour_3</td>\n",
       "      <td>1.000000e+00</td>\n",
       "    </tr>\n",
       "    <tr>\n",
       "      <th>31</th>\n",
       "      <td>hour_5</td>\n",
       "      <td>1.000000e+00</td>\n",
       "    </tr>\n",
       "    <tr>\n",
       "      <th>33</th>\n",
       "      <td>hour_7</td>\n",
       "      <td>1.000000e+00</td>\n",
       "    </tr>\n",
       "    <tr>\n",
       "      <th>34</th>\n",
       "      <td>hour_8</td>\n",
       "      <td>1.000000e+00</td>\n",
       "    </tr>\n",
       "    <tr>\n",
       "      <th>35</th>\n",
       "      <td>hour_9</td>\n",
       "      <td>1.000000e+00</td>\n",
       "    </tr>\n",
       "    <tr>\n",
       "      <th>36</th>\n",
       "      <td>hour_10</td>\n",
       "      <td>1.000000e+00</td>\n",
       "    </tr>\n",
       "    <tr>\n",
       "      <th>39</th>\n",
       "      <td>hour_13</td>\n",
       "      <td>1.000000e+00</td>\n",
       "    </tr>\n",
       "    <tr>\n",
       "      <th>60</th>\n",
       "      <td>app_category_f95efa07</td>\n",
       "      <td>1.000000e+00</td>\n",
       "    </tr>\n",
       "  </tbody>\n",
       "</table>\n",
       "</div>"
      ],
      "text/plain": [
       "                  Features           VIF\n",
       "17             dayofweek_5           inf\n",
       "21                  day_25  1.191428e+13\n",
       "18             dayofweek_6  2.589764e+12\n",
       "22                  day_26  4.458127e+11\n",
       "0                    const  5.436000e+01\n",
       "6                  C1_1005  3.620000e+00\n",
       "5                  C1_1002  3.590000e+00\n",
       "15             dayofweek_2  1.400000e+00\n",
       "53  site_category_50e219e0  1.380000e+00\n",
       "57   app_category_0f2161f8  1.360000e+00\n",
       "9                   C16_50  1.360000e+00\n",
       "25                  day_29  1.330000e+00\n",
       "8                  C15_320  1.330000e+00\n",
       "19                  day_22  1.070000e+00\n",
       "2            device_type_1  1.070000e+00\n",
       "10                 C16_250  1.050000e+00\n",
       "7                  C15_300  1.040000e+00\n",
       "4       device_conn_type_3  1.020000e+00\n",
       "38                 hour_12  1.010000e+00\n",
       "45                 hour_19  1.010000e+00\n",
       "44                 hour_18  1.010000e+00\n",
       "32                  hour_6  1.010000e+00\n",
       "1             banner_pos_1  1.010000e+00\n",
       "51  site_category_335d28a8  1.010000e+00\n",
       "37                 hour_11  1.010000e+00\n",
       "23                  day_27  1.010000e+00\n",
       "20                  day_23  1.010000e+00\n",
       "3       device_conn_type_2  1.010000e+00\n",
       "58   app_category_8ded1f7a  1.010000e+00\n",
       "59   app_category_cef3e649  1.010000e+00\n",
       "11                   C18_1  1.010000e+00\n",
       "43                 hour_17  1.010000e+00\n",
       "54  site_category_75fa27f6  1.000000e+00\n",
       "55  site_category_f028772b  1.000000e+00\n",
       "52  site_category_3e814130  1.000000e+00\n",
       "42                 hour_16  1.000000e+00\n",
       "50  site_category_28905ebd  1.000000e+00\n",
       "49                 hour_23  1.000000e+00\n",
       "48                 hour_22  1.000000e+00\n",
       "47                 hour_21  1.000000e+00\n",
       "46                 hour_20  1.000000e+00\n",
       "56  site_category_f66779e6  1.000000e+00\n",
       "30                  hour_4  1.000000e+00\n",
       "41                 hour_15  1.000000e+00\n",
       "40                 hour_14  1.000000e+00\n",
       "12                   C18_2  1.000000e+00\n",
       "13                   C18_3  1.000000e+00\n",
       "14             dayofweek_1  1.000000e+00\n",
       "16             dayofweek_4  1.000000e+00\n",
       "24                  day_28  1.000000e+00\n",
       "26                  day_30  1.000000e+00\n",
       "27                  hour_1  1.000000e+00\n",
       "28                  hour_2  1.000000e+00\n",
       "29                  hour_3  1.000000e+00\n",
       "31                  hour_5  1.000000e+00\n",
       "33                  hour_7  1.000000e+00\n",
       "34                  hour_8  1.000000e+00\n",
       "35                  hour_9  1.000000e+00\n",
       "36                 hour_10  1.000000e+00\n",
       "39                 hour_13  1.000000e+00\n",
       "60   app_category_f95efa07  1.000000e+00"
      ]
     },
     "execution_count": 99,
     "metadata": {},
     "output_type": "execute_result"
    }
   ],
   "source": [
    "checkVIF(X_train_new)"
   ]
  },
  {
   "cell_type": "markdown",
   "id": "4e16321e",
   "metadata": {},
   "source": [
    "## both dayofweek_6 and day_26 have same & high P-val but among both VIF is higher for dayofweek_6, Hence we will drop dayofweek_6"
   ]
  },
  {
   "cell_type": "code",
   "execution_count": 100,
   "id": "9db904de",
   "metadata": {},
   "outputs": [],
   "source": [
    "X_train_new = X_train_new.drop([\"dayofweek_6\"], axis = 1)"
   ]
  },
  {
   "cell_type": "code",
   "execution_count": 101,
   "id": "4bb55947",
   "metadata": {},
   "outputs": [
    {
     "name": "stdout",
     "output_type": "stream",
     "text": [
      "                            OLS Regression Results                            \n",
      "==============================================================================\n",
      "Dep. Variable:                      y   R-squared:                       0.115\n",
      "Model:                            OLS   Adj. R-squared:                  0.115\n",
      "Method:                 Least Squares   F-statistic:                     268.7\n",
      "Date:                Tue, 24 May 2022   Prob (F-statistic):               0.00\n",
      "Time:                        12:14:50   Log-Likelihood:                -79437.\n",
      "No. Observations:              119547   AIC:                         1.590e+05\n",
      "Df Residuals:                  119488   BIC:                         1.596e+05\n",
      "Df Model:                          58                                         \n",
      "Covariance Type:            nonrobust                                         \n",
      "==========================================================================================\n",
      "                             coef    std err          t      P>|t|      [0.025      0.975]\n",
      "------------------------------------------------------------------------------------------\n",
      "const                      0.3485      0.010     34.638      0.000       0.329       0.368\n",
      "banner_pos_1               0.0027      0.000     17.969      0.000       0.002       0.003\n",
      "device_type_1              0.0043      0.001      2.984      0.003       0.001       0.007\n",
      "device_conn_type_2         0.0026   7.43e-05     34.951      0.000       0.002       0.003\n",
      "device_conn_type_3         0.0019      0.000     10.346      0.000       0.002       0.002\n",
      "C1_1002                    0.2409      0.011     22.277      0.000       0.220       0.262\n",
      "C1_1005                    0.1978      0.009     21.024      0.000       0.179       0.216\n",
      "C15_300                    0.0027      0.000     10.381      0.000       0.002       0.003\n",
      "C15_320                    0.0048      0.002      2.147      0.032       0.000       0.009\n",
      "C16_50                    -0.1245      0.004    -28.485      0.000      -0.133      -0.116\n",
      "C16_250                    0.0022      0.001      2.903      0.004       0.001       0.004\n",
      "C18_1                      0.0023      0.000     11.911      0.000       0.002       0.003\n",
      "C18_2                      0.0031   8.14e-05     38.698      0.000       0.003       0.003\n",
      "C18_3                      0.0027   7.92e-05     34.191      0.000       0.003       0.003\n",
      "dayofweek_1                0.0017      0.001      2.380      0.017       0.000       0.003\n",
      "dayofweek_2               -0.0026      0.001     -3.786      0.000      -0.004      -0.001\n",
      "dayofweek_4                0.0029      0.001      3.893      0.000       0.001       0.004\n",
      "dayofweek_5             4.408e+10   4.71e+10      0.936      0.349   -4.82e+10    1.36e+11\n",
      "day_22                     0.0028      0.001      4.939      0.000       0.002       0.004\n",
      "day_23                     0.0031      0.001      5.577      0.000       0.002       0.004\n",
      "day_25                 -4.408e+10   4.71e+10     -0.936      0.349   -1.36e+11    4.82e+10\n",
      "day_26                     0.0033      0.001      3.256      0.001       0.001       0.005\n",
      "day_27                     0.0021      0.000      4.592      0.000       0.001       0.003\n",
      "day_28                     0.0030      0.000     16.961      0.000       0.003       0.003\n",
      "day_29                     0.0031      0.000      7.723      0.000       0.002       0.004\n",
      "day_30                     0.0024      0.000      5.491      0.000       0.002       0.003\n",
      "hour_1                     0.0029      0.000     16.977      0.000       0.003       0.003\n",
      "hour_2                     0.0030      0.000     17.235      0.000       0.003       0.003\n",
      "hour_3                     0.0031      0.000     17.613      0.000       0.003       0.003\n",
      "hour_4                     0.0030      0.000     18.350      0.000       0.003       0.003\n",
      "hour_5                     0.0029      0.000     17.041      0.000       0.003       0.003\n",
      "hour_6                     0.0030      0.000     17.845      0.000       0.003       0.003\n",
      "hour_7                     0.0030      0.000     17.803      0.000       0.003       0.003\n",
      "hour_8                     0.0029      0.000     17.672      0.000       0.003       0.003\n",
      "hour_9                     0.0031      0.000     18.456      0.000       0.003       0.003\n",
      "hour_10                    0.0030      0.000     19.063      0.000       0.003       0.003\n",
      "hour_11                    0.0029      0.000     17.536      0.000       0.003       0.003\n",
      "hour_12                    0.0030      0.000     18.492      0.000       0.003       0.003\n",
      "hour_13                    0.0031      0.000     18.171      0.000       0.003       0.003\n",
      "hour_14                    0.0031      0.000     18.446      0.000       0.003       0.003\n",
      "hour_15                    0.0031      0.000     17.335      0.000       0.003       0.003\n",
      "hour_16                    0.0030      0.000     17.332      0.000       0.003       0.003\n",
      "hour_17                    0.0031      0.000     18.940      0.000       0.003       0.003\n",
      "hour_18                    0.0029      0.000     17.535      0.000       0.003       0.003\n",
      "hour_19                    0.0029      0.000     18.012      0.000       0.003       0.003\n",
      "hour_20                    0.0029      0.000     18.466      0.000       0.003       0.003\n",
      "hour_21                    0.0031      0.000     17.147      0.000       0.003       0.003\n",
      "hour_22                    0.0030      0.000     18.494      0.000       0.003       0.003\n",
      "hour_23                    0.0030      0.000     16.950      0.000       0.003       0.003\n",
      "site_category_28905ebd     0.0030      0.000     11.190      0.000       0.002       0.004\n",
      "site_category_335d28a8     0.0021      0.000      5.563      0.000       0.001       0.003\n",
      "site_category_3e814130     0.0033      0.000     17.898      0.000       0.003       0.004\n",
      "site_category_50e219e0    -0.0015      0.000     -3.071      0.002      -0.002      -0.001\n",
      "site_category_75fa27f6     0.0032      0.000     10.549      0.000       0.003       0.004\n",
      "site_category_f028772b     0.0030      0.000     11.452      0.000       0.003       0.004\n",
      "site_category_f66779e6     0.0025      0.000      5.549      0.000       0.002       0.003\n",
      "app_category_0f2161f8      0.0014      0.000      3.306      0.001       0.001       0.002\n",
      "app_category_8ded1f7a      0.0027      0.000     10.178      0.000       0.002       0.003\n",
      "app_category_cef3e649      0.0024      0.000     11.085      0.000       0.002       0.003\n",
      "app_category_f95efa07      0.0035      0.000     12.766      0.000       0.003       0.004\n",
      "==============================================================================\n",
      "Omnibus:                     1418.928   Durbin-Watson:                   1.991\n",
      "Prob(Omnibus):                  0.000   Jarque-Bera (JB):             1469.881\n",
      "Skew:                           0.271   Prob(JB):                         0.00\n",
      "Kurtosis:                       3.016   Cond. No.                     9.13e+14\n",
      "==============================================================================\n",
      "\n",
      "Notes:\n",
      "[1] Standard Errors assume that the covariance matrix of the errors is correctly specified.\n",
      "[2] The smallest eigenvalue is 4.99e-23. This might indicate that there are\n",
      "strong multicollinearity problems or that the design matrix is singular.\n"
     ]
    }
   ],
   "source": [
    "X_train_new = build_model(X_train_new,Ytrain_sm)"
   ]
  },
  {
   "cell_type": "code",
   "execution_count": 102,
   "id": "55af8a80",
   "metadata": {},
   "outputs": [
    {
     "data": {
      "text/html": [
       "<div>\n",
       "<style scoped>\n",
       "    .dataframe tbody tr th:only-of-type {\n",
       "        vertical-align: middle;\n",
       "    }\n",
       "\n",
       "    .dataframe tbody tr th {\n",
       "        vertical-align: top;\n",
       "    }\n",
       "\n",
       "    .dataframe thead th {\n",
       "        text-align: right;\n",
       "    }\n",
       "</style>\n",
       "<table border=\"1\" class=\"dataframe\">\n",
       "  <thead>\n",
       "    <tr style=\"text-align: right;\">\n",
       "      <th></th>\n",
       "      <th>Features</th>\n",
       "      <th>VIF</th>\n",
       "    </tr>\n",
       "  </thead>\n",
       "  <tbody>\n",
       "    <tr>\n",
       "      <th>20</th>\n",
       "      <td>day_25</td>\n",
       "      <td>inf</td>\n",
       "    </tr>\n",
       "    <tr>\n",
       "      <th>17</th>\n",
       "      <td>dayofweek_5</td>\n",
       "      <td>inf</td>\n",
       "    </tr>\n",
       "    <tr>\n",
       "      <th>0</th>\n",
       "      <td>const</td>\n",
       "      <td>54.36</td>\n",
       "    </tr>\n",
       "    <tr>\n",
       "      <th>6</th>\n",
       "      <td>C1_1005</td>\n",
       "      <td>3.62</td>\n",
       "    </tr>\n",
       "    <tr>\n",
       "      <th>5</th>\n",
       "      <td>C1_1002</td>\n",
       "      <td>3.59</td>\n",
       "    </tr>\n",
       "    <tr>\n",
       "      <th>15</th>\n",
       "      <td>dayofweek_2</td>\n",
       "      <td>1.40</td>\n",
       "    </tr>\n",
       "    <tr>\n",
       "      <th>52</th>\n",
       "      <td>site_category_50e219e0</td>\n",
       "      <td>1.38</td>\n",
       "    </tr>\n",
       "    <tr>\n",
       "      <th>9</th>\n",
       "      <td>C16_50</td>\n",
       "      <td>1.36</td>\n",
       "    </tr>\n",
       "    <tr>\n",
       "      <th>56</th>\n",
       "      <td>app_category_0f2161f8</td>\n",
       "      <td>1.36</td>\n",
       "    </tr>\n",
       "    <tr>\n",
       "      <th>8</th>\n",
       "      <td>C15_320</td>\n",
       "      <td>1.33</td>\n",
       "    </tr>\n",
       "    <tr>\n",
       "      <th>24</th>\n",
       "      <td>day_29</td>\n",
       "      <td>1.33</td>\n",
       "    </tr>\n",
       "    <tr>\n",
       "      <th>2</th>\n",
       "      <td>device_type_1</td>\n",
       "      <td>1.07</td>\n",
       "    </tr>\n",
       "    <tr>\n",
       "      <th>18</th>\n",
       "      <td>day_22</td>\n",
       "      <td>1.07</td>\n",
       "    </tr>\n",
       "    <tr>\n",
       "      <th>10</th>\n",
       "      <td>C16_250</td>\n",
       "      <td>1.05</td>\n",
       "    </tr>\n",
       "    <tr>\n",
       "      <th>7</th>\n",
       "      <td>C15_300</td>\n",
       "      <td>1.04</td>\n",
       "    </tr>\n",
       "    <tr>\n",
       "      <th>4</th>\n",
       "      <td>device_conn_type_3</td>\n",
       "      <td>1.02</td>\n",
       "    </tr>\n",
       "    <tr>\n",
       "      <th>31</th>\n",
       "      <td>hour_6</td>\n",
       "      <td>1.01</td>\n",
       "    </tr>\n",
       "    <tr>\n",
       "      <th>50</th>\n",
       "      <td>site_category_335d28a8</td>\n",
       "      <td>1.01</td>\n",
       "    </tr>\n",
       "    <tr>\n",
       "      <th>1</th>\n",
       "      <td>banner_pos_1</td>\n",
       "      <td>1.01</td>\n",
       "    </tr>\n",
       "    <tr>\n",
       "      <th>3</th>\n",
       "      <td>device_conn_type_2</td>\n",
       "      <td>1.01</td>\n",
       "    </tr>\n",
       "    <tr>\n",
       "      <th>36</th>\n",
       "      <td>hour_11</td>\n",
       "      <td>1.01</td>\n",
       "    </tr>\n",
       "    <tr>\n",
       "      <th>44</th>\n",
       "      <td>hour_19</td>\n",
       "      <td>1.01</td>\n",
       "    </tr>\n",
       "    <tr>\n",
       "      <th>43</th>\n",
       "      <td>hour_18</td>\n",
       "      <td>1.01</td>\n",
       "    </tr>\n",
       "    <tr>\n",
       "      <th>37</th>\n",
       "      <td>hour_12</td>\n",
       "      <td>1.01</td>\n",
       "    </tr>\n",
       "    <tr>\n",
       "      <th>22</th>\n",
       "      <td>day_27</td>\n",
       "      <td>1.01</td>\n",
       "    </tr>\n",
       "    <tr>\n",
       "      <th>21</th>\n",
       "      <td>day_26</td>\n",
       "      <td>1.01</td>\n",
       "    </tr>\n",
       "    <tr>\n",
       "      <th>19</th>\n",
       "      <td>day_23</td>\n",
       "      <td>1.01</td>\n",
       "    </tr>\n",
       "    <tr>\n",
       "      <th>57</th>\n",
       "      <td>app_category_8ded1f7a</td>\n",
       "      <td>1.01</td>\n",
       "    </tr>\n",
       "    <tr>\n",
       "      <th>58</th>\n",
       "      <td>app_category_cef3e649</td>\n",
       "      <td>1.01</td>\n",
       "    </tr>\n",
       "    <tr>\n",
       "      <th>11</th>\n",
       "      <td>C18_1</td>\n",
       "      <td>1.01</td>\n",
       "    </tr>\n",
       "    <tr>\n",
       "      <th>42</th>\n",
       "      <td>hour_17</td>\n",
       "      <td>1.01</td>\n",
       "    </tr>\n",
       "    <tr>\n",
       "      <th>53</th>\n",
       "      <td>site_category_75fa27f6</td>\n",
       "      <td>1.00</td>\n",
       "    </tr>\n",
       "    <tr>\n",
       "      <th>54</th>\n",
       "      <td>site_category_f028772b</td>\n",
       "      <td>1.00</td>\n",
       "    </tr>\n",
       "    <tr>\n",
       "      <th>51</th>\n",
       "      <td>site_category_3e814130</td>\n",
       "      <td>1.00</td>\n",
       "    </tr>\n",
       "    <tr>\n",
       "      <th>49</th>\n",
       "      <td>site_category_28905ebd</td>\n",
       "      <td>1.00</td>\n",
       "    </tr>\n",
       "    <tr>\n",
       "      <th>41</th>\n",
       "      <td>hour_16</td>\n",
       "      <td>1.00</td>\n",
       "    </tr>\n",
       "    <tr>\n",
       "      <th>48</th>\n",
       "      <td>hour_23</td>\n",
       "      <td>1.00</td>\n",
       "    </tr>\n",
       "    <tr>\n",
       "      <th>47</th>\n",
       "      <td>hour_22</td>\n",
       "      <td>1.00</td>\n",
       "    </tr>\n",
       "    <tr>\n",
       "      <th>46</th>\n",
       "      <td>hour_21</td>\n",
       "      <td>1.00</td>\n",
       "    </tr>\n",
       "    <tr>\n",
       "      <th>45</th>\n",
       "      <td>hour_20</td>\n",
       "      <td>1.00</td>\n",
       "    </tr>\n",
       "    <tr>\n",
       "      <th>55</th>\n",
       "      <td>site_category_f66779e6</td>\n",
       "      <td>1.00</td>\n",
       "    </tr>\n",
       "    <tr>\n",
       "      <th>30</th>\n",
       "      <td>hour_5</td>\n",
       "      <td>1.00</td>\n",
       "    </tr>\n",
       "    <tr>\n",
       "      <th>40</th>\n",
       "      <td>hour_15</td>\n",
       "      <td>1.00</td>\n",
       "    </tr>\n",
       "    <tr>\n",
       "      <th>39</th>\n",
       "      <td>hour_14</td>\n",
       "      <td>1.00</td>\n",
       "    </tr>\n",
       "    <tr>\n",
       "      <th>12</th>\n",
       "      <td>C18_2</td>\n",
       "      <td>1.00</td>\n",
       "    </tr>\n",
       "    <tr>\n",
       "      <th>13</th>\n",
       "      <td>C18_3</td>\n",
       "      <td>1.00</td>\n",
       "    </tr>\n",
       "    <tr>\n",
       "      <th>14</th>\n",
       "      <td>dayofweek_1</td>\n",
       "      <td>1.00</td>\n",
       "    </tr>\n",
       "    <tr>\n",
       "      <th>16</th>\n",
       "      <td>dayofweek_4</td>\n",
       "      <td>1.00</td>\n",
       "    </tr>\n",
       "    <tr>\n",
       "      <th>23</th>\n",
       "      <td>day_28</td>\n",
       "      <td>1.00</td>\n",
       "    </tr>\n",
       "    <tr>\n",
       "      <th>25</th>\n",
       "      <td>day_30</td>\n",
       "      <td>1.00</td>\n",
       "    </tr>\n",
       "    <tr>\n",
       "      <th>26</th>\n",
       "      <td>hour_1</td>\n",
       "      <td>1.00</td>\n",
       "    </tr>\n",
       "    <tr>\n",
       "      <th>27</th>\n",
       "      <td>hour_2</td>\n",
       "      <td>1.00</td>\n",
       "    </tr>\n",
       "    <tr>\n",
       "      <th>28</th>\n",
       "      <td>hour_3</td>\n",
       "      <td>1.00</td>\n",
       "    </tr>\n",
       "    <tr>\n",
       "      <th>29</th>\n",
       "      <td>hour_4</td>\n",
       "      <td>1.00</td>\n",
       "    </tr>\n",
       "    <tr>\n",
       "      <th>32</th>\n",
       "      <td>hour_7</td>\n",
       "      <td>1.00</td>\n",
       "    </tr>\n",
       "    <tr>\n",
       "      <th>33</th>\n",
       "      <td>hour_8</td>\n",
       "      <td>1.00</td>\n",
       "    </tr>\n",
       "    <tr>\n",
       "      <th>34</th>\n",
       "      <td>hour_9</td>\n",
       "      <td>1.00</td>\n",
       "    </tr>\n",
       "    <tr>\n",
       "      <th>35</th>\n",
       "      <td>hour_10</td>\n",
       "      <td>1.00</td>\n",
       "    </tr>\n",
       "    <tr>\n",
       "      <th>38</th>\n",
       "      <td>hour_13</td>\n",
       "      <td>1.00</td>\n",
       "    </tr>\n",
       "    <tr>\n",
       "      <th>59</th>\n",
       "      <td>app_category_f95efa07</td>\n",
       "      <td>1.00</td>\n",
       "    </tr>\n",
       "  </tbody>\n",
       "</table>\n",
       "</div>"
      ],
      "text/plain": [
       "                  Features    VIF\n",
       "20                  day_25    inf\n",
       "17             dayofweek_5    inf\n",
       "0                    const  54.36\n",
       "6                  C1_1005   3.62\n",
       "5                  C1_1002   3.59\n",
       "15             dayofweek_2   1.40\n",
       "52  site_category_50e219e0   1.38\n",
       "9                   C16_50   1.36\n",
       "56   app_category_0f2161f8   1.36\n",
       "8                  C15_320   1.33\n",
       "24                  day_29   1.33\n",
       "2            device_type_1   1.07\n",
       "18                  day_22   1.07\n",
       "10                 C16_250   1.05\n",
       "7                  C15_300   1.04\n",
       "4       device_conn_type_3   1.02\n",
       "31                  hour_6   1.01\n",
       "50  site_category_335d28a8   1.01\n",
       "1             banner_pos_1   1.01\n",
       "3       device_conn_type_2   1.01\n",
       "36                 hour_11   1.01\n",
       "44                 hour_19   1.01\n",
       "43                 hour_18   1.01\n",
       "37                 hour_12   1.01\n",
       "22                  day_27   1.01\n",
       "21                  day_26   1.01\n",
       "19                  day_23   1.01\n",
       "57   app_category_8ded1f7a   1.01\n",
       "58   app_category_cef3e649   1.01\n",
       "11                   C18_1   1.01\n",
       "42                 hour_17   1.01\n",
       "53  site_category_75fa27f6   1.00\n",
       "54  site_category_f028772b   1.00\n",
       "51  site_category_3e814130   1.00\n",
       "49  site_category_28905ebd   1.00\n",
       "41                 hour_16   1.00\n",
       "48                 hour_23   1.00\n",
       "47                 hour_22   1.00\n",
       "46                 hour_21   1.00\n",
       "45                 hour_20   1.00\n",
       "55  site_category_f66779e6   1.00\n",
       "30                  hour_5   1.00\n",
       "40                 hour_15   1.00\n",
       "39                 hour_14   1.00\n",
       "12                   C18_2   1.00\n",
       "13                   C18_3   1.00\n",
       "14             dayofweek_1   1.00\n",
       "16             dayofweek_4   1.00\n",
       "23                  day_28   1.00\n",
       "25                  day_30   1.00\n",
       "26                  hour_1   1.00\n",
       "27                  hour_2   1.00\n",
       "28                  hour_3   1.00\n",
       "29                  hour_4   1.00\n",
       "32                  hour_7   1.00\n",
       "33                  hour_8   1.00\n",
       "34                  hour_9   1.00\n",
       "35                 hour_10   1.00\n",
       "38                 hour_13   1.00\n",
       "59   app_category_f95efa07   1.00"
      ]
     },
     "execution_count": 102,
     "metadata": {},
     "output_type": "execute_result"
    }
   ],
   "source": [
    "checkVIF(X_train_new)"
   ]
  },
  {
   "cell_type": "markdown",
   "id": "e9d65237",
   "metadata": {},
   "source": [
    "## both dayofweek_5 and day_25 have same & high P-val also both VIF is infinity ( perfect correlation ) but dayofweek_5 have high CTR rate, hence we will drop day_25"
   ]
  },
  {
   "cell_type": "code",
   "execution_count": 103,
   "id": "6679bdf6",
   "metadata": {},
   "outputs": [],
   "source": [
    "X_train_new = X_train_new.drop([\"day_25\"], axis = 1)"
   ]
  },
  {
   "cell_type": "code",
   "execution_count": 104,
   "id": "6dd8a519",
   "metadata": {},
   "outputs": [
    {
     "name": "stdout",
     "output_type": "stream",
     "text": [
      "                            OLS Regression Results                            \n",
      "==============================================================================\n",
      "Dep. Variable:                      y   R-squared:                       0.115\n",
      "Model:                            OLS   Adj. R-squared:                  0.115\n",
      "Method:                 Least Squares   F-statistic:                     268.8\n",
      "Date:                Tue, 24 May 2022   Prob (F-statistic):               0.00\n",
      "Time:                        12:15:39   Log-Likelihood:                -79437.\n",
      "No. Observations:              119547   AIC:                         1.590e+05\n",
      "Df Residuals:                  119488   BIC:                         1.596e+05\n",
      "Df Model:                          58                                         \n",
      "Covariance Type:            nonrobust                                         \n",
      "==========================================================================================\n",
      "                             coef    std err          t      P>|t|      [0.025      0.975]\n",
      "------------------------------------------------------------------------------------------\n",
      "const                      0.3478      0.010     34.672      0.000       0.328       0.367\n",
      "banner_pos_1               0.0027      0.000     17.957      0.000       0.002       0.003\n",
      "device_type_1              0.0043      0.001      2.966      0.003       0.001       0.007\n",
      "device_conn_type_2         0.0026   7.43e-05     34.965      0.000       0.002       0.003\n",
      "device_conn_type_3         0.0019      0.000     10.311      0.000       0.002       0.002\n",
      "C1_1002                    0.2415      0.011     22.365      0.000       0.220       0.263\n",
      "C1_1005                    0.1985      0.009     21.150      0.000       0.180       0.217\n",
      "C15_300                    0.0027      0.000     10.342      0.000       0.002       0.003\n",
      "C15_320                    0.0048      0.002      2.147      0.032       0.000       0.009\n",
      "C16_50                    -0.1245      0.004    -28.475      0.000      -0.133      -0.116\n",
      "C16_250                    0.0023      0.001      2.930      0.003       0.001       0.004\n",
      "C18_1                      0.0023      0.000     11.884      0.000       0.002       0.003\n",
      "C18_2                      0.0032   8.13e-05     38.778      0.000       0.003       0.003\n",
      "C18_3                      0.0027   7.91e-05     34.274      0.000       0.003       0.003\n",
      "dayofweek_1                0.0017      0.001      2.403      0.016       0.000       0.003\n",
      "dayofweek_2               -0.0026      0.001     -3.770      0.000      -0.004      -0.001\n",
      "dayofweek_4                0.0029      0.001      3.902      0.000       0.001       0.004\n",
      "dayofweek_5                0.0034      0.001      3.861      0.000       0.002       0.005\n",
      "day_22                     0.0028      0.001      4.942      0.000       0.002       0.004\n",
      "day_23                     0.0030      0.001      5.552      0.000       0.002       0.004\n",
      "day_26                     0.0033      0.001      3.242      0.001       0.001       0.005\n",
      "day_27                     0.0021      0.000      4.559      0.000       0.001       0.003\n",
      "day_28                     0.0030      0.000     16.997      0.000       0.003       0.003\n",
      "day_29                     0.0031      0.000      7.715      0.000       0.002       0.004\n",
      "day_30                     0.0024      0.000      5.473      0.000       0.002       0.003\n",
      "hour_1                     0.0029      0.000     17.044      0.000       0.003       0.003\n",
      "hour_2                     0.0030      0.000     17.275      0.000       0.003       0.003\n",
      "hour_3                     0.0031      0.000     17.607      0.000       0.003       0.003\n",
      "hour_4                     0.0030      0.000     18.327      0.000       0.003       0.003\n",
      "hour_5                     0.0029      0.000     17.155      0.000       0.003       0.003\n",
      "hour_6                     0.0030      0.000     17.831      0.000       0.003       0.003\n",
      "hour_7                     0.0030      0.000     17.813      0.000       0.003       0.003\n",
      "hour_8                     0.0029      0.000     17.656      0.000       0.003       0.003\n",
      "hour_9                     0.0031      0.000     18.584      0.000       0.003       0.003\n",
      "hour_10                    0.0030      0.000     19.050      0.000       0.003       0.003\n",
      "hour_11                    0.0029      0.000     17.561      0.000       0.003       0.003\n",
      "hour_12                    0.0030      0.000     18.489      0.000       0.003       0.003\n",
      "hour_13                    0.0031      0.000     18.153      0.000       0.003       0.003\n",
      "hour_14                    0.0031      0.000     18.455      0.000       0.003       0.003\n",
      "hour_15                    0.0031      0.000     17.315      0.000       0.003       0.003\n",
      "hour_16                    0.0030      0.000     17.343      0.000       0.003       0.003\n",
      "hour_17                    0.0030      0.000     18.916      0.000       0.003       0.003\n",
      "hour_18                    0.0029      0.000     17.596      0.000       0.003       0.003\n",
      "hour_19                    0.0029      0.000     17.988      0.000       0.003       0.003\n",
      "hour_20                    0.0029      0.000     18.466      0.000       0.003       0.003\n",
      "hour_21                    0.0031      0.000     17.158      0.000       0.003       0.003\n",
      "hour_22                    0.0030      0.000     18.490      0.000       0.003       0.003\n",
      "hour_23                    0.0030      0.000     16.935      0.000       0.003       0.003\n",
      "site_category_28905ebd     0.0030      0.000     11.225      0.000       0.002       0.004\n",
      "site_category_335d28a8     0.0021      0.000      5.592      0.000       0.001       0.003\n",
      "site_category_3e814130     0.0033      0.000     17.875      0.000       0.003       0.004\n",
      "site_category_50e219e0    -0.0015      0.000     -3.057      0.002      -0.002      -0.001\n",
      "site_category_75fa27f6     0.0032      0.000     10.529      0.000       0.003       0.004\n",
      "site_category_f028772b     0.0030      0.000     11.428      0.000       0.003       0.004\n",
      "site_category_f66779e6     0.0025      0.000      5.536      0.000       0.002       0.003\n",
      "app_category_0f2161f8      0.0014      0.000      3.269      0.001       0.001       0.002\n",
      "app_category_8ded1f7a      0.0027      0.000     10.230      0.000       0.002       0.003\n",
      "app_category_cef3e649      0.0024      0.000     11.060      0.000       0.002       0.003\n",
      "app_category_f95efa07      0.0035      0.000     12.745      0.000       0.003       0.004\n",
      "==============================================================================\n",
      "Omnibus:                     1417.549   Durbin-Watson:                   1.991\n",
      "Prob(Omnibus):                  0.000   Jarque-Bera (JB):             1468.427\n",
      "Skew:                           0.271   Prob(JB):                         0.00\n",
      "Kurtosis:                       3.013   Cond. No.                         226.\n",
      "==============================================================================\n",
      "\n",
      "Notes:\n",
      "[1] Standard Errors assume that the covariance matrix of the errors is correctly specified.\n"
     ]
    }
   ],
   "source": [
    "X_train_new = build_model(X_train_new,Ytrain_sm)"
   ]
  },
  {
   "cell_type": "code",
   "execution_count": 105,
   "id": "0df6dbdc",
   "metadata": {},
   "outputs": [
    {
     "data": {
      "text/html": [
       "<div>\n",
       "<style scoped>\n",
       "    .dataframe tbody tr th:only-of-type {\n",
       "        vertical-align: middle;\n",
       "    }\n",
       "\n",
       "    .dataframe tbody tr th {\n",
       "        vertical-align: top;\n",
       "    }\n",
       "\n",
       "    .dataframe thead th {\n",
       "        text-align: right;\n",
       "    }\n",
       "</style>\n",
       "<table border=\"1\" class=\"dataframe\">\n",
       "  <thead>\n",
       "    <tr style=\"text-align: right;\">\n",
       "      <th></th>\n",
       "      <th>Features</th>\n",
       "      <th>VIF</th>\n",
       "    </tr>\n",
       "  </thead>\n",
       "  <tbody>\n",
       "    <tr>\n",
       "      <th>0</th>\n",
       "      <td>const</td>\n",
       "      <td>54.36</td>\n",
       "    </tr>\n",
       "    <tr>\n",
       "      <th>6</th>\n",
       "      <td>C1_1005</td>\n",
       "      <td>3.62</td>\n",
       "    </tr>\n",
       "    <tr>\n",
       "      <th>5</th>\n",
       "      <td>C1_1002</td>\n",
       "      <td>3.59</td>\n",
       "    </tr>\n",
       "    <tr>\n",
       "      <th>15</th>\n",
       "      <td>dayofweek_2</td>\n",
       "      <td>1.40</td>\n",
       "    </tr>\n",
       "    <tr>\n",
       "      <th>51</th>\n",
       "      <td>site_category_50e219e0</td>\n",
       "      <td>1.38</td>\n",
       "    </tr>\n",
       "    <tr>\n",
       "      <th>9</th>\n",
       "      <td>C16_50</td>\n",
       "      <td>1.36</td>\n",
       "    </tr>\n",
       "    <tr>\n",
       "      <th>55</th>\n",
       "      <td>app_category_0f2161f8</td>\n",
       "      <td>1.36</td>\n",
       "    </tr>\n",
       "    <tr>\n",
       "      <th>8</th>\n",
       "      <td>C15_320</td>\n",
       "      <td>1.33</td>\n",
       "    </tr>\n",
       "    <tr>\n",
       "      <th>23</th>\n",
       "      <td>day_29</td>\n",
       "      <td>1.33</td>\n",
       "    </tr>\n",
       "    <tr>\n",
       "      <th>2</th>\n",
       "      <td>device_type_1</td>\n",
       "      <td>1.07</td>\n",
       "    </tr>\n",
       "    <tr>\n",
       "      <th>18</th>\n",
       "      <td>day_22</td>\n",
       "      <td>1.07</td>\n",
       "    </tr>\n",
       "    <tr>\n",
       "      <th>10</th>\n",
       "      <td>C16_250</td>\n",
       "      <td>1.05</td>\n",
       "    </tr>\n",
       "    <tr>\n",
       "      <th>7</th>\n",
       "      <td>C15_300</td>\n",
       "      <td>1.04</td>\n",
       "    </tr>\n",
       "    <tr>\n",
       "      <th>4</th>\n",
       "      <td>device_conn_type_3</td>\n",
       "      <td>1.02</td>\n",
       "    </tr>\n",
       "    <tr>\n",
       "      <th>42</th>\n",
       "      <td>hour_18</td>\n",
       "      <td>1.01</td>\n",
       "    </tr>\n",
       "    <tr>\n",
       "      <th>43</th>\n",
       "      <td>hour_19</td>\n",
       "      <td>1.01</td>\n",
       "    </tr>\n",
       "    <tr>\n",
       "      <th>36</th>\n",
       "      <td>hour_12</td>\n",
       "      <td>1.01</td>\n",
       "    </tr>\n",
       "    <tr>\n",
       "      <th>35</th>\n",
       "      <td>hour_11</td>\n",
       "      <td>1.01</td>\n",
       "    </tr>\n",
       "    <tr>\n",
       "      <th>30</th>\n",
       "      <td>hour_6</td>\n",
       "      <td>1.01</td>\n",
       "    </tr>\n",
       "    <tr>\n",
       "      <th>1</th>\n",
       "      <td>banner_pos_1</td>\n",
       "      <td>1.01</td>\n",
       "    </tr>\n",
       "    <tr>\n",
       "      <th>49</th>\n",
       "      <td>site_category_335d28a8</td>\n",
       "      <td>1.01</td>\n",
       "    </tr>\n",
       "    <tr>\n",
       "      <th>20</th>\n",
       "      <td>day_26</td>\n",
       "      <td>1.01</td>\n",
       "    </tr>\n",
       "    <tr>\n",
       "      <th>41</th>\n",
       "      <td>hour_17</td>\n",
       "      <td>1.01</td>\n",
       "    </tr>\n",
       "    <tr>\n",
       "      <th>3</th>\n",
       "      <td>device_conn_type_2</td>\n",
       "      <td>1.01</td>\n",
       "    </tr>\n",
       "    <tr>\n",
       "      <th>11</th>\n",
       "      <td>C18_1</td>\n",
       "      <td>1.01</td>\n",
       "    </tr>\n",
       "    <tr>\n",
       "      <th>57</th>\n",
       "      <td>app_category_cef3e649</td>\n",
       "      <td>1.01</td>\n",
       "    </tr>\n",
       "    <tr>\n",
       "      <th>19</th>\n",
       "      <td>day_23</td>\n",
       "      <td>1.01</td>\n",
       "    </tr>\n",
       "    <tr>\n",
       "      <th>56</th>\n",
       "      <td>app_category_8ded1f7a</td>\n",
       "      <td>1.01</td>\n",
       "    </tr>\n",
       "    <tr>\n",
       "      <th>17</th>\n",
       "      <td>dayofweek_5</td>\n",
       "      <td>1.01</td>\n",
       "    </tr>\n",
       "    <tr>\n",
       "      <th>21</th>\n",
       "      <td>day_27</td>\n",
       "      <td>1.01</td>\n",
       "    </tr>\n",
       "    <tr>\n",
       "      <th>45</th>\n",
       "      <td>hour_21</td>\n",
       "      <td>1.00</td>\n",
       "    </tr>\n",
       "    <tr>\n",
       "      <th>44</th>\n",
       "      <td>hour_20</td>\n",
       "      <td>1.00</td>\n",
       "    </tr>\n",
       "    <tr>\n",
       "      <th>53</th>\n",
       "      <td>site_category_f028772b</td>\n",
       "      <td>1.00</td>\n",
       "    </tr>\n",
       "    <tr>\n",
       "      <th>46</th>\n",
       "      <td>hour_22</td>\n",
       "      <td>1.00</td>\n",
       "    </tr>\n",
       "    <tr>\n",
       "      <th>54</th>\n",
       "      <td>site_category_f66779e6</td>\n",
       "      <td>1.00</td>\n",
       "    </tr>\n",
       "    <tr>\n",
       "      <th>48</th>\n",
       "      <td>site_category_28905ebd</td>\n",
       "      <td>1.00</td>\n",
       "    </tr>\n",
       "    <tr>\n",
       "      <th>50</th>\n",
       "      <td>site_category_3e814130</td>\n",
       "      <td>1.00</td>\n",
       "    </tr>\n",
       "    <tr>\n",
       "      <th>40</th>\n",
       "      <td>hour_16</td>\n",
       "      <td>1.00</td>\n",
       "    </tr>\n",
       "    <tr>\n",
       "      <th>52</th>\n",
       "      <td>site_category_75fa27f6</td>\n",
       "      <td>1.00</td>\n",
       "    </tr>\n",
       "    <tr>\n",
       "      <th>47</th>\n",
       "      <td>hour_23</td>\n",
       "      <td>1.00</td>\n",
       "    </tr>\n",
       "    <tr>\n",
       "      <th>29</th>\n",
       "      <td>hour_5</td>\n",
       "      <td>1.00</td>\n",
       "    </tr>\n",
       "    <tr>\n",
       "      <th>39</th>\n",
       "      <td>hour_15</td>\n",
       "      <td>1.00</td>\n",
       "    </tr>\n",
       "    <tr>\n",
       "      <th>38</th>\n",
       "      <td>hour_14</td>\n",
       "      <td>1.00</td>\n",
       "    </tr>\n",
       "    <tr>\n",
       "      <th>12</th>\n",
       "      <td>C18_2</td>\n",
       "      <td>1.00</td>\n",
       "    </tr>\n",
       "    <tr>\n",
       "      <th>13</th>\n",
       "      <td>C18_3</td>\n",
       "      <td>1.00</td>\n",
       "    </tr>\n",
       "    <tr>\n",
       "      <th>14</th>\n",
       "      <td>dayofweek_1</td>\n",
       "      <td>1.00</td>\n",
       "    </tr>\n",
       "    <tr>\n",
       "      <th>16</th>\n",
       "      <td>dayofweek_4</td>\n",
       "      <td>1.00</td>\n",
       "    </tr>\n",
       "    <tr>\n",
       "      <th>22</th>\n",
       "      <td>day_28</td>\n",
       "      <td>1.00</td>\n",
       "    </tr>\n",
       "    <tr>\n",
       "      <th>24</th>\n",
       "      <td>day_30</td>\n",
       "      <td>1.00</td>\n",
       "    </tr>\n",
       "    <tr>\n",
       "      <th>25</th>\n",
       "      <td>hour_1</td>\n",
       "      <td>1.00</td>\n",
       "    </tr>\n",
       "    <tr>\n",
       "      <th>26</th>\n",
       "      <td>hour_2</td>\n",
       "      <td>1.00</td>\n",
       "    </tr>\n",
       "    <tr>\n",
       "      <th>27</th>\n",
       "      <td>hour_3</td>\n",
       "      <td>1.00</td>\n",
       "    </tr>\n",
       "    <tr>\n",
       "      <th>28</th>\n",
       "      <td>hour_4</td>\n",
       "      <td>1.00</td>\n",
       "    </tr>\n",
       "    <tr>\n",
       "      <th>31</th>\n",
       "      <td>hour_7</td>\n",
       "      <td>1.00</td>\n",
       "    </tr>\n",
       "    <tr>\n",
       "      <th>32</th>\n",
       "      <td>hour_8</td>\n",
       "      <td>1.00</td>\n",
       "    </tr>\n",
       "    <tr>\n",
       "      <th>33</th>\n",
       "      <td>hour_9</td>\n",
       "      <td>1.00</td>\n",
       "    </tr>\n",
       "    <tr>\n",
       "      <th>34</th>\n",
       "      <td>hour_10</td>\n",
       "      <td>1.00</td>\n",
       "    </tr>\n",
       "    <tr>\n",
       "      <th>37</th>\n",
       "      <td>hour_13</td>\n",
       "      <td>1.00</td>\n",
       "    </tr>\n",
       "    <tr>\n",
       "      <th>58</th>\n",
       "      <td>app_category_f95efa07</td>\n",
       "      <td>1.00</td>\n",
       "    </tr>\n",
       "  </tbody>\n",
       "</table>\n",
       "</div>"
      ],
      "text/plain": [
       "                  Features    VIF\n",
       "0                    const  54.36\n",
       "6                  C1_1005   3.62\n",
       "5                  C1_1002   3.59\n",
       "15             dayofweek_2   1.40\n",
       "51  site_category_50e219e0   1.38\n",
       "9                   C16_50   1.36\n",
       "55   app_category_0f2161f8   1.36\n",
       "8                  C15_320   1.33\n",
       "23                  day_29   1.33\n",
       "2            device_type_1   1.07\n",
       "18                  day_22   1.07\n",
       "10                 C16_250   1.05\n",
       "7                  C15_300   1.04\n",
       "4       device_conn_type_3   1.02\n",
       "42                 hour_18   1.01\n",
       "43                 hour_19   1.01\n",
       "36                 hour_12   1.01\n",
       "35                 hour_11   1.01\n",
       "30                  hour_6   1.01\n",
       "1             banner_pos_1   1.01\n",
       "49  site_category_335d28a8   1.01\n",
       "20                  day_26   1.01\n",
       "41                 hour_17   1.01\n",
       "3       device_conn_type_2   1.01\n",
       "11                   C18_1   1.01\n",
       "57   app_category_cef3e649   1.01\n",
       "19                  day_23   1.01\n",
       "56   app_category_8ded1f7a   1.01\n",
       "17             dayofweek_5   1.01\n",
       "21                  day_27   1.01\n",
       "45                 hour_21   1.00\n",
       "44                 hour_20   1.00\n",
       "53  site_category_f028772b   1.00\n",
       "46                 hour_22   1.00\n",
       "54  site_category_f66779e6   1.00\n",
       "48  site_category_28905ebd   1.00\n",
       "50  site_category_3e814130   1.00\n",
       "40                 hour_16   1.00\n",
       "52  site_category_75fa27f6   1.00\n",
       "47                 hour_23   1.00\n",
       "29                  hour_5   1.00\n",
       "39                 hour_15   1.00\n",
       "38                 hour_14   1.00\n",
       "12                   C18_2   1.00\n",
       "13                   C18_3   1.00\n",
       "14             dayofweek_1   1.00\n",
       "16             dayofweek_4   1.00\n",
       "22                  day_28   1.00\n",
       "24                  day_30   1.00\n",
       "25                  hour_1   1.00\n",
       "26                  hour_2   1.00\n",
       "27                  hour_3   1.00\n",
       "28                  hour_4   1.00\n",
       "31                  hour_7   1.00\n",
       "32                  hour_8   1.00\n",
       "33                  hour_9   1.00\n",
       "34                 hour_10   1.00\n",
       "37                 hour_13   1.00\n",
       "58   app_category_f95efa07   1.00"
      ]
     },
     "execution_count": 105,
     "metadata": {},
     "output_type": "execute_result"
    }
   ],
   "source": [
    "checkVIF(X_train_new)"
   ]
  },
  {
   "cell_type": "markdown",
   "id": "47ad75b9",
   "metadata": {},
   "source": [
    "## Still C1_1005 have high VIF compared to average other features.We will drop it C1_1005"
   ]
  },
  {
   "cell_type": "code",
   "execution_count": 106,
   "id": "2c6e6897",
   "metadata": {},
   "outputs": [],
   "source": [
    "X_train_new = X_train_new.drop([\"C1_1005\"], axis = 1)"
   ]
  },
  {
   "cell_type": "code",
   "execution_count": 107,
   "id": "3f07f7d4",
   "metadata": {},
   "outputs": [
    {
     "name": "stdout",
     "output_type": "stream",
     "text": [
      "                            OLS Regression Results                            \n",
      "==============================================================================\n",
      "Dep. Variable:                      y   R-squared:                       0.112\n",
      "Model:                            OLS   Adj. R-squared:                  0.112\n",
      "Method:                 Least Squares   F-statistic:                     264.6\n",
      "Date:                Tue, 24 May 2022   Prob (F-statistic):               0.00\n",
      "Time:                        12:16:24   Log-Likelihood:                -79660.\n",
      "No. Observations:              119547   AIC:                         1.594e+05\n",
      "Df Residuals:                  119489   BIC:                         1.600e+05\n",
      "Df Model:                          57                                         \n",
      "Covariance Type:            nonrobust                                         \n",
      "==========================================================================================\n",
      "                             coef    std err          t      P>|t|      [0.025      0.975]\n",
      "------------------------------------------------------------------------------------------\n",
      "const                      0.5412      0.004    131.190      0.000       0.533       0.549\n",
      "banner_pos_1               0.0027      0.000     17.829      0.000       0.002       0.003\n",
      "device_type_1              0.0070      0.001      4.801      0.000       0.004       0.010\n",
      "device_conn_type_2         0.0026   7.44e-05     34.605      0.000       0.002       0.003\n",
      "device_conn_type_3         0.0017      0.000      9.041      0.000       0.001       0.002\n",
      "C1_1002                    0.0510      0.006      8.547      0.000       0.039       0.063\n",
      "C15_300                    0.0027      0.000     10.368      0.000       0.002       0.003\n",
      "C15_320                    0.0029      0.002      1.322      0.186      -0.001       0.007\n",
      "C16_50                    -0.1238      0.004    -28.265      0.000      -0.132      -0.115\n",
      "C16_250                    0.0024      0.001      3.077      0.002       0.001       0.004\n",
      "C18_1                      0.0023      0.000     12.141      0.000       0.002       0.003\n",
      "C18_2                      0.0032   8.14e-05     38.791      0.000       0.003       0.003\n",
      "C18_3                      0.0027   7.92e-05     34.000      0.000       0.003       0.003\n",
      "dayofweek_1                0.0013      0.001      1.819      0.069      -0.000       0.003\n",
      "dayofweek_2               -0.0031      0.001     -4.494      0.000      -0.004      -0.002\n",
      "dayofweek_4                0.0023      0.001      3.116      0.002       0.001       0.004\n",
      "dayofweek_5                0.0025      0.001      2.821      0.005       0.001       0.004\n",
      "day_22                     0.0025      0.001      4.527      0.000       0.001       0.004\n",
      "day_23                     0.0026      0.001      4.745      0.000       0.002       0.004\n",
      "day_26                     0.0027      0.001      2.628      0.009       0.001       0.005\n",
      "day_27                     0.0014      0.000      3.047      0.002       0.000       0.002\n",
      "day_28                     0.0030      0.000     16.949      0.000       0.003       0.003\n",
      "day_29                     0.0030      0.000      7.450      0.000       0.002       0.004\n",
      "day_30                     0.0022      0.000      4.930      0.000       0.001       0.003\n",
      "hour_1                     0.0028      0.000     16.768      0.000       0.002       0.003\n",
      "hour_2                     0.0030      0.000     17.306      0.000       0.003       0.003\n",
      "hour_3                     0.0030      0.000     17.144      0.000       0.003       0.003\n",
      "hour_4                     0.0029      0.000     17.908      0.000       0.003       0.003\n",
      "hour_5                     0.0028      0.000     16.872      0.000       0.003       0.003\n",
      "hour_6                     0.0030      0.000     17.705      0.000       0.003       0.003\n",
      "hour_7                     0.0030      0.000     17.548      0.000       0.003       0.003\n",
      "hour_8                     0.0029      0.000     17.357      0.000       0.003       0.003\n",
      "hour_9                     0.0030      0.000     18.042      0.000       0.003       0.003\n",
      "hour_10                    0.0030      0.000     18.826      0.000       0.003       0.003\n",
      "hour_11                    0.0029      0.000     17.107      0.000       0.003       0.003\n",
      "hour_12                    0.0030      0.000     18.082      0.000       0.003       0.003\n",
      "hour_13                    0.0030      0.000     17.483      0.000       0.003       0.003\n",
      "hour_14                    0.0031      0.000     18.371      0.000       0.003       0.003\n",
      "hour_15                    0.0031      0.000     16.918      0.000       0.003       0.003\n",
      "hour_16                    0.0030      0.000     17.081      0.000       0.003       0.003\n",
      "hour_17                    0.0030      0.000     18.498      0.000       0.003       0.003\n",
      "hour_18                    0.0028      0.000     17.302      0.000       0.003       0.003\n",
      "hour_19                    0.0028      0.000     17.617      0.000       0.002       0.003\n",
      "hour_20                    0.0029      0.000     18.279      0.000       0.003       0.003\n",
      "hour_21                    0.0030      0.000     16.891      0.000       0.003       0.003\n",
      "hour_22                    0.0030      0.000     18.364      0.000       0.003       0.003\n",
      "hour_23                    0.0030      0.000     16.743      0.000       0.003       0.003\n",
      "site_category_28905ebd     0.0031      0.000     11.394      0.000       0.003       0.004\n",
      "site_category_335d28a8     0.0021      0.000      5.655      0.000       0.001       0.003\n",
      "site_category_3e814130     0.0034      0.000     18.017      0.000       0.003       0.004\n",
      "site_category_50e219e0    -0.0016      0.000     -3.266      0.001      -0.003      -0.001\n",
      "site_category_75fa27f6     0.0032      0.000     10.588      0.000       0.003       0.004\n",
      "site_category_f028772b     0.0031      0.000     11.665      0.000       0.003       0.004\n",
      "site_category_f66779e6     0.0025      0.000      5.595      0.000       0.002       0.003\n",
      "app_category_0f2161f8      0.0013      0.000      2.855      0.004       0.000       0.002\n",
      "app_category_8ded1f7a      0.0027      0.000     10.414      0.000       0.002       0.003\n",
      "app_category_cef3e649      0.0023      0.000     10.548      0.000       0.002       0.003\n",
      "app_category_f95efa07      0.0035      0.000     12.852      0.000       0.003       0.004\n",
      "==============================================================================\n",
      "Omnibus:                     1444.102   Durbin-Watson:                   1.991\n",
      "Prob(Omnibus):                  0.000   Jarque-Bera (JB):             1492.364\n",
      "Skew:                           0.271   Prob(JB):                         0.00\n",
      "Kurtosis:                       2.923   Cond. No.                         82.2\n",
      "==============================================================================\n",
      "\n",
      "Notes:\n",
      "[1] Standard Errors assume that the covariance matrix of the errors is correctly specified.\n"
     ]
    }
   ],
   "source": [
    "X_train_new = build_model(X_train_new,Ytrain_sm)"
   ]
  },
  {
   "cell_type": "markdown",
   "id": "0fd2fe44",
   "metadata": {},
   "source": [
    "## P-value for C15_320 is high, Hence we will drop \"C15_320\""
   ]
  },
  {
   "cell_type": "code",
   "execution_count": 108,
   "id": "9e1f1d68",
   "metadata": {},
   "outputs": [],
   "source": [
    "X_train_new = X_train_new.drop([\"C15_320\"], axis = 1)"
   ]
  },
  {
   "cell_type": "code",
   "execution_count": 109,
   "id": "b582f46c",
   "metadata": {},
   "outputs": [
    {
     "name": "stdout",
     "output_type": "stream",
     "text": [
      "                            OLS Regression Results                            \n",
      "==============================================================================\n",
      "Dep. Variable:                      y   R-squared:                       0.112\n",
      "Model:                            OLS   Adj. R-squared:                  0.112\n",
      "Method:                 Least Squares   F-statistic:                     269.3\n",
      "Date:                Tue, 24 May 2022   Prob (F-statistic):               0.00\n",
      "Time:                        12:16:25   Log-Likelihood:                -79661.\n",
      "No. Observations:              119547   AIC:                         1.594e+05\n",
      "Df Residuals:                  119490   BIC:                         1.600e+05\n",
      "Df Model:                          56                                         \n",
      "Covariance Type:            nonrobust                                         \n",
      "==========================================================================================\n",
      "                             coef    std err          t      P>|t|      [0.025      0.975]\n",
      "------------------------------------------------------------------------------------------\n",
      "const                      0.5413      0.004    131.248      0.000       0.533       0.549\n",
      "banner_pos_1               0.0027      0.000     17.829      0.000       0.002       0.003\n",
      "device_type_1              0.0070      0.001      4.793      0.000       0.004       0.010\n",
      "device_conn_type_2         0.0026   7.44e-05     34.604      0.000       0.002       0.003\n",
      "device_conn_type_3         0.0017      0.000      9.045      0.000       0.001       0.002\n",
      "C1_1002                    0.0507      0.006      8.502      0.000       0.039       0.062\n",
      "C15_300                    0.0027      0.000     10.314      0.000       0.002       0.003\n",
      "C16_50                    -0.1210      0.004    -31.616      0.000      -0.128      -0.113\n",
      "C16_250                    0.0024      0.001      3.081      0.002       0.001       0.004\n",
      "C18_1                      0.0023      0.000     12.141      0.000       0.002       0.003\n",
      "C18_2                      0.0032   8.14e-05     38.794      0.000       0.003       0.003\n",
      "C18_3                      0.0027   7.92e-05     33.999      0.000       0.003       0.003\n",
      "dayofweek_1                0.0013      0.001      1.820      0.069      -0.000       0.003\n",
      "dayofweek_2               -0.0030      0.001     -4.484      0.000      -0.004      -0.002\n",
      "dayofweek_4                0.0023      0.001      3.116      0.002       0.001       0.004\n",
      "dayofweek_5                0.0025      0.001      2.826      0.005       0.001       0.004\n",
      "day_22                     0.0025      0.001      4.525      0.000       0.001       0.004\n",
      "day_23                     0.0026      0.001      4.754      0.000       0.002       0.004\n",
      "day_26                     0.0027      0.001      2.634      0.008       0.001       0.005\n",
      "day_27                     0.0014      0.000      3.048      0.002       0.000       0.002\n",
      "day_28                     0.0030      0.000     16.951      0.000       0.003       0.003\n",
      "day_29                     0.0030      0.000      7.449      0.000       0.002       0.004\n",
      "day_30                     0.0022      0.000      4.929      0.000       0.001       0.003\n",
      "hour_1                     0.0028      0.000     16.767      0.000       0.002       0.003\n",
      "hour_2                     0.0030      0.000     17.303      0.000       0.003       0.003\n",
      "hour_3                     0.0030      0.000     17.143      0.000       0.003       0.003\n",
      "hour_4                     0.0029      0.000     17.905      0.000       0.003       0.003\n",
      "hour_5                     0.0028      0.000     16.868      0.000       0.003       0.003\n",
      "hour_6                     0.0030      0.000     17.846      0.000       0.003       0.003\n",
      "hour_7                     0.0030      0.000     17.549      0.000       0.003       0.003\n",
      "hour_8                     0.0029      0.000     17.354      0.000       0.003       0.003\n",
      "hour_9                     0.0030      0.000     18.039      0.000       0.003       0.003\n",
      "hour_10                    0.0030      0.000     18.825      0.000       0.003       0.003\n",
      "hour_11                    0.0029      0.000     17.104      0.000       0.003       0.003\n",
      "hour_12                    0.0030      0.000     18.080      0.000       0.003       0.003\n",
      "hour_13                    0.0030      0.000     17.480      0.000       0.003       0.003\n",
      "hour_14                    0.0031      0.000     18.364      0.000       0.003       0.003\n",
      "hour_15                    0.0031      0.000     16.915      0.000       0.003       0.003\n",
      "hour_16                    0.0030      0.000     17.078      0.000       0.003       0.003\n",
      "hour_17                    0.0030      0.000     18.495      0.000       0.003       0.003\n",
      "hour_18                    0.0028      0.000     17.299      0.000       0.003       0.003\n",
      "hour_19                    0.0028      0.000     17.617      0.000       0.002       0.003\n",
      "hour_20                    0.0029      0.000     18.277      0.000       0.003       0.003\n",
      "hour_21                    0.0030      0.000     16.893      0.000       0.003       0.003\n",
      "hour_22                    0.0030      0.000     18.364      0.000       0.003       0.003\n",
      "hour_23                    0.0030      0.000     16.742      0.000       0.003       0.003\n",
      "site_category_28905ebd     0.0031      0.000     11.393      0.000       0.003       0.004\n",
      "site_category_335d28a8     0.0021      0.000      5.656      0.000       0.001       0.003\n",
      "site_category_3e814130     0.0034      0.000     18.017      0.000       0.003       0.004\n",
      "site_category_50e219e0    -0.0016      0.000     -3.265      0.001      -0.003      -0.001\n",
      "site_category_75fa27f6     0.0032      0.000     10.589      0.000       0.003       0.004\n",
      "site_category_f028772b     0.0031      0.000     11.664      0.000       0.003       0.004\n",
      "site_category_f66779e6     0.0025      0.000      5.595      0.000       0.002       0.003\n",
      "app_category_0f2161f8      0.0012      0.000      2.854      0.004       0.000       0.002\n",
      "app_category_8ded1f7a      0.0027      0.000     10.414      0.000       0.002       0.003\n",
      "app_category_cef3e649      0.0023      0.000     10.547      0.000       0.002       0.003\n",
      "app_category_f95efa07      0.0035      0.000     12.850      0.000       0.003       0.004\n",
      "==============================================================================\n",
      "Omnibus:                     1441.004   Durbin-Watson:                   1.991\n",
      "Prob(Omnibus):                  0.000   Jarque-Bera (JB):             1490.065\n",
      "Skew:                           0.271   Prob(JB):                         0.00\n",
      "Kurtosis:                       2.930   Cond. No.                         82.2\n",
      "==============================================================================\n",
      "\n",
      "Notes:\n",
      "[1] Standard Errors assume that the covariance matrix of the errors is correctly specified.\n"
     ]
    }
   ],
   "source": [
    "X_train_new = build_model(X_train_new,Ytrain_sm)"
   ]
  },
  {
   "cell_type": "code",
   "execution_count": 110,
   "id": "417ec419",
   "metadata": {},
   "outputs": [
    {
     "data": {
      "text/html": [
       "<div>\n",
       "<style scoped>\n",
       "    .dataframe tbody tr th:only-of-type {\n",
       "        vertical-align: middle;\n",
       "    }\n",
       "\n",
       "    .dataframe tbody tr th {\n",
       "        vertical-align: top;\n",
       "    }\n",
       "\n",
       "    .dataframe thead th {\n",
       "        text-align: right;\n",
       "    }\n",
       "</style>\n",
       "<table border=\"1\" class=\"dataframe\">\n",
       "  <thead>\n",
       "    <tr style=\"text-align: right;\">\n",
       "      <th></th>\n",
       "      <th>Features</th>\n",
       "      <th>VIF</th>\n",
       "    </tr>\n",
       "  </thead>\n",
       "  <tbody>\n",
       "    <tr>\n",
       "      <th>0</th>\n",
       "      <td>const</td>\n",
       "      <td>9.16</td>\n",
       "    </tr>\n",
       "    <tr>\n",
       "      <th>13</th>\n",
       "      <td>dayofweek_2</td>\n",
       "      <td>1.40</td>\n",
       "    </tr>\n",
       "    <tr>\n",
       "      <th>49</th>\n",
       "      <td>site_category_50e219e0</td>\n",
       "      <td>1.38</td>\n",
       "    </tr>\n",
       "    <tr>\n",
       "      <th>53</th>\n",
       "      <td>app_category_0f2161f8</td>\n",
       "      <td>1.36</td>\n",
       "    </tr>\n",
       "    <tr>\n",
       "      <th>21</th>\n",
       "      <td>day_29</td>\n",
       "      <td>1.33</td>\n",
       "    </tr>\n",
       "    <tr>\n",
       "      <th>5</th>\n",
       "      <td>C1_1002</td>\n",
       "      <td>1.09</td>\n",
       "    </tr>\n",
       "    <tr>\n",
       "      <th>16</th>\n",
       "      <td>day_22</td>\n",
       "      <td>1.07</td>\n",
       "    </tr>\n",
       "    <tr>\n",
       "      <th>2</th>\n",
       "      <td>device_type_1</td>\n",
       "      <td>1.06</td>\n",
       "    </tr>\n",
       "    <tr>\n",
       "      <th>8</th>\n",
       "      <td>C16_250</td>\n",
       "      <td>1.05</td>\n",
       "    </tr>\n",
       "    <tr>\n",
       "      <th>6</th>\n",
       "      <td>C15_300</td>\n",
       "      <td>1.04</td>\n",
       "    </tr>\n",
       "    <tr>\n",
       "      <th>7</th>\n",
       "      <td>C16_50</td>\n",
       "      <td>1.04</td>\n",
       "    </tr>\n",
       "    <tr>\n",
       "      <th>4</th>\n",
       "      <td>device_conn_type_3</td>\n",
       "      <td>1.02</td>\n",
       "    </tr>\n",
       "    <tr>\n",
       "      <th>39</th>\n",
       "      <td>hour_17</td>\n",
       "      <td>1.01</td>\n",
       "    </tr>\n",
       "    <tr>\n",
       "      <th>41</th>\n",
       "      <td>hour_19</td>\n",
       "      <td>1.01</td>\n",
       "    </tr>\n",
       "    <tr>\n",
       "      <th>47</th>\n",
       "      <td>site_category_335d28a8</td>\n",
       "      <td>1.01</td>\n",
       "    </tr>\n",
       "    <tr>\n",
       "      <th>40</th>\n",
       "      <td>hour_18</td>\n",
       "      <td>1.01</td>\n",
       "    </tr>\n",
       "    <tr>\n",
       "      <th>19</th>\n",
       "      <td>day_27</td>\n",
       "      <td>1.01</td>\n",
       "    </tr>\n",
       "    <tr>\n",
       "      <th>34</th>\n",
       "      <td>hour_12</td>\n",
       "      <td>1.01</td>\n",
       "    </tr>\n",
       "    <tr>\n",
       "      <th>17</th>\n",
       "      <td>day_23</td>\n",
       "      <td>1.01</td>\n",
       "    </tr>\n",
       "    <tr>\n",
       "      <th>33</th>\n",
       "      <td>hour_11</td>\n",
       "      <td>1.01</td>\n",
       "    </tr>\n",
       "    <tr>\n",
       "      <th>3</th>\n",
       "      <td>device_conn_type_2</td>\n",
       "      <td>1.01</td>\n",
       "    </tr>\n",
       "    <tr>\n",
       "      <th>54</th>\n",
       "      <td>app_category_8ded1f7a</td>\n",
       "      <td>1.01</td>\n",
       "    </tr>\n",
       "    <tr>\n",
       "      <th>55</th>\n",
       "      <td>app_category_cef3e649</td>\n",
       "      <td>1.01</td>\n",
       "    </tr>\n",
       "    <tr>\n",
       "      <th>9</th>\n",
       "      <td>C18_1</td>\n",
       "      <td>1.01</td>\n",
       "    </tr>\n",
       "    <tr>\n",
       "      <th>1</th>\n",
       "      <td>banner_pos_1</td>\n",
       "      <td>1.01</td>\n",
       "    </tr>\n",
       "    <tr>\n",
       "      <th>43</th>\n",
       "      <td>hour_21</td>\n",
       "      <td>1.00</td>\n",
       "    </tr>\n",
       "    <tr>\n",
       "      <th>42</th>\n",
       "      <td>hour_20</td>\n",
       "      <td>1.00</td>\n",
       "    </tr>\n",
       "    <tr>\n",
       "      <th>50</th>\n",
       "      <td>site_category_75fa27f6</td>\n",
       "      <td>1.00</td>\n",
       "    </tr>\n",
       "    <tr>\n",
       "      <th>44</th>\n",
       "      <td>hour_22</td>\n",
       "      <td>1.00</td>\n",
       "    </tr>\n",
       "    <tr>\n",
       "      <th>45</th>\n",
       "      <td>hour_23</td>\n",
       "      <td>1.00</td>\n",
       "    </tr>\n",
       "    <tr>\n",
       "      <th>46</th>\n",
       "      <td>site_category_28905ebd</td>\n",
       "      <td>1.00</td>\n",
       "    </tr>\n",
       "    <tr>\n",
       "      <th>48</th>\n",
       "      <td>site_category_3e814130</td>\n",
       "      <td>1.00</td>\n",
       "    </tr>\n",
       "    <tr>\n",
       "      <th>37</th>\n",
       "      <td>hour_15</td>\n",
       "      <td>1.00</td>\n",
       "    </tr>\n",
       "    <tr>\n",
       "      <th>51</th>\n",
       "      <td>site_category_f028772b</td>\n",
       "      <td>1.00</td>\n",
       "    </tr>\n",
       "    <tr>\n",
       "      <th>52</th>\n",
       "      <td>site_category_f66779e6</td>\n",
       "      <td>1.00</td>\n",
       "    </tr>\n",
       "    <tr>\n",
       "      <th>38</th>\n",
       "      <td>hour_16</td>\n",
       "      <td>1.00</td>\n",
       "    </tr>\n",
       "    <tr>\n",
       "      <th>28</th>\n",
       "      <td>hour_6</td>\n",
       "      <td>1.00</td>\n",
       "    </tr>\n",
       "    <tr>\n",
       "      <th>36</th>\n",
       "      <td>hour_14</td>\n",
       "      <td>1.00</td>\n",
       "    </tr>\n",
       "    <tr>\n",
       "      <th>35</th>\n",
       "      <td>hour_13</td>\n",
       "      <td>1.00</td>\n",
       "    </tr>\n",
       "    <tr>\n",
       "      <th>10</th>\n",
       "      <td>C18_2</td>\n",
       "      <td>1.00</td>\n",
       "    </tr>\n",
       "    <tr>\n",
       "      <th>11</th>\n",
       "      <td>C18_3</td>\n",
       "      <td>1.00</td>\n",
       "    </tr>\n",
       "    <tr>\n",
       "      <th>12</th>\n",
       "      <td>dayofweek_1</td>\n",
       "      <td>1.00</td>\n",
       "    </tr>\n",
       "    <tr>\n",
       "      <th>14</th>\n",
       "      <td>dayofweek_4</td>\n",
       "      <td>1.00</td>\n",
       "    </tr>\n",
       "    <tr>\n",
       "      <th>15</th>\n",
       "      <td>dayofweek_5</td>\n",
       "      <td>1.00</td>\n",
       "    </tr>\n",
       "    <tr>\n",
       "      <th>18</th>\n",
       "      <td>day_26</td>\n",
       "      <td>1.00</td>\n",
       "    </tr>\n",
       "    <tr>\n",
       "      <th>20</th>\n",
       "      <td>day_28</td>\n",
       "      <td>1.00</td>\n",
       "    </tr>\n",
       "    <tr>\n",
       "      <th>22</th>\n",
       "      <td>day_30</td>\n",
       "      <td>1.00</td>\n",
       "    </tr>\n",
       "    <tr>\n",
       "      <th>23</th>\n",
       "      <td>hour_1</td>\n",
       "      <td>1.00</td>\n",
       "    </tr>\n",
       "    <tr>\n",
       "      <th>24</th>\n",
       "      <td>hour_2</td>\n",
       "      <td>1.00</td>\n",
       "    </tr>\n",
       "    <tr>\n",
       "      <th>25</th>\n",
       "      <td>hour_3</td>\n",
       "      <td>1.00</td>\n",
       "    </tr>\n",
       "    <tr>\n",
       "      <th>26</th>\n",
       "      <td>hour_4</td>\n",
       "      <td>1.00</td>\n",
       "    </tr>\n",
       "    <tr>\n",
       "      <th>27</th>\n",
       "      <td>hour_5</td>\n",
       "      <td>1.00</td>\n",
       "    </tr>\n",
       "    <tr>\n",
       "      <th>29</th>\n",
       "      <td>hour_7</td>\n",
       "      <td>1.00</td>\n",
       "    </tr>\n",
       "    <tr>\n",
       "      <th>30</th>\n",
       "      <td>hour_8</td>\n",
       "      <td>1.00</td>\n",
       "    </tr>\n",
       "    <tr>\n",
       "      <th>31</th>\n",
       "      <td>hour_9</td>\n",
       "      <td>1.00</td>\n",
       "    </tr>\n",
       "    <tr>\n",
       "      <th>32</th>\n",
       "      <td>hour_10</td>\n",
       "      <td>1.00</td>\n",
       "    </tr>\n",
       "    <tr>\n",
       "      <th>56</th>\n",
       "      <td>app_category_f95efa07</td>\n",
       "      <td>1.00</td>\n",
       "    </tr>\n",
       "  </tbody>\n",
       "</table>\n",
       "</div>"
      ],
      "text/plain": [
       "                  Features   VIF\n",
       "0                    const  9.16\n",
       "13             dayofweek_2  1.40\n",
       "49  site_category_50e219e0  1.38\n",
       "53   app_category_0f2161f8  1.36\n",
       "21                  day_29  1.33\n",
       "5                  C1_1002  1.09\n",
       "16                  day_22  1.07\n",
       "2            device_type_1  1.06\n",
       "8                  C16_250  1.05\n",
       "6                  C15_300  1.04\n",
       "7                   C16_50  1.04\n",
       "4       device_conn_type_3  1.02\n",
       "39                 hour_17  1.01\n",
       "41                 hour_19  1.01\n",
       "47  site_category_335d28a8  1.01\n",
       "40                 hour_18  1.01\n",
       "19                  day_27  1.01\n",
       "34                 hour_12  1.01\n",
       "17                  day_23  1.01\n",
       "33                 hour_11  1.01\n",
       "3       device_conn_type_2  1.01\n",
       "54   app_category_8ded1f7a  1.01\n",
       "55   app_category_cef3e649  1.01\n",
       "9                    C18_1  1.01\n",
       "1             banner_pos_1  1.01\n",
       "43                 hour_21  1.00\n",
       "42                 hour_20  1.00\n",
       "50  site_category_75fa27f6  1.00\n",
       "44                 hour_22  1.00\n",
       "45                 hour_23  1.00\n",
       "46  site_category_28905ebd  1.00\n",
       "48  site_category_3e814130  1.00\n",
       "37                 hour_15  1.00\n",
       "51  site_category_f028772b  1.00\n",
       "52  site_category_f66779e6  1.00\n",
       "38                 hour_16  1.00\n",
       "28                  hour_6  1.00\n",
       "36                 hour_14  1.00\n",
       "35                 hour_13  1.00\n",
       "10                   C18_2  1.00\n",
       "11                   C18_3  1.00\n",
       "12             dayofweek_1  1.00\n",
       "14             dayofweek_4  1.00\n",
       "15             dayofweek_5  1.00\n",
       "18                  day_26  1.00\n",
       "20                  day_28  1.00\n",
       "22                  day_30  1.00\n",
       "23                  hour_1  1.00\n",
       "24                  hour_2  1.00\n",
       "25                  hour_3  1.00\n",
       "26                  hour_4  1.00\n",
       "27                  hour_5  1.00\n",
       "29                  hour_7  1.00\n",
       "30                  hour_8  1.00\n",
       "31                  hour_9  1.00\n",
       "32                 hour_10  1.00\n",
       "56   app_category_f95efa07  1.00"
      ]
     },
     "execution_count": 110,
     "metadata": {},
     "output_type": "execute_result"
    }
   ],
   "source": [
    "checkVIF(X_train_new)"
   ]
  },
  {
   "cell_type": "code",
   "execution_count": 111,
   "id": "dc2d927e",
   "metadata": {},
   "outputs": [],
   "source": [
    "X_train_new = X_train_new.drop([\"const\"], axis = 1)"
   ]
  },
  {
   "cell_type": "markdown",
   "id": "ef6d65bf",
   "metadata": {},
   "source": [
    "## Now for all features both P-values and VIF's look good. Lets proceed with model building by applying these features"
   ]
  },
  {
   "cell_type": "code",
   "execution_count": 112,
   "id": "5b5d9f9c",
   "metadata": {},
   "outputs": [
    {
     "data": {
      "text/plain": [
       "(119547, 56)"
      ]
     },
     "execution_count": 112,
     "metadata": {},
     "output_type": "execute_result"
    }
   ],
   "source": [
    "X_train_new.shape"
   ]
  },
  {
   "cell_type": "code",
   "execution_count": 113,
   "id": "cad9af2e",
   "metadata": {},
   "outputs": [
    {
     "data": {
      "text/plain": [
       "Index(['banner_pos_1', 'device_type_1', 'device_conn_type_2',\n",
       "       'device_conn_type_3', 'C1_1002', 'C15_300', 'C16_50', 'C16_250',\n",
       "       'C18_1', 'C18_2', 'C18_3', 'dayofweek_1', 'dayofweek_2', 'dayofweek_4',\n",
       "       'dayofweek_5', 'day_22', 'day_23', 'day_26', 'day_27', 'day_28',\n",
       "       'day_29', 'day_30', 'hour_1', 'hour_2', 'hour_3', 'hour_4', 'hour_5',\n",
       "       'hour_6', 'hour_7', 'hour_8', 'hour_9', 'hour_10', 'hour_11', 'hour_12',\n",
       "       'hour_13', 'hour_14', 'hour_15', 'hour_16', 'hour_17', 'hour_18',\n",
       "       'hour_19', 'hour_20', 'hour_21', 'hour_22', 'hour_23',\n",
       "       'site_category_28905ebd', 'site_category_335d28a8',\n",
       "       'site_category_3e814130', 'site_category_50e219e0',\n",
       "       'site_category_75fa27f6', 'site_category_f028772b',\n",
       "       'site_category_f66779e6', 'app_category_0f2161f8',\n",
       "       'app_category_8ded1f7a', 'app_category_cef3e649',\n",
       "       'app_category_f95efa07'],\n",
       "      dtype='object')"
      ]
     },
     "execution_count": 113,
     "metadata": {},
     "output_type": "execute_result"
    }
   ],
   "source": [
    "X_train_new.columns"
   ]
  },
  {
   "cell_type": "markdown",
   "id": "6e1680d7",
   "metadata": {},
   "source": [
    "## Post RFECV and then performing P-val and VIF analysis, to select best features we have 56 features selected."
   ]
  },
  {
   "cell_type": "markdown",
   "id": "c7f45f15",
   "metadata": {},
   "source": [
    "### Preparation X_train_final , Xcv_final and X_test_final"
   ]
  },
  {
   "cell_type": "code",
   "execution_count": 114,
   "id": "d52696cc",
   "metadata": {},
   "outputs": [
    {
     "data": {
      "text/plain": [
       "(119547, 56)"
      ]
     },
     "execution_count": 114,
     "metadata": {},
     "output_type": "execute_result"
    }
   ],
   "source": [
    "X_train_final = X_train_new.copy(deep=True)\n",
    "X_train_final.shape"
   ]
  },
  {
   "cell_type": "code",
   "execution_count": 115,
   "id": "8d10c260",
   "metadata": {},
   "outputs": [
    {
     "data": {
      "text/plain": [
       "(13283, 56)"
      ]
     },
     "execution_count": 115,
     "metadata": {},
     "output_type": "execute_result"
    }
   ],
   "source": [
    "Xcv_final = Xcv_sm.loc[:,['banner_pos_1', 'device_type_1', 'device_conn_type_2',\n",
    "       'device_conn_type_3', 'C1_1002', 'C15_300', 'C16_50', 'C16_250',\n",
    "       'C18_1', 'C18_2', 'C18_3', 'dayofweek_1', 'dayofweek_2', 'dayofweek_4',\n",
    "       'dayofweek_5', 'day_22', 'day_23', 'day_26', 'day_27', 'day_28',\n",
    "       'day_29', 'day_30', 'hour_1', 'hour_2', 'hour_3', 'hour_4', 'hour_5',\n",
    "       'hour_6', 'hour_7', 'hour_8', 'hour_9', 'hour_10', 'hour_11', 'hour_12',\n",
    "       'hour_13', 'hour_14', 'hour_15', 'hour_16', 'hour_17', 'hour_18',\n",
    "       'hour_19', 'hour_20', 'hour_21', 'hour_22', 'hour_23',\n",
    "       'site_category_28905ebd', 'site_category_335d28a8',\n",
    "       'site_category_3e814130', 'site_category_50e219e0',\n",
    "       'site_category_75fa27f6', 'site_category_f028772b',\n",
    "       'site_category_f66779e6', 'app_category_0f2161f8',\n",
    "       'app_category_8ded1f7a', 'app_category_cef3e649',\n",
    "       'app_category_f95efa07']]\n",
    "Xcv_final.shape"
   ]
  },
  {
   "cell_type": "code",
   "execution_count": 116,
   "id": "660d9c92",
   "metadata": {},
   "outputs": [
    {
     "data": {
      "text/plain": [
       "(33208, 56)"
      ]
     },
     "execution_count": 116,
     "metadata": {},
     "output_type": "execute_result"
    }
   ],
   "source": [
    "X_test_final = X_test_sm.loc[:,['banner_pos_1', 'device_type_1', 'device_conn_type_2',\n",
    "       'device_conn_type_3', 'C1_1002', 'C15_300', 'C16_50', 'C16_250',\n",
    "       'C18_1', 'C18_2', 'C18_3', 'dayofweek_1', 'dayofweek_2', 'dayofweek_4',\n",
    "       'dayofweek_5', 'day_22', 'day_23', 'day_26', 'day_27', 'day_28',\n",
    "       'day_29', 'day_30', 'hour_1', 'hour_2', 'hour_3', 'hour_4', 'hour_5',\n",
    "       'hour_6', 'hour_7', 'hour_8', 'hour_9', 'hour_10', 'hour_11', 'hour_12',\n",
    "       'hour_13', 'hour_14', 'hour_15', 'hour_16', 'hour_17', 'hour_18',\n",
    "       'hour_19', 'hour_20', 'hour_21', 'hour_22', 'hour_23',\n",
    "       'site_category_28905ebd', 'site_category_335d28a8',\n",
    "       'site_category_3e814130', 'site_category_50e219e0',\n",
    "       'site_category_75fa27f6', 'site_category_f028772b',\n",
    "       'site_category_f66779e6', 'app_category_0f2161f8',\n",
    "       'app_category_8ded1f7a', 'app_category_cef3e649',\n",
    "       'app_category_f95efa07']]\n",
    "X_test_final.shape"
   ]
  },
  {
   "cell_type": "markdown",
   "id": "abcc9806",
   "metadata": {},
   "source": [
    "## Final Datasets"
   ]
  },
  {
   "cell_type": "code",
   "execution_count": 117,
   "id": "51b3b47c",
   "metadata": {},
   "outputs": [
    {
     "name": "stdout",
     "output_type": "stream",
     "text": [
      "(119547, 56)\n",
      "(119547, 1)\n"
     ]
    }
   ],
   "source": [
    "# Final Train Dataset\n",
    "print(X_train_final.shape)\n",
    "print(Ytrain_sm.shape)"
   ]
  },
  {
   "cell_type": "code",
   "execution_count": 118,
   "id": "92a5c661",
   "metadata": {},
   "outputs": [
    {
     "name": "stdout",
     "output_type": "stream",
     "text": [
      "(13283, 56)\n",
      "(13283, 1)\n"
     ]
    }
   ],
   "source": [
    "# Final validation Dataset\n",
    "print(Xcv_final.shape)\n",
    "print(Ycv_sm.shape)"
   ]
  },
  {
   "cell_type": "code",
   "execution_count": 119,
   "id": "d0ad7713",
   "metadata": {},
   "outputs": [
    {
     "name": "stdout",
     "output_type": "stream",
     "text": [
      "(33208, 56)\n",
      "(33208, 1)\n"
     ]
    }
   ],
   "source": [
    "# Final Test Dataset\n",
    "print(X_test_final.shape)\n",
    "print(y_test_sm.shape)"
   ]
  },
  {
   "cell_type": "markdown",
   "id": "c1494c75",
   "metadata": {},
   "source": [
    "# Re-Building the Models using the calculated Hyperparameters and Features selected using RFECV techniques\n",
    "\n",
    "> ### Hyperparameters \n",
    ">> #### max_depth = 46\n",
    ">> #### min_samples_leaf=10"
   ]
  },
  {
   "cell_type": "markdown",
   "id": "b99907e5",
   "metadata": {},
   "source": [
    "# Model_1 : LogisticRegression using Lasso"
   ]
  },
  {
   "cell_type": "code",
   "execution_count": 120,
   "id": "b26a61de",
   "metadata": {},
   "outputs": [
    {
     "name": "stdout",
     "output_type": "stream",
     "text": [
      "Accuracy :  0.746055167429535\n",
      "ROC_AUC Score: 0.8318527476610054\n"
     ]
    }
   ],
   "source": [
    "# Model Building\n",
    "LR_model=LogisticRegression(penalty='l1',solver='liblinear',random_state=42)\n",
    "LR_model=LR_model.fit(X_train_final,Ytrain_sm)\n",
    "y_pred=LR_model.predict(X_test_final)\n",
    "lr_probability =LR_model.predict_proba(X_test_final)[:,1]\n",
    "\n",
    "\n",
    "acc_lr_final=accuracy_score(y_test_sm,y_pred)\n",
    "recall_lr_final=recall_score(y_test_sm,y_pred)\n",
    "precision_lr_final=precision_score(y_test_sm,y_pred)\n",
    "f1score_lr_final=f1_score(y_test_sm,y_pred)\n",
    "AUC_LR_final=roc_auc_score(y_test_sm, LR_model.predict_proba(X_test_final)[:, 1])\n",
    "\n",
    "#print accuracy and Auc values of model\n",
    "print(\"Accuracy : \", accuracy_score(y_test_sm,y_pred))\n",
    "print(\"ROC_AUC Score:\",AUC_LR_final)"
   ]
  },
  {
   "cell_type": "code",
   "execution_count": 121,
   "id": "ad67a422",
   "metadata": {},
   "outputs": [
    {
     "name": "stdout",
     "output_type": "stream",
     "text": [
      "Accuracy score for validation dataset is: 0.6677708349017542\n"
     ]
    }
   ],
   "source": [
    "# Validation data set accuracy\n",
    "Ycv_pred = LR_model.predict(Xcv_final)\n",
    "acc_lr_val_final = accuracy_score(Ycv_sm, Ycv_pred)\n",
    "print('Accuracy score for validation dataset is:',acc_lr_val_final)"
   ]
  },
  {
   "cell_type": "code",
   "execution_count": 122,
   "id": "e84fe140",
   "metadata": {},
   "outputs": [
    {
     "name": "stdout",
     "output_type": "stream",
     "text": [
      "Cross Validation score for Logistic Regression using Lasso: 0.6726977832912711\n"
     ]
    }
   ],
   "source": [
    "lr_cv_acc_final = cross_val_score(LR_model, X_train_final, Ytrain_sm, cv=cv, scoring='accuracy').mean()\n",
    "print(\"Cross Validation score for Logistic Regression using Lasso:\", lr_cv_acc_final)"
   ]
  },
  {
   "cell_type": "code",
   "execution_count": 123,
   "id": "94b35bf5",
   "metadata": {},
   "outputs": [
    {
     "name": "stdout",
     "output_type": "stream",
     "text": [
      "[[13352  3252]\n",
      " [ 5181 11423]]\n"
     ]
    },
    {
     "data": {
      "image/png": "[encoded data removed]",
      "text/plain": [
       "<Figure size 432x288 with 2 Axes>"
      ]
     },
     "metadata": {
      "needs_background": "light"
     },
     "output_type": "display_data"
    }
   ],
   "source": [
    "# Plot and print confusion matrix\n",
    "cnf_matrix = metrics.confusion_matrix(y_test_sm, y_pred)\n",
    "print(cnf_matrix)\n",
    "metrics.plot_confusion_matrix(LR_model, X_test_final, y_test_sm)\n",
    "plt.show()"
   ]
  },
  {
   "cell_type": "code",
   "execution_count": 124,
   "id": "8a3694ec",
   "metadata": {},
   "outputs": [
    {
     "data": {
      "image/png": "[encoded data removed]",
      "text/plain": [
       "<Figure size 432x288 with 1 Axes>"
      ]
     },
     "metadata": {
      "needs_background": "light"
     },
     "output_type": "display_data"
    }
   ],
   "source": [
    "fpr, tpr,_ = roc_curve(y_test_sm, lr_probability,)\n",
    "plt.title('Logistic Regression ROC curve')\n",
    "plt.xlabel('FPR (Precision)')\n",
    "plt.ylabel('TPR (Recall)')\n",
    "plt.plot(fpr,tpr)\n",
    "plt.plot((0,1), ls='dashed',color='black')\n",
    "plt.show()"
   ]
  },
  {
   "cell_type": "code",
   "execution_count": 125,
   "id": "896f49aa",
   "metadata": {},
   "outputs": [
    {
     "name": "stdout",
     "output_type": "stream",
     "text": [
      "              precision    recall  f1-score   support\n",
      "\n",
      "           0       0.72      0.80      0.76     16604\n",
      "           1       0.78      0.69      0.73     16604\n",
      "\n",
      "    accuracy                           0.75     33208\n",
      "   macro avg       0.75      0.75      0.75     33208\n",
      "weighted avg       0.75      0.75      0.75     33208\n",
      "\n"
     ]
    }
   ],
   "source": [
    "print(classification_report(y_test_sm, y_pred))"
   ]
  },
  {
   "cell_type": "markdown",
   "id": "148fdbd9",
   "metadata": {},
   "source": [
    "# Model_2: Random Forest"
   ]
  },
  {
   "cell_type": "code",
   "execution_count": 126,
   "id": "f0a1560b",
   "metadata": {},
   "outputs": [
    {
     "name": "stdout",
     "output_type": "stream",
     "text": [
      "0.7469585642013973\n",
      "ROC_AUC Score: 0.8322168775699981\n"
     ]
    }
   ],
   "source": [
    "RF_model = RandomForestClassifier(criterion='gini',random_state=42,max_depth=46,min_samples_leaf=10)\n",
    "RF_model=RF_model.fit(X_train_final, Ytrain_sm)\n",
    "y_pred = RF_model.predict(X_test_final)\n",
    "RF_probability = RF_model.predict_proba(X_test_final)[:,1]\n",
    "\n",
    "\n",
    "AUC_RF_final=roc_auc_score(y_test_sm, RF_model.predict_proba(X_test_final)[:, 1])\n",
    "acc_rf_final=accuracy_score(y_test_sm,y_pred)\n",
    "recall_rf_final=recall_score(y_test_sm,y_pred)\n",
    "precision_rf_final=precision_score(y_test_sm,y_pred)\n",
    "f1score_rf_final=f1_score(y_test_sm,y_pred)\n",
    "\n",
    "print(accuracy_score(y_pred,y_test_sm))\n",
    "print(\"ROC_AUC Score:\",AUC_RF_final)"
   ]
  },
  {
   "cell_type": "code",
   "execution_count": 127,
   "id": "f418f21c",
   "metadata": {},
   "outputs": [
    {
     "name": "stdout",
     "output_type": "stream",
     "text": [
      "Accuracy score for validation dataset is: 0.7173078370849959\n"
     ]
    }
   ],
   "source": [
    "# Validation data set accuracy\n",
    "Ycv_pred = RF_model.predict(Xcv_final)\n",
    "acc_rf_val_final = accuracy_score(Ycv_sm, Ycv_pred)\n",
    "print('Accuracy score for validation dataset is:',acc_rf_val_final)"
   ]
  },
  {
   "cell_type": "code",
   "execution_count": 128,
   "id": "c5fb236e",
   "metadata": {},
   "outputs": [
    {
     "name": "stdout",
     "output_type": "stream",
     "text": [
      "Cross Validation score for Random Forest: 0.7172325417129941\n"
     ]
    }
   ],
   "source": [
    "RF_cv_acc_final = cross_val_score(RF_model, X_train_final, Ytrain_sm, cv=cv, scoring='accuracy').mean()\n",
    "print(\"Cross Validation score for Random Forest:\", RF_cv_acc_final)"
   ]
  },
  {
   "cell_type": "code",
   "execution_count": 129,
   "id": "7d806c18",
   "metadata": {},
   "outputs": [
    {
     "name": "stdout",
     "output_type": "stream",
     "text": [
      "[[12516  4088]\n",
      " [ 4315 12289]]\n"
     ]
    },
    {
     "data": {
      "image/png": "[encoded data removed]",
      "text/plain": [
       "<Figure size 432x288 with 2 Axes>"
      ]
     },
     "metadata": {
      "needs_background": "light"
     },
     "output_type": "display_data"
    }
   ],
   "source": [
    "# Plot and print confusion matrix\n",
    "cnf_matrix = metrics.confusion_matrix(y_test_sm, y_pred)\n",
    "print(cnf_matrix)\n",
    "metrics.plot_confusion_matrix(RF_model, X_test_final, y_test_sm)\n",
    "plt.show()"
   ]
  },
  {
   "cell_type": "code",
   "execution_count": 130,
   "id": "a8c38e00",
   "metadata": {},
   "outputs": [
    {
     "data": {
      "image/png": "[encoded data removed]",
      "text/plain": [
       "<Figure size 432x288 with 1 Axes>"
      ]
     },
     "metadata": {
      "needs_background": "light"
     },
     "output_type": "display_data"
    }
   ],
   "source": [
    "fpr, tpr,_ = roc_curve(y_test_sm, RF_probability,)\n",
    "plt.title('Random Forest ROC curve')\n",
    "plt.xlabel('FPR (Precision)')\n",
    "plt.ylabel('TPR (Recall)')\n",
    "plt.plot(fpr,tpr)\n",
    "plt.plot((0,1), ls='dashed',color='black')\n",
    "plt.show()"
   ]
  },
  {
   "cell_type": "code",
   "execution_count": 131,
   "id": "53df4b42",
   "metadata": {},
   "outputs": [
    {
     "name": "stdout",
     "output_type": "stream",
     "text": [
      "              precision    recall  f1-score   support\n",
      "\n",
      "           0       0.74      0.75      0.75     16604\n",
      "           1       0.75      0.74      0.75     16604\n",
      "\n",
      "    accuracy                           0.75     33208\n",
      "   macro avg       0.75      0.75      0.75     33208\n",
      "weighted avg       0.75      0.75      0.75     33208\n",
      "\n"
     ]
    }
   ],
   "source": [
    "print(classification_report(y_test_sm, y_pred))"
   ]
  },
  {
   "cell_type": "markdown",
   "id": "29275fdc",
   "metadata": {},
   "source": [
    "# Model_3: XGBOOST"
   ]
  },
  {
   "cell_type": "code",
   "execution_count": 132,
   "id": "640f57c2",
   "metadata": {},
   "outputs": [
    {
     "name": "stdout",
     "output_type": "stream",
     "text": [
      "0.7674054444712117\n",
      "ROC_AUC Score: 0.8563743151725796\n"
     ]
    }
   ],
   "source": [
    "#Gradient Boosted Trees (GBT)\n",
    "XGB_model=XGBClassifier(random_state=42,eval_metric='mlogloss')\n",
    "XGB_model=XGB_model.fit(X_train_final, Ytrain_sm)\n",
    "y_predict = XGB_model.predict(X_test_final)\n",
    "XGB_probability = XGB_model.predict_proba(X_test_final)[:,1]\n",
    "\n",
    "acc_xgb_final=accuracy_score(y_test_sm,y_predict)\n",
    "recall_xgb_final=recall_score(y_test_sm,y_predict)\n",
    "precision_xgb_final=precision_score(y_test_sm,y_predict)\n",
    "f1score_xgb_final=f1_score(y_test_sm,y_predict)\n",
    "\n",
    "AUC_xgb_final=roc_auc_score(y_test_sm, XGB_model.predict_proba(X_test_final)[:, 1])\n",
    "\n",
    "\n",
    "print(accuracy_score(y_predict,y_test_sm))\n",
    "print(\"ROC_AUC Score:\",AUC_xgb_final)"
   ]
  },
  {
   "cell_type": "code",
   "execution_count": 133,
   "id": "5b05d8c2",
   "metadata": {},
   "outputs": [
    {
     "name": "stdout",
     "output_type": "stream",
     "text": [
      "Accuracy score for validation dataset is: 0.6978845140405029\n"
     ]
    }
   ],
   "source": [
    "# Validation data set accuracy\n",
    "Ycv_pred = XGB_model.predict(Xcv_final)\n",
    "acc_xgb_val_final = accuracy_score(Ycv_sm, Ycv_pred)\n",
    "print('Accuracy score for validation dataset is:',acc_xgb_val_final)"
   ]
  },
  {
   "cell_type": "code",
   "execution_count": 134,
   "id": "a994eb42",
   "metadata": {},
   "outputs": [
    {
     "name": "stdout",
     "output_type": "stream",
     "text": [
      "Cross Validation score for Random Forest: 0.7013726936437982\n"
     ]
    }
   ],
   "source": [
    "XGB_cv_acc_final = cross_val_score(XGB_model, X_train_final, Ytrain_sm, cv=cv, scoring='accuracy').mean()\n",
    "print(\"Cross Validation score for Random Forest:\", XGB_cv_acc_final)"
   ]
  },
  {
   "cell_type": "code",
   "execution_count": 135,
   "id": "a6ac259b",
   "metadata": {},
   "outputs": [
    {
     "name": "stdout",
     "output_type": "stream",
     "text": [
      "[[13131  3473]\n",
      " [ 4251 12353]]\n"
     ]
    },
    {
     "data": {
      "image/png": "[encoded data removed]",
      "text/plain": [
       "<Figure size 432x288 with 2 Axes>"
      ]
     },
     "metadata": {
      "needs_background": "light"
     },
     "output_type": "display_data"
    }
   ],
   "source": [
    "# Plot and print confusion matrix\n",
    "cnf_matrix = metrics.confusion_matrix(y_test_sm, y_predict)\n",
    "print(cnf_matrix)\n",
    "metrics.plot_confusion_matrix(XGB_model, X_test_final, y_test_sm)\n",
    "plt.show()"
   ]
  },
  {
   "cell_type": "code",
   "execution_count": 136,
   "id": "a967aa28",
   "metadata": {},
   "outputs": [
    {
     "data": {
      "image/png": "[encoded data removed]",
      "text/plain": [
       "<Figure size 432x288 with 1 Axes>"
      ]
     },
     "metadata": {
      "needs_background": "light"
     },
     "output_type": "display_data"
    }
   ],
   "source": [
    "fpr, tpr,_ = roc_curve(y_test_sm, XGB_probability,)\n",
    "plt.title('XGBOOST ROC curve')\n",
    "plt.xlabel('FPR (Precision)')\n",
    "plt.ylabel('TPR (Recall)')\n",
    "plt.plot(fpr,tpr)\n",
    "plt.plot((0,1), ls='dashed',color='black')\n",
    "plt.show()"
   ]
  },
  {
   "cell_type": "code",
   "execution_count": 137,
   "id": "d3d0e42c",
   "metadata": {},
   "outputs": [
    {
     "name": "stdout",
     "output_type": "stream",
     "text": [
      "              precision    recall  f1-score   support\n",
      "\n",
      "           0       0.76      0.79      0.77     16604\n",
      "           1       0.78      0.74      0.76     16604\n",
      "\n",
      "    accuracy                           0.77     33208\n",
      "   macro avg       0.77      0.77      0.77     33208\n",
      "weighted avg       0.77      0.77      0.77     33208\n",
      "\n"
     ]
    }
   ],
   "source": [
    "print(classification_report(y_test_sm, y_predict))"
   ]
  },
  {
   "cell_type": "code",
   "execution_count": 138,
   "id": "4024e8a2",
   "metadata": {},
   "outputs": [
    {
     "data": {
      "text/html": [
       "<div>\n",
       "<style scoped>\n",
       "    .dataframe tbody tr th:only-of-type {\n",
       "        vertical-align: middle;\n",
       "    }\n",
       "\n",
       "    .dataframe tbody tr th {\n",
       "        vertical-align: top;\n",
       "    }\n",
       "\n",
       "    .dataframe thead th {\n",
       "        text-align: right;\n",
       "    }\n",
       "</style>\n",
       "<table border=\"1\" class=\"dataframe\">\n",
       "  <thead>\n",
       "    <tr style=\"text-align: right;\">\n",
       "      <th></th>\n",
       "      <th>Recall</th>\n",
       "      <th>Precision</th>\n",
       "      <th>f1_score</th>\n",
       "      <th>ROC_AUC</th>\n",
       "      <th>Cross-Validation_Accuracy</th>\n",
       "      <th>Validation_Data_Accuracy</th>\n",
       "      <th>Test_Data_Accuracy</th>\n",
       "    </tr>\n",
       "  </thead>\n",
       "  <tbody>\n",
       "    <tr>\n",
       "      <th>Logistic regression Using Lasso</th>\n",
       "      <td>0.687967</td>\n",
       "      <td>0.778399</td>\n",
       "      <td>0.730394</td>\n",
       "      <td>0.831853</td>\n",
       "      <td>0.672698</td>\n",
       "      <td>0.667771</td>\n",
       "      <td>0.746055</td>\n",
       "    </tr>\n",
       "    <tr>\n",
       "      <th>Random forest</th>\n",
       "      <td>0.740123</td>\n",
       "      <td>0.750382</td>\n",
       "      <td>0.745217</td>\n",
       "      <td>0.832217</td>\n",
       "      <td>0.717233</td>\n",
       "      <td>0.717308</td>\n",
       "      <td>0.746959</td>\n",
       "    </tr>\n",
       "    <tr>\n",
       "      <th>XGBOOST</th>\n",
       "      <td>0.743977</td>\n",
       "      <td>0.780551</td>\n",
       "      <td>0.761825</td>\n",
       "      <td>0.856374</td>\n",
       "      <td>0.701373</td>\n",
       "      <td>0.697885</td>\n",
       "      <td>0.767405</td>\n",
       "    </tr>\n",
       "  </tbody>\n",
       "</table>\n",
       "</div>"
      ],
      "text/plain": [
       "                                   Recall  Precision  f1_score   ROC_AUC  \\\n",
       "Logistic regression Using Lasso  0.687967   0.778399  0.730394  0.831853   \n",
       "Random forest                    0.740123   0.750382  0.745217  0.832217   \n",
       "XGBOOST                          0.743977   0.780551  0.761825  0.856374   \n",
       "\n",
       "                                 Cross-Validation_Accuracy  \\\n",
       "Logistic regression Using Lasso                   0.672698   \n",
       "Random forest                                     0.717233   \n",
       "XGBOOST                                           0.701373   \n",
       "\n",
       "                                 Validation_Data_Accuracy  Test_Data_Accuracy  \n",
       "Logistic regression Using Lasso                  0.667771            0.746055  \n",
       "Random forest                                    0.717308            0.746959  \n",
       "XGBOOST                                          0.697885            0.767405  "
      ]
     },
     "execution_count": 138,
     "metadata": {},
     "output_type": "execute_result"
    }
   ],
   "source": [
    "row_name=['Logistic regression Using Lasso','Random forest','XGBOOST']\n",
    "columns_data={\"Recall\":[recall_lr_final,recall_rf_final,recall_xgb_final],\"Precision\":[precision_lr_final,precision_rf_final,precision_xgb_final],\n",
    "    'f1_score':[f1score_lr_final,f1score_rf_final,f1score_xgb_final],\"ROC_AUC\":[AUC_LR_final,AUC_RF_final,AUC_xgb_final],\"Cross-Validation_Accuracy\":[lr_cv_acc_final,RF_cv_acc_final,XGB_cv_acc_final],\"Validation_Data_Accuracy\":[acc_lr_val_final,acc_rf_val_final,acc_xgb_val_final],\"Test_Data_Accuracy\":[acc_lr_final,acc_rf_final,acc_xgb_final]}\n",
    "Result_after_RFECVtuning=pd.DataFrame(data=columns_data,index=row_name)\n",
    "Result_after_RFECVtuning"
   ]
  },
  {
   "cell_type": "markdown",
   "id": "4164919d",
   "metadata": {},
   "source": [
    " "
   ]
  },
  {
   "cell_type": "markdown",
   "id": "9e529015",
   "metadata": {},
   "source": [
    "   "
   ]
  },
  {
   "cell_type": "markdown",
   "id": "82b77936",
   "metadata": {},
   "source": [
    "          "
   ]
  },
  {
   "cell_type": "markdown",
   "id": "2b2e3b7c",
   "metadata": {},
   "source": [
    "## Results without Feature selection(RFECV) & Hypertuning"
   ]
  },
  {
   "cell_type": "code",
   "execution_count": 139,
   "id": "04341f7e",
   "metadata": {},
   "outputs": [
    {
     "data": {
      "text/html": [
       "<div>\n",
       "<style scoped>\n",
       "    .dataframe tbody tr th:only-of-type {\n",
       "        vertical-align: middle;\n",
       "    }\n",
       "\n",
       "    .dataframe tbody tr th {\n",
       "        vertical-align: top;\n",
       "    }\n",
       "\n",
       "    .dataframe thead th {\n",
       "        text-align: right;\n",
       "    }\n",
       "</style>\n",
       "<table border=\"1\" class=\"dataframe\">\n",
       "  <thead>\n",
       "    <tr style=\"text-align: right;\">\n",
       "      <th></th>\n",
       "      <th>Recall</th>\n",
       "      <th>Precision</th>\n",
       "      <th>f1_score</th>\n",
       "      <th>ROC_AUC</th>\n",
       "      <th>Cross-Validation_Accuracy</th>\n",
       "      <th>Validation_Data_Accuracy</th>\n",
       "      <th>Test_Data_Accuracy</th>\n",
       "    </tr>\n",
       "  </thead>\n",
       "  <tbody>\n",
       "    <tr>\n",
       "      <th>Logistic regression Using Lasso</th>\n",
       "      <td>0.691038</td>\n",
       "      <td>0.780704</td>\n",
       "      <td>0.733140</td>\n",
       "      <td>0.835958</td>\n",
       "      <td>0.674638</td>\n",
       "      <td>0.670707</td>\n",
       "      <td>0.748464</td>\n",
       "    </tr>\n",
       "    <tr>\n",
       "      <th>Random forest</th>\n",
       "      <td>0.751445</td>\n",
       "      <td>0.727056</td>\n",
       "      <td>0.739049</td>\n",
       "      <td>0.816431</td>\n",
       "      <td>0.735560</td>\n",
       "      <td>0.746443</td>\n",
       "      <td>0.734672</td>\n",
       "    </tr>\n",
       "    <tr>\n",
       "      <th>XGBOOST</th>\n",
       "      <td>0.743496</td>\n",
       "      <td>0.784806</td>\n",
       "      <td>0.763593</td>\n",
       "      <td>0.858176</td>\n",
       "      <td>0.703782</td>\n",
       "      <td>0.699315</td>\n",
       "      <td>0.769815</td>\n",
       "    </tr>\n",
       "  </tbody>\n",
       "</table>\n",
       "</div>"
      ],
      "text/plain": [
       "                                   Recall  Precision  f1_score   ROC_AUC  \\\n",
       "Logistic regression Using Lasso  0.691038   0.780704  0.733140  0.835958   \n",
       "Random forest                    0.751445   0.727056  0.739049  0.816431   \n",
       "XGBOOST                          0.743496   0.784806  0.763593  0.858176   \n",
       "\n",
       "                                 Cross-Validation_Accuracy  \\\n",
       "Logistic regression Using Lasso                   0.674638   \n",
       "Random forest                                     0.735560   \n",
       "XGBOOST                                           0.703782   \n",
       "\n",
       "                                 Validation_Data_Accuracy  Test_Data_Accuracy  \n",
       "Logistic regression Using Lasso                  0.670707            0.748464  \n",
       "Random forest                                    0.746443            0.734672  \n",
       "XGBOOST                                          0.699315            0.769815  "
      ]
     },
     "execution_count": 139,
     "metadata": {},
     "output_type": "execute_result"
    }
   ],
   "source": [
    "Result_before_tuning"
   ]
  },
  {
   "cell_type": "markdown",
   "id": "e2c06874",
   "metadata": {},
   "source": [
    "## Results with Feature selection(RFECV) & Hypertuning"
   ]
  },
  {
   "cell_type": "code",
   "execution_count": 140,
   "id": "4d42d3ac",
   "metadata": {},
   "outputs": [
    {
     "data": {
      "text/html": [
       "<div>\n",
       "<style scoped>\n",
       "    .dataframe tbody tr th:only-of-type {\n",
       "        vertical-align: middle;\n",
       "    }\n",
       "\n",
       "    .dataframe tbody tr th {\n",
       "        vertical-align: top;\n",
       "    }\n",
       "\n",
       "    .dataframe thead th {\n",
       "        text-align: right;\n",
       "    }\n",
       "</style>\n",
       "<table border=\"1\" class=\"dataframe\">\n",
       "  <thead>\n",
       "    <tr style=\"text-align: right;\">\n",
       "      <th></th>\n",
       "      <th>Recall</th>\n",
       "      <th>Precision</th>\n",
       "      <th>f1_score</th>\n",
       "      <th>ROC_AUC</th>\n",
       "      <th>Cross-Validation_Accuracy</th>\n",
       "      <th>Validation_Data_Accuracy</th>\n",
       "      <th>Test_Data_Accuracy</th>\n",
       "    </tr>\n",
       "  </thead>\n",
       "  <tbody>\n",
       "    <tr>\n",
       "      <th>Logistic regression Using Lasso</th>\n",
       "      <td>0.687967</td>\n",
       "      <td>0.778399</td>\n",
       "      <td>0.730394</td>\n",
       "      <td>0.831853</td>\n",
       "      <td>0.672698</td>\n",
       "      <td>0.667771</td>\n",
       "      <td>0.746055</td>\n",
       "    </tr>\n",
       "    <tr>\n",
       "      <th>Random forest</th>\n",
       "      <td>0.740123</td>\n",
       "      <td>0.750382</td>\n",
       "      <td>0.745217</td>\n",
       "      <td>0.832217</td>\n",
       "      <td>0.717233</td>\n",
       "      <td>0.717308</td>\n",
       "      <td>0.746959</td>\n",
       "    </tr>\n",
       "    <tr>\n",
       "      <th>XGBOOST</th>\n",
       "      <td>0.743977</td>\n",
       "      <td>0.780551</td>\n",
       "      <td>0.761825</td>\n",
       "      <td>0.856374</td>\n",
       "      <td>0.701373</td>\n",
       "      <td>0.697885</td>\n",
       "      <td>0.767405</td>\n",
       "    </tr>\n",
       "  </tbody>\n",
       "</table>\n",
       "</div>"
      ],
      "text/plain": [
       "                                   Recall  Precision  f1_score   ROC_AUC  \\\n",
       "Logistic regression Using Lasso  0.687967   0.778399  0.730394  0.831853   \n",
       "Random forest                    0.740123   0.750382  0.745217  0.832217   \n",
       "XGBOOST                          0.743977   0.780551  0.761825  0.856374   \n",
       "\n",
       "                                 Cross-Validation_Accuracy  \\\n",
       "Logistic regression Using Lasso                   0.672698   \n",
       "Random forest                                     0.717233   \n",
       "XGBOOST                                           0.701373   \n",
       "\n",
       "                                 Validation_Data_Accuracy  Test_Data_Accuracy  \n",
       "Logistic regression Using Lasso                  0.667771            0.746055  \n",
       "Random forest                                    0.717308            0.746959  \n",
       "XGBOOST                                          0.697885            0.767405  "
      ]
     },
     "execution_count": 140,
     "metadata": {},
     "output_type": "execute_result"
    }
   ],
   "source": [
    "Result_after_RFECVtuning"
   ]
  },
  {
   "cell_type": "markdown",
   "id": "d8808187",
   "metadata": {},
   "source": [
    "# Model_selection and Conclusion"
   ]
  },
  {
   "cell_type": "markdown",
   "id": "b19d9da8",
   "metadata": {},
   "source": [
    "### Summary:\n",
    "> ### 1. Logistic regression Using Lasso model, neither have improved much nor has good recall value & accuracies comapred to how other model/algorithms have performed. Hence Logistic regression Using Lasso is not recommended for Click Through Rate Prediction business analysis.\n",
    "\n",
    "> ### 2. Between Random forest & XGBOOST models,\n",
    ">> ### a. For Random forest - recall value, cross_validation_accuracy, validation dataset accuracy decreaded by 1% - 2 %, which is significantely small and also on the other hand ROC_AUC, f1_score, Precision & Test_dataset_accuracy increased by 1% - 2 %. Hence not much of a change\n",
    ">> ### b. for XGBOOST - All metric have remained same even after Feature selection(RFECV) & Hypertuning, also to note it has the highest ROC_AUC, Recall, Precision and Test_data_accuracy. \n",
    "\n",
    "## Model_Selected: XGBOOST\n",
    "\n",
    "> ## Reasons:\n",
    "\n",
    ">> 1. Out of all 3 algorithms(models), we see that Recall & Precision values are highest for XGBOOST.\n",
    "\n",
    ">>> a. As mentioned earlier a good Recall value is very important because, Recall value is calculated as the ratio between the numbers of Positive samples correctly classified as Positive to the total number of Positive samples. The recall measures the model's ability to detect positive samples. The higher the recall, the more positive samples detected.\n",
    "\n",
    ">>> b. Also a good Precision tells how good the model is at predicting a specific category.\n",
    "\n",
    ">> 2. As earlier mention on why XGBOOST was selected above ADABOOST, because it can handle noisy data gracefully during analysis.since we made use of SMOTE to overcome imbalance dataset issue on minority class, though SMOTE is good on restricting overfitting but it add's some noise, hence XGBOOST is good to handle this situation.\n",
    "\n",
    ">> 3. When we did Recursive Feature Elimination, Cross-Validated (RFECV) & some stats techniques (P-val & VIF) to drill down to 56 columns from 63 that we got after Recursive Feature Elimination, Cross-Validated (RFECV). We can still drilldown to much lower number of feature by looking at corelationship table and VIF(based on business need). In this situation when we are not completely accurate on number of features which we may add or subtract by using other feature selection techniques, XGBOOST works well, since apart from handling noisy data , handling change in features is also one of the advantages of XGBOOST.This is the exact reason we saw that our accuracies did not fell after we applied Feature Elimination, Cross-Validated (RFECV) selected features.\n",
    "\n"
   ]
  },
  {
   "cell_type": "markdown",
   "id": "f382217f",
   "metadata": {},
   "source": [
    "------------------------------------------------------------------------------------------ END ----------------------------------------------------------------------------------------------------------"
   ]
  },
  {
   "cell_type": "markdown",
   "id": "c823922c",
   "metadata": {},
   "source": [
    "### NOTE: The Entire Notebook would approximately take 1 hr 20 min to execute (depending upon system config)"
   ]
  }
 ],
 "metadata": {
  "kernelspec": {
   "display_name": "Python 3",
   "language": "python",
   "name": "python3"
  },
  "language_info": {
   "codemirror_mode": {
    "name": "ipython",
    "version": 3
   },
   "file_extension": ".py",
   "mimetype": "text/x-python",
   "name": "python",
   "nbconvert_exporter": "python",
   "pygments_lexer": "ipython3",
   "version": "3.8.8"
  }
 },
 "nbformat": 4,
 "nbformat_minor": 5
}
